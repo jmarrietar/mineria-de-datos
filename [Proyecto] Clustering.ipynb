{
  "nbformat": 4,
  "nbformat_minor": 0,
  "metadata": {
    "colab": {
      "name": "[Proyecto] Clustering.ipynb",
      "provenance": [],
      "include_colab_link": true
    },
    "kernelspec": {
      "name": "python3",
      "display_name": "Python 3"
    },
    "language_info": {
      "name": "python"
    }
  },
  "cells": [
    {
      "cell_type": "markdown",
      "metadata": {
        "id": "view-in-github",
        "colab_type": "text"
      },
      "source": [
        "<a href=\"https://colab.research.google.com/github/jmarrietar/mineria-de-datos/blob/main/%5BProyecto%5D%20Clustering.ipynb\" target=\"_parent\"><img src=\"https://colab.research.google.com/assets/colab-badge.svg\" alt=\"Open In Colab\"/></a>"
      ]
    },
    {
      "cell_type": "markdown",
      "metadata": {
        "id": "bE2Sz9nYyweC"
      },
      "source": [
        "# Clustering \n",
        "\n",
        "TO DO: Dividir esta parte en dos: \n",
        "\n",
        "1. Clustering de Categorias (usando embeddings de los productos) y despues abajo clustering de los usuarios( Basado en lo que compran). "
      ]
    },
    {
      "cell_type": "code",
      "metadata": {
        "id": "hZL8s9CBy_T7"
      },
      "source": [
        ""
      ],
      "execution_count": null,
      "outputs": []
    },
    {
      "cell_type": "markdown",
      "metadata": {
        "id": "sFq2dFvjKGWB"
      },
      "source": [
        "# Clustering "
      ]
    },
    {
      "cell_type": "markdown",
      "metadata": {
        "id": "E3kig1gVidST"
      },
      "source": [
        "En la primera parte de este proyecto, se realizarán clusters o grupos de usuarios dependiendo de las compras realizadas. En la segunda sección se realizará un análisis de asociación con el cual se crearán reglas útiles para recomendar. "
      ]
    },
    {
      "cell_type": "code",
      "metadata": {
        "id": "nnEcK3SthJTj"
      },
      "source": [
        "import pandas as pd\n",
        "import matplotlib.pyplot as plt\n",
        "from matplotlib.ticker import FuncFormatter\n",
        "import pandas as pd\n",
        "import numpy as np\n",
        "import seaborn as sns\n",
        "from os import path\n",
        "from PIL import Image\n",
        "\n",
        "import gdown\n",
        "import matplotlib.pyplot as plt\n",
        "% matplotlib inline\n",
        "\n",
        "pd.set_option('display.max_rows', 100)"
      ],
      "execution_count": null,
      "outputs": []
    },
    {
      "cell_type": "code",
      "metadata": {
        "colab": {
          "base_uri": "https://localhost:8080/"
        },
        "id": "6rATDp4DilZN",
        "outputId": "626eacda-3d5a-4ff2-a0f6-abc7ad973641"
      },
      "source": [
        "!gdown https://drive.google.com/uc?id=1_AJd_FiQ6LSWSK4e__ccfLzhu_sWWNUS"
      ],
      "execution_count": null,
      "outputs": [
        {
          "output_type": "stream",
          "text": [
            "Downloading...\n",
            "From: https://drive.google.com/uc?id=1_AJd_FiQ6LSWSK4e__ccfLzhu_sWWNUS\n",
            "To: /content/OnlineRetail.csv\n",
            "45.6MB [00:00, 47.2MB/s]\n"
          ],
          "name": "stdout"
        }
      ]
    },
    {
      "cell_type": "code",
      "metadata": {
        "id": "h2xiT8vLinoD"
      },
      "source": [
        "online_retail = pd.read_csv(\n",
        "    \"OnlineRetail.csv\",\n",
        "    sep=\",\",\n",
        "    dtype={\"CustomerID\": \"object\"},\n",
        "    encoding=\"unicode_escape\",\n",
        ")"
      ],
      "execution_count": null,
      "outputs": []
    },
    {
      "cell_type": "code",
      "metadata": {
        "colab": {
          "base_uri": "https://localhost:8080/",
          "height": 204
        },
        "id": "02F1WVAOiuZ4",
        "outputId": "bff5025f-cdf6-4f57-fcf7-3dd185230e21"
      },
      "source": [
        "online_retail.head()"
      ],
      "execution_count": null,
      "outputs": [
        {
          "output_type": "execute_result",
          "data": {
            "text/html": [
              "<div>\n",
              "<style scoped>\n",
              "    .dataframe tbody tr th:only-of-type {\n",
              "        vertical-align: middle;\n",
              "    }\n",
              "\n",
              "    .dataframe tbody tr th {\n",
              "        vertical-align: top;\n",
              "    }\n",
              "\n",
              "    .dataframe thead th {\n",
              "        text-align: right;\n",
              "    }\n",
              "</style>\n",
              "<table border=\"1\" class=\"dataframe\">\n",
              "  <thead>\n",
              "    <tr style=\"text-align: right;\">\n",
              "      <th></th>\n",
              "      <th>InvoiceNo</th>\n",
              "      <th>StockCode</th>\n",
              "      <th>Description</th>\n",
              "      <th>Quantity</th>\n",
              "      <th>InvoiceDate</th>\n",
              "      <th>UnitPrice</th>\n",
              "      <th>CustomerID</th>\n",
              "      <th>Country</th>\n",
              "    </tr>\n",
              "  </thead>\n",
              "  <tbody>\n",
              "    <tr>\n",
              "      <th>0</th>\n",
              "      <td>536365</td>\n",
              "      <td>85123A</td>\n",
              "      <td>WHITE HANGING HEART T-LIGHT HOLDER</td>\n",
              "      <td>6</td>\n",
              "      <td>12/1/2010 8:26</td>\n",
              "      <td>2.55</td>\n",
              "      <td>17850</td>\n",
              "      <td>United Kingdom</td>\n",
              "    </tr>\n",
              "    <tr>\n",
              "      <th>1</th>\n",
              "      <td>536365</td>\n",
              "      <td>71053</td>\n",
              "      <td>WHITE METAL LANTERN</td>\n",
              "      <td>6</td>\n",
              "      <td>12/1/2010 8:26</td>\n",
              "      <td>3.39</td>\n",
              "      <td>17850</td>\n",
              "      <td>United Kingdom</td>\n",
              "    </tr>\n",
              "    <tr>\n",
              "      <th>2</th>\n",
              "      <td>536365</td>\n",
              "      <td>84406B</td>\n",
              "      <td>CREAM CUPID HEARTS COAT HANGER</td>\n",
              "      <td>8</td>\n",
              "      <td>12/1/2010 8:26</td>\n",
              "      <td>2.75</td>\n",
              "      <td>17850</td>\n",
              "      <td>United Kingdom</td>\n",
              "    </tr>\n",
              "    <tr>\n",
              "      <th>3</th>\n",
              "      <td>536365</td>\n",
              "      <td>84029G</td>\n",
              "      <td>KNITTED UNION FLAG HOT WATER BOTTLE</td>\n",
              "      <td>6</td>\n",
              "      <td>12/1/2010 8:26</td>\n",
              "      <td>3.39</td>\n",
              "      <td>17850</td>\n",
              "      <td>United Kingdom</td>\n",
              "    </tr>\n",
              "    <tr>\n",
              "      <th>4</th>\n",
              "      <td>536365</td>\n",
              "      <td>84029E</td>\n",
              "      <td>RED WOOLLY HOTTIE WHITE HEART.</td>\n",
              "      <td>6</td>\n",
              "      <td>12/1/2010 8:26</td>\n",
              "      <td>3.39</td>\n",
              "      <td>17850</td>\n",
              "      <td>United Kingdom</td>\n",
              "    </tr>\n",
              "  </tbody>\n",
              "</table>\n",
              "</div>"
            ],
            "text/plain": [
              "  InvoiceNo StockCode  ... CustomerID         Country\n",
              "0    536365    85123A  ...      17850  United Kingdom\n",
              "1    536365     71053  ...      17850  United Kingdom\n",
              "2    536365    84406B  ...      17850  United Kingdom\n",
              "3    536365    84029G  ...      17850  United Kingdom\n",
              "4    536365    84029E  ...      17850  United Kingdom\n",
              "\n",
              "[5 rows x 8 columns]"
            ]
          },
          "metadata": {
            "tags": []
          },
          "execution_count": 20
        }
      ]
    },
    {
      "cell_type": "code",
      "metadata": {
        "colab": {
          "base_uri": "https://localhost:8080/",
          "height": 419
        },
        "id": "D2QZ-aM1ivKL",
        "outputId": "0bdcdd8a-a1a5-4c23-e3e8-0e839158df0b"
      },
      "source": [
        "online_retail[[\"InvoiceNo\",\"CustomerID\", \"StockCode\", \"Description\"]]"
      ],
      "execution_count": null,
      "outputs": [
        {
          "output_type": "execute_result",
          "data": {
            "text/html": [
              "<div>\n",
              "<style scoped>\n",
              "    .dataframe tbody tr th:only-of-type {\n",
              "        vertical-align: middle;\n",
              "    }\n",
              "\n",
              "    .dataframe tbody tr th {\n",
              "        vertical-align: top;\n",
              "    }\n",
              "\n",
              "    .dataframe thead th {\n",
              "        text-align: right;\n",
              "    }\n",
              "</style>\n",
              "<table border=\"1\" class=\"dataframe\">\n",
              "  <thead>\n",
              "    <tr style=\"text-align: right;\">\n",
              "      <th></th>\n",
              "      <th>InvoiceNo</th>\n",
              "      <th>CustomerID</th>\n",
              "      <th>StockCode</th>\n",
              "      <th>Description</th>\n",
              "    </tr>\n",
              "  </thead>\n",
              "  <tbody>\n",
              "    <tr>\n",
              "      <th>0</th>\n",
              "      <td>536365</td>\n",
              "      <td>17850</td>\n",
              "      <td>85123A</td>\n",
              "      <td>WHITE HANGING HEART T-LIGHT HOLDER</td>\n",
              "    </tr>\n",
              "    <tr>\n",
              "      <th>1</th>\n",
              "      <td>536365</td>\n",
              "      <td>17850</td>\n",
              "      <td>71053</td>\n",
              "      <td>WHITE METAL LANTERN</td>\n",
              "    </tr>\n",
              "    <tr>\n",
              "      <th>2</th>\n",
              "      <td>536365</td>\n",
              "      <td>17850</td>\n",
              "      <td>84406B</td>\n",
              "      <td>CREAM CUPID HEARTS COAT HANGER</td>\n",
              "    </tr>\n",
              "    <tr>\n",
              "      <th>3</th>\n",
              "      <td>536365</td>\n",
              "      <td>17850</td>\n",
              "      <td>84029G</td>\n",
              "      <td>KNITTED UNION FLAG HOT WATER BOTTLE</td>\n",
              "    </tr>\n",
              "    <tr>\n",
              "      <th>4</th>\n",
              "      <td>536365</td>\n",
              "      <td>17850</td>\n",
              "      <td>84029E</td>\n",
              "      <td>RED WOOLLY HOTTIE WHITE HEART.</td>\n",
              "    </tr>\n",
              "    <tr>\n",
              "      <th>...</th>\n",
              "      <td>...</td>\n",
              "      <td>...</td>\n",
              "      <td>...</td>\n",
              "      <td>...</td>\n",
              "    </tr>\n",
              "    <tr>\n",
              "      <th>541904</th>\n",
              "      <td>581587</td>\n",
              "      <td>12680</td>\n",
              "      <td>22613</td>\n",
              "      <td>PACK OF 20 SPACEBOY NAPKINS</td>\n",
              "    </tr>\n",
              "    <tr>\n",
              "      <th>541905</th>\n",
              "      <td>581587</td>\n",
              "      <td>12680</td>\n",
              "      <td>22899</td>\n",
              "      <td>CHILDREN'S APRON DOLLY GIRL</td>\n",
              "    </tr>\n",
              "    <tr>\n",
              "      <th>541906</th>\n",
              "      <td>581587</td>\n",
              "      <td>12680</td>\n",
              "      <td>23254</td>\n",
              "      <td>CHILDRENS CUTLERY DOLLY GIRL</td>\n",
              "    </tr>\n",
              "    <tr>\n",
              "      <th>541907</th>\n",
              "      <td>581587</td>\n",
              "      <td>12680</td>\n",
              "      <td>23255</td>\n",
              "      <td>CHILDRENS CUTLERY CIRCUS PARADE</td>\n",
              "    </tr>\n",
              "    <tr>\n",
              "      <th>541908</th>\n",
              "      <td>581587</td>\n",
              "      <td>12680</td>\n",
              "      <td>22138</td>\n",
              "      <td>BAKING SET 9 PIECE RETROSPOT</td>\n",
              "    </tr>\n",
              "  </tbody>\n",
              "</table>\n",
              "<p>541909 rows × 4 columns</p>\n",
              "</div>"
            ],
            "text/plain": [
              "       InvoiceNo CustomerID StockCode                          Description\n",
              "0         536365      17850    85123A   WHITE HANGING HEART T-LIGHT HOLDER\n",
              "1         536365      17850     71053                  WHITE METAL LANTERN\n",
              "2         536365      17850    84406B       CREAM CUPID HEARTS COAT HANGER\n",
              "3         536365      17850    84029G  KNITTED UNION FLAG HOT WATER BOTTLE\n",
              "4         536365      17850    84029E       RED WOOLLY HOTTIE WHITE HEART.\n",
              "...          ...        ...       ...                                  ...\n",
              "541904    581587      12680     22613          PACK OF 20 SPACEBOY NAPKINS\n",
              "541905    581587      12680     22899         CHILDREN'S APRON DOLLY GIRL \n",
              "541906    581587      12680     23254        CHILDRENS CUTLERY DOLLY GIRL \n",
              "541907    581587      12680     23255      CHILDRENS CUTLERY CIRCUS PARADE\n",
              "541908    581587      12680     22138        BAKING SET 9 PIECE RETROSPOT \n",
              "\n",
              "[541909 rows x 4 columns]"
            ]
          },
          "metadata": {
            "tags": []
          },
          "execution_count": 21
        }
      ]
    },
    {
      "cell_type": "markdown",
      "metadata": {
        "id": "Bb7mI79G5h7e"
      },
      "source": [
        "se utilizará la librería `gensim` para crear los embedding de los ítems con un modelo pre-entrenado "
      ]
    },
    {
      "cell_type": "code",
      "metadata": {
        "colab": {
          "base_uri": "https://localhost:8080/"
        },
        "id": "oKeczKSYjBJo",
        "outputId": "b795a009-3605-441a-c3dc-463f9bb27dd5"
      },
      "source": [
        "!pip install gensim"
      ],
      "execution_count": null,
      "outputs": [
        {
          "output_type": "stream",
          "text": [
            "Requirement already satisfied: gensim in /usr/local/lib/python3.7/dist-packages (3.6.0)\n",
            "Requirement already satisfied: six>=1.5.0 in /usr/local/lib/python3.7/dist-packages (from gensim) (1.15.0)\n",
            "Requirement already satisfied: scipy>=0.18.1 in /usr/local/lib/python3.7/dist-packages (from gensim) (1.4.1)\n",
            "Requirement already satisfied: numpy>=1.11.3 in /usr/local/lib/python3.7/dist-packages (from gensim) (1.19.5)\n",
            "Requirement already satisfied: smart-open>=1.2.1 in /usr/local/lib/python3.7/dist-packages (from gensim) (4.2.0)\n"
          ],
          "name": "stdout"
        }
      ]
    },
    {
      "cell_type": "code",
      "metadata": {
        "id": "FdolqhWH-bg1"
      },
      "source": [
        "import gensim.downloader\n",
        "import gensim\n",
        "from gensim.models import Word2Vec\n",
        "from gensim.models.keyedvectors import KeyedVectors"
      ],
      "execution_count": null,
      "outputs": []
    },
    {
      "cell_type": "code",
      "metadata": {
        "colab": {
          "base_uri": "https://localhost:8080/"
        },
        "id": "4s9G-VXN-xgO",
        "outputId": "b99043d8-4ad4-49f2-9bb8-245da397c813"
      },
      "source": [
        "print(list(gensim.downloader.info()['models'].keys()))"
      ],
      "execution_count": null,
      "outputs": [
        {
          "output_type": "stream",
          "text": [
            "['fasttext-wiki-news-subwords-300', 'conceptnet-numberbatch-17-06-300', 'word2vec-ruscorpora-300', 'word2vec-google-news-300', 'glove-wiki-gigaword-50', 'glove-wiki-gigaword-100', 'glove-wiki-gigaword-200', 'glove-wiki-gigaword-300', 'glove-twitter-25', 'glove-twitter-50', 'glove-twitter-100', 'glove-twitter-200', '__testing_word2vec-matrix-synopsis']\n"
          ],
          "name": "stdout"
        }
      ]
    },
    {
      "cell_type": "code",
      "metadata": {
        "colab": {
          "base_uri": "https://localhost:8080/"
        },
        "id": "95s5NUVX-26o",
        "outputId": "5ed35e22-5e53-422e-9a71-02cae2e15be9"
      },
      "source": [
        "glove_vectors = gensim.downloader.load('glove-twitter-25')"
      ],
      "execution_count": null,
      "outputs": [
        {
          "output_type": "stream",
          "text": [
            "[==================================================] 100.0% 104.8/104.8MB downloaded\n"
          ],
          "name": "stdout"
        }
      ]
    },
    {
      "cell_type": "code",
      "metadata": {
        "colab": {
          "base_uri": "https://localhost:8080/"
        },
        "id": "tUPJeKq8Ah0N",
        "outputId": "87b6389a-eafd-4718-9669-53b72971db9c"
      },
      "source": [
        "!pip install spacy"
      ],
      "execution_count": null,
      "outputs": [
        {
          "output_type": "stream",
          "text": [
            "Requirement already satisfied: spacy in /usr/local/lib/python3.7/dist-packages (2.2.4)\n",
            "Requirement already satisfied: catalogue<1.1.0,>=0.0.7 in /usr/local/lib/python3.7/dist-packages (from spacy) (1.0.0)\n",
            "Requirement already satisfied: murmurhash<1.1.0,>=0.28.0 in /usr/local/lib/python3.7/dist-packages (from spacy) (1.0.5)\n",
            "Requirement already satisfied: numpy>=1.15.0 in /usr/local/lib/python3.7/dist-packages (from spacy) (1.19.5)\n",
            "Requirement already satisfied: blis<0.5.0,>=0.4.0 in /usr/local/lib/python3.7/dist-packages (from spacy) (0.4.1)\n",
            "Requirement already satisfied: requests<3.0.0,>=2.13.0 in /usr/local/lib/python3.7/dist-packages (from spacy) (2.23.0)\n",
            "Requirement already satisfied: tqdm<5.0.0,>=4.38.0 in /usr/local/lib/python3.7/dist-packages (from spacy) (4.41.1)\n",
            "Requirement already satisfied: cymem<2.1.0,>=2.0.2 in /usr/local/lib/python3.7/dist-packages (from spacy) (2.0.5)\n",
            "Requirement already satisfied: plac<1.2.0,>=0.9.6 in /usr/local/lib/python3.7/dist-packages (from spacy) (1.1.3)\n",
            "Requirement already satisfied: wasabi<1.1.0,>=0.4.0 in /usr/local/lib/python3.7/dist-packages (from spacy) (0.8.2)\n",
            "Requirement already satisfied: setuptools in /usr/local/lib/python3.7/dist-packages (from spacy) (54.2.0)\n",
            "Requirement already satisfied: srsly<1.1.0,>=1.0.2 in /usr/local/lib/python3.7/dist-packages (from spacy) (1.0.5)\n",
            "Requirement already satisfied: preshed<3.1.0,>=3.0.2 in /usr/local/lib/python3.7/dist-packages (from spacy) (3.0.5)\n",
            "Requirement already satisfied: thinc==7.4.0 in /usr/local/lib/python3.7/dist-packages (from spacy) (7.4.0)\n",
            "Requirement already satisfied: importlib-metadata>=0.20; python_version < \"3.8\" in /usr/local/lib/python3.7/dist-packages (from catalogue<1.1.0,>=0.0.7->spacy) (3.8.1)\n",
            "Requirement already satisfied: urllib3!=1.25.0,!=1.25.1,<1.26,>=1.21.1 in /usr/local/lib/python3.7/dist-packages (from requests<3.0.0,>=2.13.0->spacy) (1.24.3)\n",
            "Requirement already satisfied: certifi>=2017.4.17 in /usr/local/lib/python3.7/dist-packages (from requests<3.0.0,>=2.13.0->spacy) (2020.12.5)\n",
            "Requirement already satisfied: idna<3,>=2.5 in /usr/local/lib/python3.7/dist-packages (from requests<3.0.0,>=2.13.0->spacy) (2.10)\n",
            "Requirement already satisfied: chardet<4,>=3.0.2 in /usr/local/lib/python3.7/dist-packages (from requests<3.0.0,>=2.13.0->spacy) (3.0.4)\n",
            "Requirement already satisfied: zipp>=0.5 in /usr/local/lib/python3.7/dist-packages (from importlib-metadata>=0.20; python_version < \"3.8\"->catalogue<1.1.0,>=0.0.7->spacy) (3.4.1)\n",
            "Requirement already satisfied: typing-extensions>=3.6.4; python_version < \"3.8\" in /usr/local/lib/python3.7/dist-packages (from importlib-metadata>=0.20; python_version < \"3.8\"->catalogue<1.1.0,>=0.0.7->spacy) (3.7.4.3)\n"
          ],
          "name": "stdout"
        }
      ]
    },
    {
      "cell_type": "code",
      "metadata": {
        "colab": {
          "base_uri": "https://localhost:8080/"
        },
        "id": "Gg9hZ2qGAl7V",
        "outputId": "e1648fdf-10b2-441d-dd88-6cea5b28a651"
      },
      "source": [
        "\"\"\"\n",
        "import spacy\n",
        "import en_core_web_sm\n",
        "nlp = en_core_web_sm.load()\n",
        "# process a sentence using the model\n",
        "doc = nlp(\"WHITE HANGING HEART T-LIGHT HOLDER\")\n",
        "\n",
        "# Get the mean vector for the entire sentence (useful for sentence classification etc.)\n",
        "doc.vector\n",
        "\"\"\""
      ],
      "execution_count": null,
      "outputs": [
        {
          "output_type": "execute_result",
          "data": {
            "text/plain": [
              "array([ 1.9967848 , -1.4163905 , -0.44339842,  1.8873357 ,  0.07041259,\n",
              "        2.7603605 ,  0.7227832 , -0.13723837,  1.9405673 ,  0.3631572 ,\n",
              "        0.79684937,  0.07103961,  0.38307762, -0.5002725 , -0.90071404,\n",
              "       -1.0240806 ,  0.5728866 ,  0.47602692,  0.532477  , -0.6861368 ,\n",
              "        1.6059672 , -0.3004579 ,  0.15289983, -1.2232068 , -1.2062243 ,\n",
              "       -0.99743205, -1.5930235 , -1.4195725 ,  1.5111408 , -0.37049612,\n",
              "        0.6031875 , -1.1509011 ,  1.0975993 , -1.2982472 , -1.4535283 ,\n",
              "       -2.1158073 ,  1.5569347 , -1.1844757 , -1.3063463 ,  0.91608506,\n",
              "        2.9898553 ,  0.5089108 ,  0.01338463, -2.492564  , -0.61593103,\n",
              "        0.39212388, -0.06552049,  0.32320324,  0.13534735,  0.728109  ,\n",
              "        0.09116479, -0.7228257 , -1.989006  , -1.7347662 , -0.51813513,\n",
              "        1.4201987 ,  0.7637191 ,  0.45090207,  0.0173033 ,  0.01277757,\n",
              "       -0.21423952,  0.30137056,  0.88427407,  1.5848936 ,  2.1028557 ,\n",
              "       -0.36031872,  0.85308075, -1.4747862 , -2.694639  ,  1.3462971 ,\n",
              "       -1.0285703 , -1.8867246 ,  1.7430675 ,  2.1096454 , -0.52732265,\n",
              "       -0.35279533,  1.1914984 , -0.26799265, -0.15492098, -1.1803006 ,\n",
              "        1.7582496 , -1.4841293 , -1.1322085 ,  0.14197609,  1.3643676 ,\n",
              "       -0.21933639,  1.0619085 , -0.5894011 , -1.0127827 , -0.57817024,\n",
              "        1.3213674 , -0.18666029, -0.85274947,  0.6471943 ,  3.1195304 ,\n",
              "        0.5011509 ], dtype=float32)"
            ]
          },
          "metadata": {
            "tags": []
          },
          "execution_count": 22
        }
      ]
    },
    {
      "cell_type": "code",
      "metadata": {
        "colab": {
          "base_uri": "https://localhost:8080/",
          "height": 419
        },
        "id": "5eeS_3hpB0lN",
        "outputId": "6f8ecc13-bd89-4566-e037-fa369026f1ff"
      },
      "source": [
        "online_retail[[\"InvoiceNo\",\"CustomerID\", \"StockCode\", \"Description\"]]"
      ],
      "execution_count": null,
      "outputs": [
        {
          "output_type": "execute_result",
          "data": {
            "text/html": [
              "<div>\n",
              "<style scoped>\n",
              "    .dataframe tbody tr th:only-of-type {\n",
              "        vertical-align: middle;\n",
              "    }\n",
              "\n",
              "    .dataframe tbody tr th {\n",
              "        vertical-align: top;\n",
              "    }\n",
              "\n",
              "    .dataframe thead th {\n",
              "        text-align: right;\n",
              "    }\n",
              "</style>\n",
              "<table border=\"1\" class=\"dataframe\">\n",
              "  <thead>\n",
              "    <tr style=\"text-align: right;\">\n",
              "      <th></th>\n",
              "      <th>InvoiceNo</th>\n",
              "      <th>CustomerID</th>\n",
              "      <th>StockCode</th>\n",
              "      <th>Description</th>\n",
              "    </tr>\n",
              "  </thead>\n",
              "  <tbody>\n",
              "    <tr>\n",
              "      <th>0</th>\n",
              "      <td>536365</td>\n",
              "      <td>17850</td>\n",
              "      <td>85123A</td>\n",
              "      <td>WHITE HANGING HEART T-LIGHT HOLDER</td>\n",
              "    </tr>\n",
              "    <tr>\n",
              "      <th>1</th>\n",
              "      <td>536365</td>\n",
              "      <td>17850</td>\n",
              "      <td>71053</td>\n",
              "      <td>WHITE METAL LANTERN</td>\n",
              "    </tr>\n",
              "    <tr>\n",
              "      <th>2</th>\n",
              "      <td>536365</td>\n",
              "      <td>17850</td>\n",
              "      <td>84406B</td>\n",
              "      <td>CREAM CUPID HEARTS COAT HANGER</td>\n",
              "    </tr>\n",
              "    <tr>\n",
              "      <th>3</th>\n",
              "      <td>536365</td>\n",
              "      <td>17850</td>\n",
              "      <td>84029G</td>\n",
              "      <td>KNITTED UNION FLAG HOT WATER BOTTLE</td>\n",
              "    </tr>\n",
              "    <tr>\n",
              "      <th>4</th>\n",
              "      <td>536365</td>\n",
              "      <td>17850</td>\n",
              "      <td>84029E</td>\n",
              "      <td>RED WOOLLY HOTTIE WHITE HEART.</td>\n",
              "    </tr>\n",
              "    <tr>\n",
              "      <th>...</th>\n",
              "      <td>...</td>\n",
              "      <td>...</td>\n",
              "      <td>...</td>\n",
              "      <td>...</td>\n",
              "    </tr>\n",
              "    <tr>\n",
              "      <th>541904</th>\n",
              "      <td>581587</td>\n",
              "      <td>12680</td>\n",
              "      <td>22613</td>\n",
              "      <td>PACK OF 20 SPACEBOY NAPKINS</td>\n",
              "    </tr>\n",
              "    <tr>\n",
              "      <th>541905</th>\n",
              "      <td>581587</td>\n",
              "      <td>12680</td>\n",
              "      <td>22899</td>\n",
              "      <td>CHILDREN'S APRON DOLLY GIRL</td>\n",
              "    </tr>\n",
              "    <tr>\n",
              "      <th>541906</th>\n",
              "      <td>581587</td>\n",
              "      <td>12680</td>\n",
              "      <td>23254</td>\n",
              "      <td>CHILDRENS CUTLERY DOLLY GIRL</td>\n",
              "    </tr>\n",
              "    <tr>\n",
              "      <th>541907</th>\n",
              "      <td>581587</td>\n",
              "      <td>12680</td>\n",
              "      <td>23255</td>\n",
              "      <td>CHILDRENS CUTLERY CIRCUS PARADE</td>\n",
              "    </tr>\n",
              "    <tr>\n",
              "      <th>541908</th>\n",
              "      <td>581587</td>\n",
              "      <td>12680</td>\n",
              "      <td>22138</td>\n",
              "      <td>BAKING SET 9 PIECE RETROSPOT</td>\n",
              "    </tr>\n",
              "  </tbody>\n",
              "</table>\n",
              "<p>541909 rows × 4 columns</p>\n",
              "</div>"
            ],
            "text/plain": [
              "       InvoiceNo CustomerID StockCode                          Description\n",
              "0         536365      17850    85123A   WHITE HANGING HEART T-LIGHT HOLDER\n",
              "1         536365      17850     71053                  WHITE METAL LANTERN\n",
              "2         536365      17850    84406B       CREAM CUPID HEARTS COAT HANGER\n",
              "3         536365      17850    84029G  KNITTED UNION FLAG HOT WATER BOTTLE\n",
              "4         536365      17850    84029E       RED WOOLLY HOTTIE WHITE HEART.\n",
              "...          ...        ...       ...                                  ...\n",
              "541904    581587      12680     22613          PACK OF 20 SPACEBOY NAPKINS\n",
              "541905    581587      12680     22899         CHILDREN'S APRON DOLLY GIRL \n",
              "541906    581587      12680     23254        CHILDRENS CUTLERY DOLLY GIRL \n",
              "541907    581587      12680     23255      CHILDRENS CUTLERY CIRCUS PARADE\n",
              "541908    581587      12680     22138        BAKING SET 9 PIECE RETROSPOT \n",
              "\n",
              "[541909 rows x 4 columns]"
            ]
          },
          "metadata": {
            "tags": []
          },
          "execution_count": 23
        }
      ]
    },
    {
      "cell_type": "code",
      "metadata": {
        "id": "Zspa9gd8CGyC"
      },
      "source": [
        "# ETA 2h aprox\n",
        "# To Do: Incluir tqm\n",
        "descriptor_embedding = []\n",
        "for index, row in online_retail.iterrows():\n",
        "    if row['Description'] is np.nan:\n",
        "        doc = nlp('out of vocab')\n",
        "    else:\n",
        "        doc = nlp(row['Description'])\n",
        "    descriptor_embedding.append(doc.vector)"
      ],
      "execution_count": null,
      "outputs": []
    },
    {
      "cell_type": "code",
      "metadata": {
        "colab": {
          "base_uri": "https://localhost:8080/"
        },
        "id": "EV7tQDNoERWt",
        "outputId": "14d0ea62-2a0e-4da6-87e2-6c61500d9728"
      },
      "source": [
        "len(descriptor_embedding)"
      ],
      "execution_count": null,
      "outputs": [
        {
          "output_type": "execute_result",
          "data": {
            "text/plain": [
              "541909"
            ]
          },
          "metadata": {
            "tags": []
          },
          "execution_count": 41
        }
      ]
    },
    {
      "cell_type": "code",
      "metadata": {
        "id": "oscuN0GuE3nH"
      },
      "source": [
        "col_names = [\"emb_\" + str(i) for i in range(0, 96)]"
      ],
      "execution_count": null,
      "outputs": []
    },
    {
      "cell_type": "code",
      "metadata": {
        "id": "oyk5vazZGwp1"
      },
      "source": [
        "embeddings = pd.DataFrame(descriptor_embedding, columns = col_names)"
      ],
      "execution_count": null,
      "outputs": []
    },
    {
      "cell_type": "code",
      "metadata": {
        "id": "6m188vcLdHza"
      },
      "source": [
        "purchase_embeddings = pd.concat([online_retail[[\"CustomerID\"]], embeddings], axis=1)"
      ],
      "execution_count": null,
      "outputs": []
    },
    {
      "cell_type": "code",
      "metadata": {
        "id": "KWYcZV9VDqDe"
      },
      "source": [
        "# Create user embedding with mean of their Items purchase \n",
        "user_embeddings = purchase_embeddings.groupby(\"CustomerID\").mean().reset_index()"
      ],
      "execution_count": null,
      "outputs": []
    },
    {
      "cell_type": "code",
      "metadata": {
        "id": "EP09cTDhdv5O"
      },
      "source": [
        "from sklearn import metrics, preprocessing\n",
        "from sklearn.cluster import KMeans\n",
        "from sklearn.manifold import TSNE"
      ],
      "execution_count": null,
      "outputs": []
    },
    {
      "cell_type": "code",
      "metadata": {
        "id": "66RojvctDmTf"
      },
      "source": [
        "# Normalize embeddings pre-clustering\n",
        "X_norm = preprocessing.normalize(user_embeddings.iloc[:,1:100])"
      ],
      "execution_count": null,
      "outputs": []
    },
    {
      "cell_type": "code",
      "metadata": {
        "id": "kEDqwCX3IX-6"
      },
      "source": [
        "from yellowbrick.cluster import KElbowVisualizer\n",
        "#plot_elbow(X_norm) # TO DO "
      ],
      "execution_count": null,
      "outputs": []
    },
    {
      "cell_type": "code",
      "metadata": {
        "id": "IGaRpAurIiqA"
      },
      "source": [
        "# Create clusters\n",
        "N_CLUSTERS = 3\n",
        "kmeans = KMeans(n_clusters=N_CLUSTERS, random_state=0).fit(X_norm)\n",
        "\n",
        "# Assign cluster\n",
        "user_embeddings['CLUSTER'] = kmeans.labels_"
      ],
      "execution_count": null,
      "outputs": []
    },
    {
      "cell_type": "code",
      "metadata": {
        "colab": {
          "base_uri": "https://localhost:8080/"
        },
        "id": "v6XKy1qQJ1cm",
        "outputId": "0239c134-c07e-4d51-e3de-ee9cfacd119f"
      },
      "source": [
        "# Metrics\n",
        "cluster_metrics(user_embeddings.iloc[:,1:97], user_embeddings['CLUSTER'].values)"
      ],
      "execution_count": null,
      "outputs": [
        {
          "output_type": "stream",
          "text": [
            "Silhoutte score: 0.114\n",
            "Intra Cluster Silhoutte score:\n",
            "cluster\n",
            "0    0.726050\n",
            "1    0.039407\n",
            "2    0.161166\n",
            "Name: silhouette_sample, dtype: float64\n",
            "Davies Bouldin score: 2.514\n"
          ],
          "name": "stdout"
        }
      ]
    },
    {
      "cell_type": "code",
      "metadata": {
        "id": "r4KdZ-J1Jwm5"
      },
      "source": [
        "def plot_elbow(data):\n",
        "    \"\"\"Elbow curve\"\"\"\n",
        "    model = KMeans()\n",
        "    visualizer = KElbowVisualizer(model, k=(2, 60), timings=True)\n",
        "    visualizer.fit(data)\n",
        "    visualizer.show()\n",
        "\n",
        "\n",
        "def cluster_metrics(X, labels):\n",
        "    \"\"\"Calculate Silhoutte & Davies Bouldin score\"\"\"\n",
        "\n",
        "    X2 = X.copy()\n",
        "    X2[\"cluster\"] = labels\n",
        "    X2[\"silhouette_sample\"] = metrics.silhouette_samples(X, labels, metric=\"cosine\")\n",
        "\n",
        "    print(\n",
        "        \"Silhoutte score: {:.3f}\".format(\n",
        "            metrics.silhouette_score(X, labels, metric=\"cosine\")\n",
        "        )\n",
        "    )\n",
        "    print(\"Intra Cluster Silhoutte score:\")\n",
        "    print(X2.groupby(\"cluster\")[\"silhouette_sample\"].mean())\n",
        "    print(\n",
        "        \"Davies Bouldin score: {:.3f}\".format(metrics.davies_bouldin_score(X, labels))\n",
        "    )\n",
        "\n",
        "\n",
        "def plot_tsne(df, filename, hover_columns):\n",
        "    \"\"\"Plot TSNE\"\"\"\n",
        "\n",
        "    print(\"Calculating 2D TSNE ...\")\n",
        "    X_tsne = TSNE(n_components=2).fit_transform(df.iloc[:, 1:97])\n",
        "    df[\"tsne_0\"] = X_tsne[:, 0]\n",
        "    df[\"tsne_1\"] = X_tsne[:, 1]\n",
        "    fig = px.scatter(\n",
        "        df, x=\"tsne_0\", y=\"tsne_1\", color=\"CLUSTER\", hover_data=hover_columns\n",
        "    )\n",
        "    pio.write_html(fig, file=\"{}_2D.html\".format(filename), auto_open=True)\n",
        "    print(\"2D TSNE plot done!\")"
      ],
      "execution_count": null,
      "outputs": []
    },
    {
      "cell_type": "code",
      "metadata": {
        "id": "S8KzwoMUfPSz"
      },
      "source": [
        "import plotly.express as px\n",
        "import plotly.io as pio"
      ],
      "execution_count": null,
      "outputs": []
    },
    {
      "cell_type": "code",
      "metadata": {
        "colab": {
          "base_uri": "https://localhost:8080/"
        },
        "id": "EA8HdN2YenP_",
        "outputId": "8a5bfd3c-2c9a-4563-8fe8-6aef54f29e2c"
      },
      "source": [
        "# Plot Embeddings with cluster_id\n",
        "hover_columns = [\"CustomerID\"]\n",
        "plot_tsne(user_embeddings, filename=\"Cluster\", hover_columns=hover_columns)"
      ],
      "execution_count": null,
      "outputs": [
        {
          "output_type": "stream",
          "text": [
            "Calculating 2D TSNE ...\n",
            "2D TSNE plot done!\n"
          ],
          "name": "stdout"
        }
      ]
    },
    {
      "cell_type": "code",
      "metadata": {
        "id": "NyyVP2y3fyqO"
      },
      "source": [
        "\"\"\"\n",
        "TO DO: \n",
        "-----\n",
        "    1. Elbow method hacer la grafica\n",
        "    2. Analizar los clusters que se hicieron y darles un sentido. \n",
        "\n",
        "\"\"\""
      ],
      "execution_count": null,
      "outputs": []
    }
  ]
}