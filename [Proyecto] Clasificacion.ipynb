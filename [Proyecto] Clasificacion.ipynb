{
  "nbformat": 4,
  "nbformat_minor": 0,
  "metadata": {
    "colab": {
      "name": "[Proyecto] Clasificacion.ipynb",
      "provenance": [],
      "collapsed_sections": [],
      "include_colab_link": true
    },
    "kernelspec": {
      "name": "python3",
      "display_name": "Python 3"
    },
    "language_info": {
      "name": "python"
    }
  },
  "cells": [
    {
      "cell_type": "markdown",
      "metadata": {
        "id": "view-in-github",
        "colab_type": "text"
      },
      "source": [
        "<a href=\"https://colab.research.google.com/github/jmarrietar/mineria-de-datos/blob/main/%5BProyecto%5D%20Clasificacion.ipynb\" target=\"_parent\"><img src=\"https://colab.research.google.com/assets/colab-badge.svg\" alt=\"Open In Colab\"/></a>"
      ]
    },
    {
      "cell_type": "markdown",
      "metadata": {
        "id": "H0qcs9pQAovm"
      },
      "source": [
        "* Original dataset from UCI ML http://archive.ics.uci.edu/ml/datasets/Online+Retail"
      ]
    },
    {
      "cell_type": "code",
      "metadata": {
        "colab": {
          "base_uri": "https://localhost:8080/"
        },
        "id": "hA3VbXrEE262",
        "outputId": "6d1482c3-058f-4d89-fcc8-2cea4f7d9a8c"
      },
      "source": [
        "!pip install --quiet lifetimes"
      ],
      "execution_count": null,
      "outputs": [
        {
          "output_type": "stream",
          "text": [
            "\u001b[?25l\r\u001b[K     |▋                               | 10kB 15.1MB/s eta 0:00:01\r\u001b[K     |█▏                              | 20kB 13.9MB/s eta 0:00:01\r\u001b[K     |█▊                              | 30kB 10.7MB/s eta 0:00:01\r\u001b[K     |██▎                             | 40kB 8.5MB/s eta 0:00:01\r\u001b[K     |██▉                             | 51kB 5.3MB/s eta 0:00:01\r\u001b[K     |███▍                            | 61kB 5.5MB/s eta 0:00:01\r\u001b[K     |████                            | 71kB 5.9MB/s eta 0:00:01\r\u001b[K     |████▌                           | 81kB 6.2MB/s eta 0:00:01\r\u001b[K     |█████                           | 92kB 6.4MB/s eta 0:00:01\r\u001b[K     |█████▋                          | 102kB 6.5MB/s eta 0:00:01\r\u001b[K     |██████▏                         | 112kB 6.5MB/s eta 0:00:01\r\u001b[K     |██████▊                         | 122kB 6.5MB/s eta 0:00:01\r\u001b[K     |███████▎                        | 133kB 6.5MB/s eta 0:00:01\r\u001b[K     |███████▉                        | 143kB 6.5MB/s eta 0:00:01\r\u001b[K     |████████▍                       | 153kB 6.5MB/s eta 0:00:01\r\u001b[K     |█████████                       | 163kB 6.5MB/s eta 0:00:01\r\u001b[K     |█████████▌                      | 174kB 6.5MB/s eta 0:00:01\r\u001b[K     |██████████                      | 184kB 6.5MB/s eta 0:00:01\r\u001b[K     |██████████▋                     | 194kB 6.5MB/s eta 0:00:01\r\u001b[K     |███████████▏                    | 204kB 6.5MB/s eta 0:00:01\r\u001b[K     |███████████▉                    | 215kB 6.5MB/s eta 0:00:01\r\u001b[K     |████████████▍                   | 225kB 6.5MB/s eta 0:00:01\r\u001b[K     |█████████████                   | 235kB 6.5MB/s eta 0:00:01\r\u001b[K     |█████████████▌                  | 245kB 6.5MB/s eta 0:00:01\r\u001b[K     |██████████████                  | 256kB 6.5MB/s eta 0:00:01\r\u001b[K     |██████████████▋                 | 266kB 6.5MB/s eta 0:00:01\r\u001b[K     |███████████████▏                | 276kB 6.5MB/s eta 0:00:01\r\u001b[K     |███████████████▊                | 286kB 6.5MB/s eta 0:00:01\r\u001b[K     |████████████████▎               | 296kB 6.5MB/s eta 0:00:01\r\u001b[K     |████████████████▉               | 307kB 6.5MB/s eta 0:00:01\r\u001b[K     |█████████████████▍              | 317kB 6.5MB/s eta 0:00:01\r\u001b[K     |██████████████████              | 327kB 6.5MB/s eta 0:00:01\r\u001b[K     |██████████████████▌             | 337kB 6.5MB/s eta 0:00:01\r\u001b[K     |███████████████████             | 348kB 6.5MB/s eta 0:00:01\r\u001b[K     |███████████████████▋            | 358kB 6.5MB/s eta 0:00:01\r\u001b[K     |████████████████████▏           | 368kB 6.5MB/s eta 0:00:01\r\u001b[K     |████████████████████▊           | 378kB 6.5MB/s eta 0:00:01\r\u001b[K     |█████████████████████▎          | 389kB 6.5MB/s eta 0:00:01\r\u001b[K     |█████████████████████▉          | 399kB 6.5MB/s eta 0:00:01\r\u001b[K     |██████████████████████▍         | 409kB 6.5MB/s eta 0:00:01\r\u001b[K     |███████████████████████         | 419kB 6.5MB/s eta 0:00:01\r\u001b[K     |███████████████████████▋        | 430kB 6.5MB/s eta 0:00:01\r\u001b[K     |████████████████████████▏       | 440kB 6.5MB/s eta 0:00:01\r\u001b[K     |████████████████████████▊       | 450kB 6.5MB/s eta 0:00:01\r\u001b[K     |█████████████████████████▎      | 460kB 6.5MB/s eta 0:00:01\r\u001b[K     |█████████████████████████▉      | 471kB 6.5MB/s eta 0:00:01\r\u001b[K     |██████████████████████████▍     | 481kB 6.5MB/s eta 0:00:01\r\u001b[K     |███████████████████████████     | 491kB 6.5MB/s eta 0:00:01\r\u001b[K     |███████████████████████████▌    | 501kB 6.5MB/s eta 0:00:01\r\u001b[K     |████████████████████████████    | 512kB 6.5MB/s eta 0:00:01\r\u001b[K     |████████████████████████████▋   | 522kB 6.5MB/s eta 0:00:01\r\u001b[K     |█████████████████████████████▏  | 532kB 6.5MB/s eta 0:00:01\r\u001b[K     |█████████████████████████████▊  | 542kB 6.5MB/s eta 0:00:01\r\u001b[K     |██████████████████████████████▎ | 552kB 6.5MB/s eta 0:00:01\r\u001b[K     |██████████████████████████████▉ | 563kB 6.5MB/s eta 0:00:01\r\u001b[K     |███████████████████████████████▍| 573kB 6.5MB/s eta 0:00:01\r\u001b[K     |████████████████████████████████| 583kB 6.5MB/s eta 0:00:01\r\u001b[K     |████████████████████████████████| 593kB 6.5MB/s \n",
            "\u001b[?25h"
          ],
          "name": "stdout"
        }
      ]
    },
    {
      "cell_type": "code",
      "metadata": {
        "id": "wyZmbkvDAsUg"
      },
      "source": [
        "import gdown\n",
        "import pandas as pd\n",
        "import numpy as np\n",
        "from dateutil import parser\n",
        "import datetime\n",
        "from dateutil import relativedelta\n",
        "from lifetimes.utils import summary_data_from_transaction_data\n",
        "from sklearn.metrics import mean_squared_error"
      ],
      "execution_count": null,
      "outputs": []
    },
    {
      "cell_type": "code",
      "metadata": {
        "colab": {
          "base_uri": "https://localhost:8080/"
        },
        "id": "OI2KmFSZAu6W",
        "outputId": "2533c60e-6d9b-4b63-fddc-629d37ee4e1b"
      },
      "source": [
        "!gdown https://drive.google.com/uc?id=1_AJd_FiQ6LSWSK4e__ccfLzhu_sWWNUS"
      ],
      "execution_count": null,
      "outputs": [
        {
          "output_type": "stream",
          "text": [
            "Downloading...\n",
            "From: https://drive.google.com/uc?id=1_AJd_FiQ6LSWSK4e__ccfLzhu_sWWNUS\n",
            "To: /content/OnlineRetail.csv\n",
            "45.6MB [00:00, 98.0MB/s]\n"
          ],
          "name": "stdout"
        }
      ]
    },
    {
      "cell_type": "code",
      "metadata": {
        "id": "abXpdlhNA6a2"
      },
      "source": [
        "online_retail = pd.read_csv(\n",
        "    \"OnlineRetail.csv\",\n",
        "    sep=\",\",\n",
        "    dtype={\"CustomerID\": \"object\"},\n",
        "    encoding=\"unicode_escape\",\n",
        ")"
      ],
      "execution_count": null,
      "outputs": []
    },
    {
      "cell_type": "code",
      "metadata": {
        "id": "CAy8mn1vBsGQ"
      },
      "source": [
        "online_retail[\"InvoiceDate\"] = pd.to_datetime(online_retail[\"InvoiceDate\"])\n",
        "\n",
        "# Create an additional column for date as year and month\n",
        "online_retail[\"date\"] = online_retail[\"InvoiceDate\"].dt.strftime(\"%Y-%m\")\n",
        "\n",
        "# Create a new column for the total expenditure of that product in the purchase.\n",
        "online_retail[\"total_sales_amount\"] = (\n",
        "    online_retail[\"UnitPrice\"] * online_retail[\"Quantity\"]\n",
        ")"
      ],
      "execution_count": null,
      "outputs": []
    },
    {
      "cell_type": "code",
      "metadata": {
        "id": "Bgx3eZeKBY32"
      },
      "source": [
        "# Add column for cancelations \n",
        "online_retail['cancelation'] = online_retail['InvoiceNo'].apply(lambda x: x.startswith(\"C\"))\n",
        "online_retail['cancelation'] = online_retail['total_sales_amount'] <0"
      ],
      "execution_count": null,
      "outputs": []
    },
    {
      "cell_type": "code",
      "metadata": {
        "id": "VneJMUlwAjwS"
      },
      "source": [
        "# Only positive purchases (No cancelations)\n",
        "online_retail_purchases = online_retail[online_retail['cancelation'] == False] "
      ],
      "execution_count": null,
      "outputs": []
    },
    {
      "cell_type": "code",
      "metadata": {
        "id": "nnEcK3SthJTj"
      },
      "source": [
        "transactional_purchases = (\n",
        "    online_retail_purchases.groupby([\"InvoiceNo\", \"CustomerID\", \"InvoiceDate\"])[\n",
        "        [\"Quantity\", \"total_sales_amount\"]\n",
        "    ]\n",
        "    .agg(\"sum\")\n",
        "    .reset_index()\n",
        ")"
      ],
      "execution_count": null,
      "outputs": []
    },
    {
      "cell_type": "markdown",
      "metadata": {
        "id": "n0CjvN6dk0Oc"
      },
      "source": [
        "# Clasificacion"
      ]
    },
    {
      "cell_type": "markdown",
      "metadata": {
        "id": "xgsgzeGxDVHo"
      },
      "source": [
        "#### ML approach (Scikit-Learn)  "
      ]
    },
    {
      "cell_type": "markdown",
      "metadata": {
        "id": "lOlWoDxSDcHi"
      },
      "source": [
        "Debido a que este problema se relaciona con ** Time Aware Modeling**, donde el conjunto de validación se compone de observaciones de una ventana de tiempo fuera de (y más reciente que) la ventana de tiempo utilizada para el entrenamiento del modelo, la prueba se realiza en  un enfoque de validacion Out-of-time validation (OTV). "
      ]
    },
    {
      "cell_type": "markdown",
      "metadata": {
        "id": "NDYqvSp4Dm2y"
      },
      "source": [
        "![](https://drive.google.com/uc?export=view&id=12ncYfgu1s77BScvVHu_PKliSwioC8glr)    \n"
      ]
    },
    {
      "cell_type": "code",
      "metadata": {
        "id": "xX1LG17kk1WB"
      },
      "source": [
        "def create_features_split(transactions, split_date, period_length, datetime_col, total_sales_col):\n",
        "    \"\"\"\n",
        "    Taket historic transactional level data and returns train and test dataset in \n",
        "    custumer level useful to be used by machine learning models. \n",
        "    \n",
        "    Arguments:\n",
        "        transactions - Dataframe at transaction level with list of purchases.\n",
        "        split_date - Date to be used to end train date\n",
        "        period_length - The length of period in Months.\n",
        "        datetime_col - Column of date time\n",
        "        \n",
        "    Returns:\n",
        "        train - Dataframe at customer level to be used for training\n",
        "        test - Dataframe at customer level to be used for testing \n",
        "        \n",
        "    \"\"\"\n",
        "\n",
        "    train = transactions[transactions[datetime_col] < split_date]\n",
        "\n",
        "    date = parser.parse(split_date)\n",
        "    end_test_date = date + relativedelta.relativedelta(months=period_length)\n",
        "    end_test_date = end_test_date.strftime(\"%Y-%m-%d\")\n",
        "\n",
        "    train_transactions = transactions[transactions[datetime_col] < split_date]\n",
        "    test_transactions = transactions[transactions[datetime_col] < end_test_date]\n",
        "\n",
        "    print(\"Creating Train ...\")\n",
        "    train = _transactions_to_dataset(\n",
        "        train_transactions,\n",
        "        split_date,\n",
        "        period_length,\n",
        "        \"InvoiceDate\",\n",
        "        \"CustomerID\",\n",
        "        total_sales_col,\n",
        "    )\n",
        "\n",
        "    print(\"Creating Test ...\")\n",
        "    test = _transactions_to_dataset(\n",
        "        test_transactions,\n",
        "        end_test_date,\n",
        "        period_length,\n",
        "        \"InvoiceDate\",\n",
        "        \"CustomerID\",\n",
        "        total_sales_col,\n",
        "    )\n",
        "\n",
        "    return train, test\n",
        "\n",
        "\n",
        "def _transactions_to_dataset(\n",
        "    transactions,\n",
        "    end_date,\n",
        "    period_length,\n",
        "    datetime_col,\n",
        "    customer_id_col,\n",
        "    total_sales_col,\n",
        "):\n",
        "    \"\"\"\n",
        "    Take historic transactions and create a dataset with basics staticts features,\n",
        "    number of purchases from past, current and next period and amount spent from \n",
        "    past, current and next period.\n",
        "    \n",
        "    Begining dataset: t0\n",
        "    Past period: t1 - t2\n",
        "    Current period: t2 - t3\n",
        "    Target period: t3 - t4\n",
        "    \n",
        "    Arguments: \n",
        "        transactions - Dataframe at transaction level with war list of purchases.\n",
        "        end_date - Last date to use to create dataset\n",
        "        period_length - The length of period in Months.\n",
        "        customer_id_col - Name of column with the ids of costumers\n",
        "        total_sales_col - Name of column of the total amount spent in purchase\n",
        "    \n",
        "    Returns: \n",
        "        dataset - Data for customer level with number of transactions and total \n",
        "                    amount spent in the last, current and next period\n",
        "    \n",
        "    \"\"\"\n",
        "\n",
        "    t4 = end_date\n",
        "    t3 = (\n",
        "        parser.parse(t4) - relativedelta.relativedelta(months=period_length)\n",
        "    ).strftime(\"%Y-%m-%d\")\n",
        "    t2 = (\n",
        "        parser.parse(t3) - relativedelta.relativedelta(months=period_length)\n",
        "    ).strftime(\"%Y-%m-%d\")\n",
        "    t1 = (\n",
        "        parser.parse(t2) - relativedelta.relativedelta(months=period_length)\n",
        "    ).strftime(\"%Y-%m-%d\")\n",
        "    t0 = transactions[datetime_col].min().strftime(\"%Y-%m-%d\")\n",
        "\n",
        "    # Define time periods\n",
        "    transactions_dev = transactions[transactions[datetime_col] < t3]\n",
        "\n",
        "    current_period = transactions_dev[\n",
        "        (transactions_dev[datetime_col] >= t2) & (transactions_dev[datetime_col] < t3)\n",
        "    ]\n",
        "\n",
        "    past_period = transactions_dev[\n",
        "        (transactions_dev[datetime_col] >= t1) & (transactions_dev[datetime_col] < t2)\n",
        "    ]\n",
        "\n",
        "    target_period = transactions[\n",
        "        (transactions[datetime_col] >= t3) & (transactions[datetime_col] < t4)\n",
        "    ]\n",
        "\n",
        "    # Basic Features (Frequency, Recency and T) since t0\n",
        "    features_train = summary_data_from_transaction_data(\n",
        "        transactions_dev,\n",
        "        customer_id_col=customer_id_col,\n",
        "        datetime_col=datetime_col,\n",
        "        monetary_value_col=total_sales_col,\n",
        "        freq=\"D\",\n",
        "    )\n",
        "    features_train.reset_index(level=0, inplace=True)\n",
        "\n",
        "    # Purchases by customers current period\n",
        "    purchases_current_period = (\n",
        "        current_period[customer_id_col]\n",
        "        .value_counts()\n",
        "        .rename_axis(customer_id_col)\n",
        "        .to_frame(\"purchases_current_period\")\n",
        "    )\n",
        "    purchases_current_period.reset_index(level=0, inplace=True)\n",
        "\n",
        "    # Purchases by customer past period\n",
        "    purchases_past_period = (\n",
        "        past_period[customer_id_col]\n",
        "        .value_counts()\n",
        "        .rename_axis(customer_id_col)\n",
        "        .to_frame(\"purchases_past_period\")\n",
        "    )\n",
        "\n",
        "    purchases_past_period.reset_index(level=0, inplace=True)\n",
        "\n",
        "    # Amount spent by customer current period\n",
        "    amount_spent_current_period = (\n",
        "        current_period.groupby([customer_id_col])[[total_sales_col]]\n",
        "        .agg(\"sum\")\n",
        "        .reset_index()\n",
        "        .rename(columns={\"total_sales_amount\": \"amount_spent_current_period\"})\n",
        "    )\n",
        "\n",
        "    # Amount spent by customer last period\n",
        "    amount_spent_past_period = (\n",
        "        past_period.groupby([customer_id_col])[[total_sales_col]]\n",
        "        .agg(\"sum\")\n",
        "        .reset_index()\n",
        "        .rename(columns={\"total_sales_amount\": \"amount_spent_past_period\"})\n",
        "    )\n",
        "\n",
        "    # Create Targets\n",
        "    purchases_target = (\n",
        "        target_period[customer_id_col]\n",
        "        .value_counts()\n",
        "        .rename_axis(customer_id_col)\n",
        "        .to_frame(\"purchases_next_period\")\n",
        "    )\n",
        "\n",
        "    amount_spent_target = (\n",
        "        target_period.groupby([customer_id_col])[[total_sales_col]]\n",
        "        .agg(\"sum\")\n",
        "        .reset_index()\n",
        "        .rename(columns={total_sales_col: \"amount_spent_next_period\"})\n",
        "    )\n",
        "\n",
        "    # Join the Datasets\n",
        "    dataset = pd.merge(\n",
        "        features_train, purchases_past_period, on=customer_id_col, how=\"left\"\n",
        "    )\n",
        "    dataset = pd.merge(\n",
        "        dataset, purchases_current_period, on=customer_id_col, how=\"left\"\n",
        "    )\n",
        "    dataset = pd.merge(dataset, purchases_target, on=customer_id_col, how=\"left\")\n",
        "    dataset = pd.merge(\n",
        "        dataset, amount_spent_past_period, on=customer_id_col, how=\"left\"\n",
        "    )\n",
        "    dataset = pd.merge(\n",
        "        dataset, amount_spent_current_period, on=customer_id_col, how=\"left\"\n",
        "    )\n",
        "    dataset = pd.merge(dataset, amount_spent_target, on=customer_id_col, how=\"left\")\n",
        "\n",
        "    # Fill NA (No sales) with 0\n",
        "    dataset[\"purchases_past_period\"].fillna(0, inplace=True)\n",
        "    dataset[\"purchases_current_period\"].fillna(0, inplace=True)\n",
        "    dataset[\"purchases_next_period\"].fillna(0, inplace=True)\n",
        "    dataset[\"amount_spent_past_period\"].fillna(0, inplace=True)\n",
        "    dataset[\"amount_spent_current_period\"].fillna(0, inplace=True)\n",
        "    dataset[\"amount_spent_next_period\"].fillna(0, inplace=True)\n",
        "\n",
        "    print(\"Data statistics starts from {}\".format(t0))\n",
        "    print(\"Past period from [{} to {})\".format(t1, t2))\n",
        "    print(\"Current period from [{} to {})\".format(t2, t3))\n",
        "    print(\"Next period from [{} to {})\".format(t3, t4))\n",
        "\n",
        "    return dataset"
      ],
      "execution_count": null,
      "outputs": []
    },
    {
      "cell_type": "code",
      "metadata": {
        "id": "2vEyLHTaEXQY"
      },
      "source": [
        "# Configurable experimental variables \n",
        "SPLIT_DATE = \"2011-05-01\" # [CHANGE Accordingly] Date to be used to end train date \n",
        "PERIOD_LENGTH = 2 # Months"
      ],
      "execution_count": null,
      "outputs": []
    },
    {
      "cell_type": "code",
      "metadata": {
        "colab": {
          "base_uri": "https://localhost:8080/"
        },
        "id": "nPLoqaxPEZBN",
        "outputId": "4c90a112-f4ad-4a17-f645-78d7ad18b9d8"
      },
      "source": [
        "train, test = create_features_split(\n",
        "    transactional_purchases,\n",
        "    split_date=SPLIT_DATE,\n",
        "    period_length=PERIOD_LENGTH,\n",
        "    datetime_col=\"InvoiceDate\",\n",
        "    total_sales_col=\"total_sales_amount\"\n",
        ")"
      ],
      "execution_count": null,
      "outputs": [
        {
          "output_type": "stream",
          "text": [
            "Creating Train ...\n",
            "Data statistics starts from 2010-12-01\n",
            "Past period from [2010-11-01 to 2011-01-01)\n",
            "Current period from [2011-01-01 to 2011-03-01)\n",
            "Next period from [2011-03-01 to 2011-05-01)\n",
            "Creating Test ...\n",
            "Data statistics starts from 2010-12-01\n",
            "Past period from [2011-01-01 to 2011-03-01)\n",
            "Current period from [2011-03-01 to 2011-05-01)\n",
            "Next period from [2011-05-01 to 2011-07-01)\n"
          ],
          "name": "stdout"
        }
      ]
    },
    {
      "cell_type": "markdown",
      "metadata": {
        "id": "FBHkgvwnCHMm"
      },
      "source": [
        "* **Frequency:** representa el número de compras repetidas que ha realizado el cliente. \n",
        "\n",
        "* **Recency:** representa la edad del cliente cuando realizó sus compras más recientes. ** Esto es igual a la duración entre la primera compra de un cliente y su última compra. ** (Por lo tanto, si solo ha realizado una compra, la antigüedad es 0).\n",
        "\n",
        "* **T:** representa la edad del cliente en las unidades de tiempo elegidas. ** Esto es igual a la duración entre la primera compra de un cliente y el final del período en estudio. **\n",
        "\n",
        "* **monetary_value** representa el valor medio de las compras de un cliente determinado. Esto es igual a la suma de todas las compras de un cliente dividida por el número total de compras."
      ]
    },
    {
      "cell_type": "code",
      "metadata": {
        "colab": {
          "base_uri": "https://localhost:8080/",
          "height": 164
        },
        "id": "eJRXhw-MTla_",
        "outputId": "d7ac2c91-8ed0-42b4-8249-5e94baa49e87"
      },
      "source": [
        "train.columns"
      ],
      "execution_count": 5,
      "outputs": [
        {
          "output_type": "error",
          "ename": "NameError",
          "evalue": "ignored",
          "traceback": [
            "\u001b[0;31m---------------------------------------------------------------------------\u001b[0m",
            "\u001b[0;31mNameError\u001b[0m                                 Traceback (most recent call last)",
            "\u001b[0;32m<ipython-input-5-0b73e5050d5d>\u001b[0m in \u001b[0;36m<module>\u001b[0;34m()\u001b[0m\n\u001b[0;32m----> 1\u001b[0;31m \u001b[0mtrain\u001b[0m\u001b[0;34m.\u001b[0m\u001b[0mcolumns\u001b[0m\u001b[0;34m\u001b[0m\u001b[0;34m\u001b[0m\u001b[0m\n\u001b[0m",
            "\u001b[0;31mNameError\u001b[0m: name 'train' is not defined"
          ]
        }
      ]
    },
    {
      "cell_type": "code",
      "metadata": {
        "colab": {
          "base_uri": "https://localhost:8080/",
          "height": 164
        },
        "id": "v2L3fjEm1v7O",
        "outputId": "27c60693-626b-46e0-838a-bdd444902086"
      },
      "source": [
        "train"
      ],
      "execution_count": 4,
      "outputs": [
        {
          "output_type": "error",
          "ename": "NameError",
          "evalue": "ignored",
          "traceback": [
            "\u001b[0;31m---------------------------------------------------------------------------\u001b[0m",
            "\u001b[0;31mNameError\u001b[0m                                 Traceback (most recent call last)",
            "\u001b[0;32m<ipython-input-4-3536571a9bc3>\u001b[0m in \u001b[0;36m<module>\u001b[0;34m()\u001b[0m\n\u001b[0;32m----> 1\u001b[0;31m \u001b[0mtrain\u001b[0m\u001b[0;34m\u001b[0m\u001b[0;34m\u001b[0m\u001b[0m\n\u001b[0m",
            "\u001b[0;31mNameError\u001b[0m: name 'train' is not defined"
          ]
        }
      ]
    },
    {
      "cell_type": "code",
      "metadata": {
        "id": "tiPjEjKNOwd4"
      },
      "source": [
        "\"\"\"\n",
        "TO DO: \n",
        "    - Meterle tipo de usuario?\n",
        "\"\"\""
      ],
      "execution_count": null,
      "outputs": []
    },
    {
      "cell_type": "markdown",
      "metadata": {
        "id": "vuKyBvCe2Xfy"
      },
      "source": [
        "#### Predict future total amount spent for individual customers (next period)"
      ]
    },
    {
      "cell_type": "code",
      "metadata": {
        "id": "bN79WQMO2iOo"
      },
      "source": [
        "\"\"\"\n",
        "feature_cols = ['frequency', 'recency', 'T', 'monetary_value',\n",
        "       \t\t\t'purchases_past_period', 'purchases_current_period',\n",
        "       \t\t\t'amount_spent_past_period','amount_spent_current_period']\n",
        "\"\"\""
      ],
      "execution_count": 1,
      "outputs": []
    },
    {
      "cell_type": "code",
      "metadata": {
        "id": "J9fQ4c1B13K7"
      },
      "source": [
        "#y_col = ['amount_spent_next_period']"
      ],
      "execution_count": 2,
      "outputs": []
    },
    {
      "cell_type": "code",
      "metadata": {
        "id": "2qpw5AR02aRO",
        "colab": {
          "base_uri": "https://localhost:8080/",
          "height": 232
        },
        "outputId": "95e9a1f0-cdab-4aa0-fa8e-e52f142ebadb"
      },
      "source": [
        "\"\"\"\n",
        "X_train = train[feature_cols]\n",
        "y_train = train[y_col]\n",
        "\n",
        "X_test = test[feature_cols]\n",
        "y_test = test[y_col]\n",
        "\"\"\""
      ],
      "execution_count": 3,
      "outputs": [
        {
          "output_type": "error",
          "ename": "NameError",
          "evalue": "ignored",
          "traceback": [
            "\u001b[0;31m---------------------------------------------------------------------------\u001b[0m",
            "\u001b[0;31mNameError\u001b[0m                                 Traceback (most recent call last)",
            "\u001b[0;32m<ipython-input-3-08eb5791095d>\u001b[0m in \u001b[0;36m<module>\u001b[0;34m()\u001b[0m\n\u001b[0;32m----> 1\u001b[0;31m \u001b[0mX_train\u001b[0m \u001b[0;34m=\u001b[0m \u001b[0mtrain\u001b[0m\u001b[0;34m[\u001b[0m\u001b[0mfeature_cols\u001b[0m\u001b[0;34m]\u001b[0m\u001b[0;34m\u001b[0m\u001b[0;34m\u001b[0m\u001b[0m\n\u001b[0m\u001b[1;32m      2\u001b[0m \u001b[0my_train\u001b[0m \u001b[0;34m=\u001b[0m \u001b[0mtrain\u001b[0m\u001b[0;34m[\u001b[0m\u001b[0my_col\u001b[0m\u001b[0;34m]\u001b[0m\u001b[0;34m\u001b[0m\u001b[0;34m\u001b[0m\u001b[0m\n\u001b[1;32m      3\u001b[0m \u001b[0;34m\u001b[0m\u001b[0m\n\u001b[1;32m      4\u001b[0m \u001b[0mX_test\u001b[0m \u001b[0;34m=\u001b[0m \u001b[0mtest\u001b[0m\u001b[0;34m[\u001b[0m\u001b[0mfeature_cols\u001b[0m\u001b[0;34m]\u001b[0m\u001b[0;34m\u001b[0m\u001b[0;34m\u001b[0m\u001b[0m\n\u001b[1;32m      5\u001b[0m \u001b[0my_test\u001b[0m \u001b[0;34m=\u001b[0m \u001b[0mtest\u001b[0m\u001b[0;34m[\u001b[0m\u001b[0my_col\u001b[0m\u001b[0;34m]\u001b[0m\u001b[0;34m\u001b[0m\u001b[0;34m\u001b[0m\u001b[0m\n",
            "\u001b[0;31mNameError\u001b[0m: name 'train' is not defined"
          ]
        }
      ]
    },
    {
      "cell_type": "code",
      "metadata": {
        "id": "sgJakmut3C5p"
      },
      "source": [
        "\"\"\"\n",
        "# XGBOOST\n",
        "import xgboost\n",
        "\n",
        "# fit model\n",
        "model = xgboost.XGBRegressor(colsample_bytree=0.4,\n",
        "                 gamma=0,                 \n",
        "                 learning_rate=0.07,\n",
        "                 max_depth=3,\n",
        "                 min_child_weight=1.5,\n",
        "                 n_estimators=10000,                                                                    \n",
        "                 reg_alpha=0.75,\n",
        "                 reg_lambda=0.45,\n",
        "                 subsample=0.6,\n",
        "                 seed=42) \n",
        "model.fit(X_train, y_train)\n",
        "\n",
        "# make predictions for test data\n",
        "predictions = model.predict(X_test)\n",
        "\n",
        "print(mean_squared_error(predictions, y_test, squared=False))\n",
        "\"\"\""
      ],
      "execution_count": null,
      "outputs": []
    },
    {
      "cell_type": "code",
      "metadata": {
        "id": "a_sNmIau8ATQ"
      },
      "source": [
        "\"\"\"\n",
        "TO DO: \n",
        " - Predecir el log de esa variable, es posible que `1592` sea alto.\n",
        "\"\"\""
      ],
      "execution_count": null,
      "outputs": []
    },
    {
      "cell_type": "markdown",
      "metadata": {
        "id": "5GNxM-7E9hnA"
      },
      "source": [
        "#### Predict number of future purchases for individual customers (next period)"
      ]
    },
    {
      "cell_type": "code",
      "metadata": {
        "id": "7xHBrzlO9i_P"
      },
      "source": [
        "\"\"\"\n",
        "feature_cols = ['frequency', 'recency', 'T', 'monetary_value',\n",
        "       \t\t\t'purchases_past_period', 'purchases_current_period',\n",
        "       \t\t\t'amount_spent_past_period','amount_spent_current_period']\n",
        "\n",
        "y_col = ['purchases_next_period']\n",
        "\"\"\""
      ],
      "execution_count": null,
      "outputs": []
    },
    {
      "cell_type": "code",
      "metadata": {
        "id": "zzdWUTqH9lCs"
      },
      "source": [
        "\"\"\"\n",
        "X_train = train[feature_cols]\n",
        "y_train = train[y_col]\n",
        "\n",
        "X_test = test[feature_cols]\n",
        "y_test = test[y_col]\n",
        "\"\"\""
      ],
      "execution_count": null,
      "outputs": []
    },
    {
      "cell_type": "code",
      "metadata": {
        "colab": {
          "base_uri": "https://localhost:8080/"
        },
        "id": "mhYOWi3k9oqi",
        "outputId": "8a5760de-559d-458b-8f01-0eed6d42a10a"
      },
      "source": [
        "\"\"\"\n",
        "# XGBOOST\n",
        "import xgboost\n",
        "\n",
        "# fit model\n",
        "model = xgboost.XGBRegressor(colsample_bytree=0.4,\n",
        "                 gamma=0,                 \n",
        "                 learning_rate=0.07,\n",
        "                 max_depth=3,\n",
        "                 min_child_weight=1.5,\n",
        "                 n_estimators=10000,                                                                    \n",
        "                 reg_alpha=0.75,\n",
        "                 reg_lambda=0.45,\n",
        "                 subsample=0.6,\n",
        "                 seed=42) \n",
        "model.fit(X_train, y_train)\n",
        "\n",
        "# make predictions for test data\n",
        "predictions = model.predict(X_test)\n",
        "\n",
        "print(mean_squared_error(predictions, y_test, squared=False))\n",
        "\"\"\""
      ],
      "execution_count": null,
      "outputs": [
        {
          "output_type": "stream",
          "text": [
            "[16:40:25] WARNING: /workspace/src/objective/regression_obj.cu:152: reg:linear is now deprecated in favor of reg:squarederror.\n",
            "1.4765242908616307\n"
          ],
          "name": "stdout"
        }
      ]
    },
    {
      "cell_type": "markdown",
      "metadata": {
        "id": "QehQx7pJ4UUv"
      },
      "source": [
        "#### Predict if customer will buy in the next period"
      ]
    },
    {
      "cell_type": "code",
      "metadata": {
        "id": "qTecPhHeEhNR"
      },
      "source": [
        "\"\"\"\n",
        "TO DO: \n",
        " - Sacar el Precision y tmb el Recall , Accuracy \n",
        "\"\"\"\n",
        "\n",
        "\"\"\"\n",
        "TO DO: \n",
        " - Tratar de mejorar este AUC\n",
        " - Hacer Hyper Parameters Search \n",
        "\"\"\"\n",
        "\n",
        "\"\"\"\n",
        "TO DO: \n",
        "    - Aplicar de Algoritmos: \n",
        "        * Árboles de decisión\n",
        "        * Bayes\n",
        "        * Redes Neuronales\n",
        "\"\"\"\n"
      ],
      "execution_count": null,
      "outputs": []
    },
    {
      "cell_type": "code",
      "metadata": {
        "id": "xkLerrOg6FNu"
      },
      "source": [
        "# create new column based on `amount_spent_next_period`\n",
        "train['buy_next_period'] = np.where(train['amount_spent_next_period'] > 0, 1, 0)\n",
        "test['buy_next_period'] = np.where(test['amount_spent_next_period'] > 0, 1, 0)"
      ],
      "execution_count": null,
      "outputs": []
    },
    {
      "cell_type": "code",
      "metadata": {
        "id": "-3Z6oNuI7MIW"
      },
      "source": [
        "y_col = ['buy_next_period']"
      ],
      "execution_count": null,
      "outputs": []
    },
    {
      "cell_type": "code",
      "metadata": {
        "id": "VO7aWSlg6LTZ"
      },
      "source": [
        "X_train = train[feature_cols]\n",
        "y_train = train[y_col]\n",
        "\n",
        "X_test = test[feature_cols]\n",
        "y_test = test[y_col]"
      ],
      "execution_count": null,
      "outputs": []
    },
    {
      "cell_type": "code",
      "metadata": {
        "id": "JugnHTyW8pla"
      },
      "source": [
        "# XGBOOST\n",
        "import xgboost\n",
        "\n",
        "# fit model\n",
        "model = xgboost.XGBClassifier(colsample_bytree=0.4,\n",
        "                 gamma=0,                 \n",
        "                 learning_rate=0.08,\n",
        "                 max_depth=7,\n",
        "                 min_child_weight=1.5,\n",
        "                 n_estimators=10,                                                                    \n",
        "                 reg_alpha=0.75,\n",
        "                 reg_lambda=0.45,\n",
        "                 subsample=0.6,\n",
        "                 seed=42) "
      ],
      "execution_count": null,
      "outputs": []
    },
    {
      "cell_type": "code",
      "metadata": {
        "colab": {
          "base_uri": "https://localhost:8080/"
        },
        "id": "S6-q6bEp8rV-",
        "outputId": "67f643cb-2e14-468a-e93a-0c5a84972443"
      },
      "source": [
        "model.fit(X_train, y_train)"
      ],
      "execution_count": null,
      "outputs": [
        {
          "output_type": "stream",
          "text": [
            "/usr/local/lib/python3.7/dist-packages/sklearn/preprocessing/_label.py:235: DataConversionWarning: A column-vector y was passed when a 1d array was expected. Please change the shape of y to (n_samples, ), for example using ravel().\n",
            "  y = column_or_1d(y, warn=True)\n",
            "/usr/local/lib/python3.7/dist-packages/sklearn/preprocessing/_label.py:268: DataConversionWarning: A column-vector y was passed when a 1d array was expected. Please change the shape of y to (n_samples, ), for example using ravel().\n",
            "  y = column_or_1d(y, warn=True)\n"
          ],
          "name": "stderr"
        },
        {
          "output_type": "execute_result",
          "data": {
            "text/plain": [
              "XGBClassifier(base_score=0.5, booster='gbtree', colsample_bylevel=1,\n",
              "              colsample_bynode=1, colsample_bytree=0.4, gamma=0,\n",
              "              learning_rate=0.08, max_delta_step=0, max_depth=7,\n",
              "              min_child_weight=1.5, missing=None, n_estimators=10, n_jobs=1,\n",
              "              nthread=None, objective='binary:logistic', random_state=0,\n",
              "              reg_alpha=0.75, reg_lambda=0.45, scale_pos_weight=1, seed=42,\n",
              "              silent=None, subsample=0.6, verbosity=1)"
            ]
          },
          "metadata": {
            "tags": []
          },
          "execution_count": 75
        }
      ]
    },
    {
      "cell_type": "code",
      "metadata": {
        "id": "cfhN9ADI8wLl"
      },
      "source": [
        "# make predictions for test data\n",
        "predictions = model.predict(X_test)"
      ],
      "execution_count": null,
      "outputs": []
    },
    {
      "cell_type": "code",
      "metadata": {
        "colab": {
          "base_uri": "https://localhost:8080/"
        },
        "id": "nSo_7ycn8xRu",
        "outputId": "5813df9c-660a-400b-80b9-e092f79613c3"
      },
      "source": [
        "predictions"
      ],
      "execution_count": null,
      "outputs": [
        {
          "output_type": "execute_result",
          "data": {
            "text/plain": [
              "array([0, 0, 0, ..., 0, 0, 0])"
            ]
          },
          "metadata": {
            "tags": []
          },
          "execution_count": 26
        }
      ]
    },
    {
      "cell_type": "code",
      "metadata": {
        "colab": {
          "base_uri": "https://localhost:8080/"
        },
        "id": "4Jdi6gwf8-0v",
        "outputId": "8aa0412c-9bb3-4122-8ce5-9be155d9e56a"
      },
      "source": [
        "import numpy as np\n",
        "from sklearn import metrics\n",
        "fpr, tpr, thresholds = metrics.roc_curve(y_test, predictions, pos_label=1)\n",
        "metrics.auc(fpr, tpr)"
      ],
      "execution_count": null,
      "outputs": [
        {
          "output_type": "execute_result",
          "data": {
            "text/plain": [
              "0.6785307782478929"
            ]
          },
          "metadata": {
            "tags": []
          },
          "execution_count": 77
        }
      ]
    },
    {
      "cell_type": "code",
      "metadata": {
        "id": "v5xrRmEuAPh3"
      },
      "source": [
        "from sklearn.metrics import f1_score"
      ],
      "execution_count": null,
      "outputs": []
    },
    {
      "cell_type": "code",
      "metadata": {
        "colab": {
          "base_uri": "https://localhost:8080/"
        },
        "id": "fJvzw1OZAfjV",
        "outputId": "82716bce-33b9-40af-fd5d-0f4ef3f11856"
      },
      "source": [
        "f1_score(y_test, predictions, average='weighted')"
      ],
      "execution_count": null,
      "outputs": [
        {
          "output_type": "execute_result",
          "data": {
            "text/plain": [
              "0.6834016028272576"
            ]
          },
          "metadata": {
            "tags": []
          },
          "execution_count": 80
        }
      ]
    }
  ]
}