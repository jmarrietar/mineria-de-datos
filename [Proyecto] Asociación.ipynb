{
  "nbformat": 4,
  "nbformat_minor": 0,
  "metadata": {
    "colab": {
      "name": "[Proyecto] Asociación.ipynb",
      "provenance": [],
      "collapsed_sections": [],
      "include_colab_link": true
    },
    "kernelspec": {
      "name": "python3",
      "display_name": "Python 3"
    },
    "language_info": {
      "name": "python"
    }
  },
  "cells": [
    {
      "cell_type": "markdown",
      "metadata": {
        "id": "view-in-github",
        "colab_type": "text"
      },
      "source": [
        "<a href=\"https://colab.research.google.com/github/jmarrietar/mineria-de-datos/blob/main/%5BProyecto%5D%20Asociaci%C3%B3n.ipynb\" target=\"_parent\"><img src=\"https://colab.research.google.com/assets/colab-badge.svg\" alt=\"Open In Colab\"/></a>"
      ]
    },
    {
      "cell_type": "code",
      "metadata": {
        "colab": {
          "base_uri": "https://localhost:8080/"
        },
        "id": "ntk-bs3clnTl",
        "outputId": "624d3330-8954-44b4-9045-4ccbc69d74fa"
      },
      "source": [
        "!gdown https://drive.google.com/uc?id=1_AJd_FiQ6LSWSK4e__ccfLzhu_sWWNUS\n",
        "!pip install mlxtend --upgrade --quiet"
      ],
      "execution_count": 1,
      "outputs": [
        {
          "output_type": "stream",
          "text": [
            "Downloading...\n",
            "From: https://drive.google.com/uc?id=1_AJd_FiQ6LSWSK4e__ccfLzhu_sWWNUS\n",
            "To: /content/OnlineRetail.csv\n",
            "45.6MB [00:00, 88.2MB/s]\n"
          ],
          "name": "stdout"
        }
      ]
    },
    {
      "cell_type": "code",
      "metadata": {
        "id": "9CcaxzQuydLX"
      },
      "source": [
        "import pandas as pd\n",
        "import math \n",
        "import matplotlib.pyplot as plt\n",
        "from matplotlib.ticker import FuncFormatter\n",
        "import numpy as np\n",
        "import seaborn as sns\n",
        "from os import path\n",
        "from PIL import Image\n",
        "\n",
        "from mlxtend.frequent_patterns import apriori, association_rules\n",
        "from mlxtend.preprocessing import TransactionEncoder\n",
        "from mlxtend.frequent_patterns import fpgrowth\n",
        "\n",
        "% matplotlib inline\n",
        "pd.set_option('display.max_rows', 100)"
      ],
      "execution_count": 2,
      "outputs": []
    },
    {
      "cell_type": "code",
      "metadata": {
        "id": "rh2gt3ork_Ib"
      },
      "source": [
        "# Auxiliar Functions\n",
        "\n",
        "def print_rules(rules):\n",
        "    for index, row in rules.iterrows():\n",
        "        antecedents = list(row[\"antecedents\"])\n",
        "        consequents = list(row[\"consequents\"])\n",
        "\n",
        "        consequents_list = []\n",
        "        antecedents_list = []\n",
        "\n",
        "        for c in consequents:\n",
        "            consequents_list.append(items[c])\n",
        "\n",
        "        for c in antecedents:\n",
        "            antecedents_list.append(items[c])\n",
        "\n",
        "        print(\n",
        "            \"(\"\n",
        "            + \" & \".join(antecedents_list)\n",
        "            + \") -> (\"\n",
        "            + \" & \".join(consequents_list)\n",
        "            + \")\"\n",
        "        )\n",
        "\n",
        "\n",
        "def count_frequent_items(frequent_itemsets):\n",
        "\n",
        "    size_itemsets = {\"1\": 0, \"2\": 0, \"3\": 0, \"4\": 0}\n",
        "\n",
        "    for index, row in frequent_itemsets.iterrows():\n",
        "        size = str(len(row[\"itemsets\"]))\n",
        "        size_itemsets[size] = size_itemsets[size] + 1\n",
        "\n",
        "    return size_itemsets\n",
        "\n",
        "\n",
        "def get_apriori_statistics(df, MIN_SUPPORT):\n",
        "    frequent_itemsets = apriori(df, min_support=MIN_SUPPORT, use_colnames=True)\n",
        "    size_itemsets = count_frequent_items(frequent_itemsets)\n",
        "    print(\n",
        "        \"Numero de Itemset Frecuentes: {} - Soporte: {} - Itemsets size - 1: {} - 2: {} - 3: {} - 4: {}\".format(\n",
        "            len(frequent_itemsets),\n",
        "            MIN_SUPPORT,\n",
        "            size_itemsets[\"1\"],\n",
        "            size_itemsets[\"2\"],\n",
        "            size_itemsets[\"3\"],\n",
        "            size_itemsets[\"4\"],\n",
        "        )\n",
        "    )\n",
        "\n",
        "def get_fpgrowth_statistics(df, MIN_SUPPORT):\n",
        "    frequent_itemsets = fpgrowth(df, min_support=MIN_SUPPORT, use_colnames=True)\n",
        "    size_itemsets = count_frequent_items(frequent_itemsets)\n",
        "    print(\n",
        "        \"Numero de Itemset Frecuentes: {} - Soporte: {} - Itemsets size - 1: {} - 2: {} - 3: {} - 4: {}\".format(\n",
        "            len(frequent_itemsets),\n",
        "            MIN_SUPPORT,\n",
        "            size_itemsets[\"1\"],\n",
        "            size_itemsets[\"2\"],\n",
        "            size_itemsets[\"3\"],\n",
        "            size_itemsets[\"4\"],\n",
        "        )\n",
        "    )"
      ],
      "execution_count": 67,
      "outputs": []
    },
    {
      "cell_type": "markdown",
      "metadata": {
        "id": "ivo0iOSf3_Bb"
      },
      "source": [
        "## 0. Datos"
      ]
    },
    {
      "cell_type": "code",
      "metadata": {
        "id": "e37wKxzYlnrB"
      },
      "source": [
        "# Load data\n",
        "online_retail = pd.read_csv(\n",
        "    \"OnlineRetail.csv\",\n",
        "    sep=\",\",\n",
        "    dtype={\"CustomerID\": \"object\"},\n",
        "    encoding=\"unicode_escape\",\n",
        ")"
      ],
      "execution_count": 4,
      "outputs": []
    },
    {
      "cell_type": "markdown",
      "metadata": {
        "id": "YVGCLCEq4Gpq"
      },
      "source": [
        "## 1. Tratamiento al conjunto de datos "
      ]
    },
    {
      "cell_type": "code",
      "metadata": {
        "id": "MpUYW4Jpl9-q"
      },
      "source": [
        "# Remove spaces in columns StockCode & Description\n",
        "online_retail['Description'] = online_retail['Description'].str.strip()\n",
        "online_retail['StockCode'] = online_retail['StockCode'].str.strip()\n",
        "\n",
        "# Remove rows with Null Descriptions\n",
        "online_retail.dropna(axis=0, subset=['InvoiceNo'], inplace=True)"
      ],
      "execution_count": 5,
      "outputs": []
    },
    {
      "cell_type": "code",
      "metadata": {
        "colab": {
          "base_uri": "https://localhost:8080/",
          "height": 419
        },
        "id": "KQfv3J64_L5H",
        "outputId": "278d56d3-29aa-4702-f897-9d0e3a68b001"
      },
      "source": [
        "online_retail[online_retail[\"StockCode\"].apply(lambda x: len(x)<5)][[\"InvoiceNo\", \"StockCode\", \"Description\"]]"
      ],
      "execution_count": 6,
      "outputs": [
        {
          "output_type": "execute_result",
          "data": {
            "text/html": [
              "<div>\n",
              "<style scoped>\n",
              "    .dataframe tbody tr th:only-of-type {\n",
              "        vertical-align: middle;\n",
              "    }\n",
              "\n",
              "    .dataframe tbody tr th {\n",
              "        vertical-align: top;\n",
              "    }\n",
              "\n",
              "    .dataframe thead th {\n",
              "        text-align: right;\n",
              "    }\n",
              "</style>\n",
              "<table border=\"1\" class=\"dataframe\">\n",
              "  <thead>\n",
              "    <tr style=\"text-align: right;\">\n",
              "      <th></th>\n",
              "      <th>InvoiceNo</th>\n",
              "      <th>StockCode</th>\n",
              "      <th>Description</th>\n",
              "    </tr>\n",
              "  </thead>\n",
              "  <tbody>\n",
              "    <tr>\n",
              "      <th>45</th>\n",
              "      <td>536370</td>\n",
              "      <td>POST</td>\n",
              "      <td>POSTAGE</td>\n",
              "    </tr>\n",
              "    <tr>\n",
              "      <th>141</th>\n",
              "      <td>C536379</td>\n",
              "      <td>D</td>\n",
              "      <td>Discount</td>\n",
              "    </tr>\n",
              "    <tr>\n",
              "      <th>386</th>\n",
              "      <td>536403</td>\n",
              "      <td>POST</td>\n",
              "      <td>POSTAGE</td>\n",
              "    </tr>\n",
              "    <tr>\n",
              "      <th>1123</th>\n",
              "      <td>536527</td>\n",
              "      <td>POST</td>\n",
              "      <td>POSTAGE</td>\n",
              "    </tr>\n",
              "    <tr>\n",
              "      <th>1423</th>\n",
              "      <td>536540</td>\n",
              "      <td>C2</td>\n",
              "      <td>CARRIAGE</td>\n",
              "    </tr>\n",
              "    <tr>\n",
              "      <th>...</th>\n",
              "      <td>...</td>\n",
              "      <td>...</td>\n",
              "      <td>...</td>\n",
              "    </tr>\n",
              "    <tr>\n",
              "      <th>541540</th>\n",
              "      <td>581498</td>\n",
              "      <td>DOT</td>\n",
              "      <td>DOTCOM POSTAGE</td>\n",
              "    </tr>\n",
              "    <tr>\n",
              "      <th>541541</th>\n",
              "      <td>C581499</td>\n",
              "      <td>M</td>\n",
              "      <td>Manual</td>\n",
              "    </tr>\n",
              "    <tr>\n",
              "      <th>541730</th>\n",
              "      <td>581570</td>\n",
              "      <td>POST</td>\n",
              "      <td>POSTAGE</td>\n",
              "    </tr>\n",
              "    <tr>\n",
              "      <th>541767</th>\n",
              "      <td>581574</td>\n",
              "      <td>POST</td>\n",
              "      <td>POSTAGE</td>\n",
              "    </tr>\n",
              "    <tr>\n",
              "      <th>541768</th>\n",
              "      <td>581578</td>\n",
              "      <td>POST</td>\n",
              "      <td>POSTAGE</td>\n",
              "    </tr>\n",
              "  </tbody>\n",
              "</table>\n",
              "<p>2845 rows × 3 columns</p>\n",
              "</div>"
            ],
            "text/plain": [
              "       InvoiceNo StockCode     Description\n",
              "45        536370      POST         POSTAGE\n",
              "141      C536379         D        Discount\n",
              "386       536403      POST         POSTAGE\n",
              "1123      536527      POST         POSTAGE\n",
              "1423      536540        C2        CARRIAGE\n",
              "...          ...       ...             ...\n",
              "541540    581498       DOT  DOTCOM POSTAGE\n",
              "541541   C581499         M          Manual\n",
              "541730    581570      POST         POSTAGE\n",
              "541767    581574      POST         POSTAGE\n",
              "541768    581578      POST         POSTAGE\n",
              "\n",
              "[2845 rows x 3 columns]"
            ]
          },
          "metadata": {
            "tags": []
          },
          "execution_count": 6
        }
      ]
    },
    {
      "cell_type": "code",
      "metadata": {
        "id": "zofZHeITCnq4"
      },
      "source": [
        "# Remove invalid descriptions \n",
        "online_retail = online_retail[online_retail[\"StockCode\"].apply(lambda x: len(x)>=5)]"
      ],
      "execution_count": 7,
      "outputs": []
    },
    {
      "cell_type": "code",
      "metadata": {
        "id": "qAsGJ76Yc414"
      },
      "source": [
        "# Create dictionary for products \n",
        "stock_description = online_retail[[\"StockCode\", \"Description\"]]\n",
        "\n",
        "items = {}\n",
        "\n",
        "for index, row in stock_description.iterrows():\n",
        "    if row[\"StockCode\"] not in items:\n",
        "        items[row[\"StockCode\"]] = row[\"Description\"]"
      ],
      "execution_count": 8,
      "outputs": []
    },
    {
      "cell_type": "markdown",
      "metadata": {
        "id": "Uga3ziGcExVM"
      },
      "source": [
        "Transformar de dataframe nivel item-product a Lista de Items (Baskets). "
      ]
    },
    {
      "cell_type": "code",
      "metadata": {
        "id": "-PAPGCg6LcQc"
      },
      "source": [
        "grouped_df = online_retail[[\"InvoiceNo\",\"StockCode\"]].groupby(\"InvoiceNo\")\n",
        "grouped_lists = grouped_df[\"StockCode\"].agg(lambda column: \" \".join(column))\n",
        "grouped_lists = grouped_lists.reset_index(name=\"Basket\")\n",
        "\n",
        "basket_transaction = []\n",
        "\n",
        "for index, row in grouped_lists.iterrows():\n",
        "    basket_transaction.append(row['Basket'].split(' '))"
      ],
      "execution_count": 10,
      "outputs": []
    },
    {
      "cell_type": "markdown",
      "metadata": {
        "id": "xOvl2uT54XfO"
      },
      "source": [
        "## 2. Aplicar algoritmos de asociación\n"
      ]
    },
    {
      "cell_type": "markdown",
      "metadata": {
        "id": "Gwhb5wuX4gGE"
      },
      "source": [
        "#### Creacion de Items frecuentes"
      ]
    },
    {
      "cell_type": "markdown",
      "metadata": {
        "id": "Pm-74eMt4j-B"
      },
      "source": [
        "Reportar los itemsets frecuentes con los valores de soporte\n"
      ]
    },
    {
      "cell_type": "code",
      "metadata": {
        "id": "hajG2y2pVuUV"
      },
      "source": [
        "te = TransactionEncoder()\n",
        "te_ary = te.fit(basket_transaction).transform(basket_transaction)\n",
        "df = pd.DataFrame(te_ary, columns=te.columns_)"
      ],
      "execution_count": 12,
      "outputs": []
    },
    {
      "cell_type": "markdown",
      "metadata": {
        "id": "lUuK2JUa4m0A"
      },
      "source": [
        "#### Apriori"
      ]
    },
    {
      "cell_type": "markdown",
      "metadata": {
        "id": "MAnZVxhVRyCu"
      },
      "source": [
        "Analisis soporte "
      ]
    },
    {
      "cell_type": "code",
      "metadata": {
        "colab": {
          "base_uri": "https://localhost:8080/"
        },
        "id": "p_nJ8E3VVqQU",
        "outputId": "c6036619-0b4e-404f-9fbf-b8cb5046b936"
      },
      "source": [
        "# Statistics \n",
        "MIN_SUPPORT = 0.1\n",
        "get_apriori_statistics(df, MIN_SUPPORT)\n",
        "\n",
        "MIN_SUPPORT = 0.05\n",
        "get_apriori_statistics(df, MIN_SUPPORT)\n",
        "\n",
        "MIN_SUPPORT = 0.025\n",
        "get_apriori_statistics(df, MIN_SUPPORT)\n",
        "\n",
        "MIN_SUPPORT = 0.02\n",
        "get_apriori_statistics(df, MIN_SUPPORT)\n",
        "\n",
        "MIN_SUPPORT = 0.015\n",
        "get_apriori_statistics(df, MIN_SUPPORT)\n",
        "\n",
        "MIN_SUPPORT = 0.0125\n",
        "get_apriori_statistics(df, MIN_SUPPORT)"
      ],
      "execution_count": 36,
      "outputs": [
        {
          "output_type": "stream",
          "text": [
            "Numero de Itemset Frecuentes: 0 - Soporte: 0.1 - Itemsets size - 1: 0 - 2: 0 - 3: 0 - 4: 0\n",
            "Numero de Itemset Frecuentes: 11 - Soporte: 0.05 - Itemsets size - 1: 11 - 2: 0 - 3: 0 - 4: 0\n",
            "Numero de Itemset Frecuentes: 121 - Soporte: 0.025 - Itemsets size - 1: 113 - 2: 8 - 3: 0 - 4: 0\n",
            "Numero de Itemset Frecuentes: 225 - Soporte: 0.02 - Itemsets size - 1: 186 - 2: 38 - 3: 1 - 4: 0\n",
            "Numero de Itemset Frecuentes: 443 - Soporte: 0.015 - Itemsets size - 1: 332 - 2: 107 - 3: 4 - 4: 0\n",
            "Numero de Itemset Frecuentes: 661 - Soporte: 0.0125 - Itemsets size - 1: 450 - 2: 185 - 3: 26 - 4: 0\n"
          ],
          "name": "stdout"
        }
      ]
    },
    {
      "cell_type": "markdown",
      "metadata": {
        "id": "-gdJJ_rHR0H_"
      },
      "source": [
        "Analisis confianza"
      ]
    },
    {
      "cell_type": "code",
      "metadata": {
        "colab": {
          "base_uri": "https://localhost:8080/",
          "height": 419
        },
        "id": "68RQNSwAVR3H",
        "outputId": "aa9fa93c-039e-4cc0-c1e4-371ad69f0316"
      },
      "source": [
        "frequent_itemsets = apriori(df, min_support=0.02, use_colnames=True)\n",
        "frequent_itemsets"
      ],
      "execution_count": 37,
      "outputs": [
        {
          "output_type": "execute_result",
          "data": {
            "text/html": [
              "<div>\n",
              "<style scoped>\n",
              "    .dataframe tbody tr th:only-of-type {\n",
              "        vertical-align: middle;\n",
              "    }\n",
              "\n",
              "    .dataframe tbody tr th {\n",
              "        vertical-align: top;\n",
              "    }\n",
              "\n",
              "    .dataframe thead th {\n",
              "        text-align: right;\n",
              "    }\n",
              "</style>\n",
              "<table border=\"1\" class=\"dataframe\">\n",
              "  <thead>\n",
              "    <tr style=\"text-align: right;\">\n",
              "      <th></th>\n",
              "      <th>support</th>\n",
              "      <th>itemsets</th>\n",
              "    </tr>\n",
              "  </thead>\n",
              "  <tbody>\n",
              "    <tr>\n",
              "      <th>0</th>\n",
              "      <td>0.020616</td>\n",
              "      <td>(15036)</td>\n",
              "    </tr>\n",
              "    <tr>\n",
              "      <th>1</th>\n",
              "      <td>0.027750</td>\n",
              "      <td>(20685)</td>\n",
              "    </tr>\n",
              "    <tr>\n",
              "      <th>2</th>\n",
              "      <td>0.020970</td>\n",
              "      <td>(20711)</td>\n",
              "    </tr>\n",
              "    <tr>\n",
              "      <th>3</th>\n",
              "      <td>0.034373</td>\n",
              "      <td>(20712)</td>\n",
              "    </tr>\n",
              "    <tr>\n",
              "      <th>4</th>\n",
              "      <td>0.026568</td>\n",
              "      <td>(20713)</td>\n",
              "    </tr>\n",
              "    <tr>\n",
              "      <th>...</th>\n",
              "      <td>...</td>\n",
              "      <td>...</td>\n",
              "    </tr>\n",
              "    <tr>\n",
              "      <th>220</th>\n",
              "      <td>0.021641</td>\n",
              "      <td>(23301, 23300)</td>\n",
              "    </tr>\n",
              "    <tr>\n",
              "      <th>221</th>\n",
              "      <td>0.020143</td>\n",
              "      <td>(82494L, 82482)</td>\n",
              "    </tr>\n",
              "    <tr>\n",
              "      <th>222</th>\n",
              "      <td>0.023375</td>\n",
              "      <td>(85099B, 85099C)</td>\n",
              "    </tr>\n",
              "    <tr>\n",
              "      <th>223</th>\n",
              "      <td>0.021483</td>\n",
              "      <td>(85099B, 85099F)</td>\n",
              "    </tr>\n",
              "    <tr>\n",
              "      <th>224</th>\n",
              "      <td>0.021641</td>\n",
              "      <td>(22697, 22698, 22699)</td>\n",
              "    </tr>\n",
              "  </tbody>\n",
              "</table>\n",
              "<p>225 rows × 2 columns</p>\n",
              "</div>"
            ],
            "text/plain": [
              "      support               itemsets\n",
              "0    0.020616                (15036)\n",
              "1    0.027750                (20685)\n",
              "2    0.020970                (20711)\n",
              "3    0.034373                (20712)\n",
              "4    0.026568                (20713)\n",
              "..        ...                    ...\n",
              "220  0.021641         (23301, 23300)\n",
              "221  0.020143        (82494L, 82482)\n",
              "222  0.023375       (85099B, 85099C)\n",
              "223  0.021483       (85099B, 85099F)\n",
              "224  0.021641  (22697, 22698, 22699)\n",
              "\n",
              "[225 rows x 2 columns]"
            ]
          },
          "metadata": {
            "tags": []
          },
          "execution_count": 37
        }
      ]
    },
    {
      "cell_type": "code",
      "metadata": {
        "colab": {
          "base_uri": "https://localhost:8080/"
        },
        "id": "lNaib0IMPZGP",
        "outputId": "524e114c-6571-445d-ba97-dd75134a51b4"
      },
      "source": [
        "MIN_CONFIDENCE = 0.4\n",
        "rules = association_rules(\n",
        "    frequent_itemsets, metric=\"confidence\", min_threshold=MIN_CONFIDENCE\n",
        ")[[\"antecedents\", \"consequents\", \"support\", \"confidence\"]]\n",
        "print(\"Numero de reglas: {} - Confianza: {}\".format(len(rules), MIN_CONFIDENCE))\n",
        "\n",
        "MIN_CONFIDENCE = 0.5\n",
        "rules = association_rules(\n",
        "    frequent_itemsets, metric=\"confidence\", min_threshold=MIN_CONFIDENCE\n",
        ")[[\"antecedents\", \"consequents\", \"support\", \"confidence\"]]\n",
        "print(\"Numero de reglas: {} - Confianza: {}\".format(len(rules), MIN_CONFIDENCE))\n",
        "\n",
        "MIN_CONFIDENCE = 0.7\n",
        "rules = association_rules(\n",
        "    frequent_itemsets, metric=\"confidence\", min_threshold=MIN_CONFIDENCE\n",
        ")[[\"antecedents\", \"consequents\", \"support\", \"confidence\"]]\n",
        "print(\"Numero de reglas: {} - Confianza: {}\".format(len(rules), MIN_CONFIDENCE))\n",
        "\n",
        "MIN_CONFIDENCE = 0.9\n",
        "rules = association_rules(\n",
        "    frequent_itemsets, metric=\"confidence\", min_threshold=MIN_CONFIDENCE\n",
        ")[[\"antecedents\", \"consequents\", \"support\", \"confidence\"]]\n",
        "print(\"Numero de reglas: {} - Confianza: {}\".format(len(rules), MIN_CONFIDENCE))\n"
      ],
      "execution_count": 40,
      "outputs": [
        {
          "output_type": "stream",
          "text": [
            "Numero de reglas: 63 - Confianza: 0.4\n",
            "Numero de reglas: 36 - Confianza: 0.5\n",
            "Numero de reglas: 8 - Confianza: 0.7\n",
            "Numero de reglas: 0 - Confianza: 0.9\n"
          ],
          "name": "stdout"
        }
      ]
    },
    {
      "cell_type": "code",
      "metadata": {
        "id": "2wxJHJlFZ1I6"
      },
      "source": [
        "rules = association_rules(frequent_itemsets, metric=\"confidence\", min_threshold=0.5)[\n",
        "    [\"antecedents\", \"consequents\", \"support\", \"confidence\", \"lift\"]\n",
        "]"
      ],
      "execution_count": 41,
      "outputs": []
    },
    {
      "cell_type": "code",
      "metadata": {
        "colab": {
          "base_uri": "https://localhost:8080/"
        },
        "id": "Q2qURkxefjZV",
        "outputId": "57a5bae4-ae26-49c2-beaa-a97e6e67a6f8"
      },
      "source": [
        "print_rules(rules)"
      ],
      "execution_count": 42,
      "outputs": [
        {
          "output_type": "stream",
          "text": [
            "(JUMBO BAG WOODLAND ANIMALS) -> (JUMBO BAG RED RETROSPOT)\n",
            "(CHARLOTTE BAG SUKI DESIGN) -> (RED RETROSPOT CHARLOTTE BAG)\n",
            "(RED RETROSPOT CHARLOTTE BAG) -> (CHARLOTTE BAG PINK POLKADOT)\n",
            "(CHARLOTTE BAG PINK POLKADOT) -> (RED RETROSPOT CHARLOTTE BAG)\n",
            "(LUNCH BAG WOODLAND) -> (LUNCH BAG RED RETROSPOT)\n",
            "(LUNCH BAG  BLACK SKULL.) -> (LUNCH BAG RED RETROSPOT)\n",
            "(LUNCH BAG SUKI  DESIGN) -> (LUNCH BAG RED RETROSPOT)\n",
            "(LUNCH BAG PINK POLKADOT) -> (LUNCH BAG RED RETROSPOT)\n",
            "(JUMBO BAG SCANDINAVIAN PAISLEY) -> (JUMBO BAG RED RETROSPOT)\n",
            "(JUMBO BAG PINK VINTAGE PAISLEY) -> (JUMBO BAG RED RETROSPOT)\n",
            "(JUMBO STORAGE BAG SUKI) -> (JUMBO BAG RED RETROSPOT)\n",
            "(PAPER CHAIN KIT VINTAGE CHRISTMAS) -> (PAPER CHAIN KIT 50'S CHRISTMAS)\n",
            "(JUMBO BAG PINK POLKADOT) -> (JUMBO BAG RED RETROSPOT)\n",
            "(JUMBO SHOPPER VINTAGE RED PAISLEY) -> (JUMBO BAG RED RETROSPOT)\n",
            "(SPACEBOY LUNCH BOX) -> (DOLLY GIRL LUNCH BOX)\n",
            "(DOLLY GIRL LUNCH BOX) -> (SPACEBOY LUNCH BOX)\n",
            "(GREEN REGENCY TEACUP AND SAUCER) -> (PINK REGENCY TEACUP AND SAUCER)\n",
            "(PINK REGENCY TEACUP AND SAUCER) -> (GREEN REGENCY TEACUP AND SAUCER)\n",
            "(GREEN REGENCY TEACUP AND SAUCER) -> (ROSES REGENCY TEACUP AND SAUCER)\n",
            "(ROSES REGENCY TEACUP AND SAUCER) -> (GREEN REGENCY TEACUP AND SAUCER)\n",
            "(PINK REGENCY TEACUP AND SAUCER) -> (ROSES REGENCY TEACUP AND SAUCER)\n",
            "(ROSES REGENCY TEACUP AND SAUCER) -> (PINK REGENCY TEACUP AND SAUCER)\n",
            "(ALARM CLOCK BAKELIKE GREEN) -> (ALARM CLOCK BAKELIKE RED)\n",
            "(ALARM CLOCK BAKELIKE RED) -> (ALARM CLOCK BAKELIKE GREEN)\n",
            "(JUMBO BAG APPLES) -> (JUMBO BAG RED RETROSPOT)\n",
            "(mailout) -> (mailout)\n",
            "(GARDENERS KNEELING PAD KEEP CALM) -> (GARDENERS KNEELING PAD CUP OF TEA)\n",
            "(GARDENERS KNEELING PAD CUP OF TEA) -> (GARDENERS KNEELING PAD KEEP CALM)\n",
            "(WOODEN FRAME ANTIQUE WHITE) -> (WOODEN PICTURE FRAME WHITE FINISH)\n",
            "(JUMBO  BAG BAROQUE BLACK WHITE) -> (JUMBO BAG RED RETROSPOT)\n",
            "(JUMBO BAG STRAWBERRY) -> (JUMBO BAG RED RETROSPOT)\n",
            "(GREEN REGENCY TEACUP AND SAUCER & PINK REGENCY TEACUP AND SAUCER) -> (ROSES REGENCY TEACUP AND SAUCER)\n",
            "(GREEN REGENCY TEACUP AND SAUCER & ROSES REGENCY TEACUP AND SAUCER) -> (PINK REGENCY TEACUP AND SAUCER)\n",
            "(PINK REGENCY TEACUP AND SAUCER & ROSES REGENCY TEACUP AND SAUCER) -> (GREEN REGENCY TEACUP AND SAUCER)\n",
            "(GREEN REGENCY TEACUP AND SAUCER) -> (PINK REGENCY TEACUP AND SAUCER & ROSES REGENCY TEACUP AND SAUCER)\n",
            "(PINK REGENCY TEACUP AND SAUCER) -> (GREEN REGENCY TEACUP AND SAUCER & ROSES REGENCY TEACUP AND SAUCER)\n"
          ],
          "name": "stdout"
        }
      ]
    },
    {
      "cell_type": "markdown",
      "metadata": {
        "id": "3769p7t4R78E"
      },
      "source": [
        "#### Ranking Reglas -  Soporte"
      ]
    },
    {
      "cell_type": "code",
      "metadata": {
        "colab": {
          "base_uri": "https://localhost:8080/",
          "height": 359
        },
        "id": "L2bIUXtzSsy6",
        "outputId": "1c47e86c-fb11-4381-e062-beb682cc85b9"
      },
      "source": [
        "rules.sort_values([\"support\"], ascending=[False])[0:20]"
      ],
      "execution_count": 62,
      "outputs": [
        {
          "output_type": "execute_result",
          "data": {
            "text/html": [
              "<div>\n",
              "<style scoped>\n",
              "    .dataframe tbody tr th:only-of-type {\n",
              "        vertical-align: middle;\n",
              "    }\n",
              "\n",
              "    .dataframe tbody tr th {\n",
              "        vertical-align: top;\n",
              "    }\n",
              "\n",
              "    .dataframe thead th {\n",
              "        text-align: right;\n",
              "    }\n",
              "</style>\n",
              "<table border=\"1\" class=\"dataframe\">\n",
              "  <thead>\n",
              "    <tr style=\"text-align: right;\">\n",
              "      <th></th>\n",
              "      <th>antecedents</th>\n",
              "      <th>consequents</th>\n",
              "      <th>support</th>\n",
              "      <th>confidence</th>\n",
              "      <th>lift</th>\n",
              "    </tr>\n",
              "  </thead>\n",
              "  <tbody>\n",
              "    <tr>\n",
              "      <th>12</th>\n",
              "      <td>(22386)</td>\n",
              "      <td>(85099B)</td>\n",
              "      <td>0.032835</td>\n",
              "      <td>0.676686</td>\n",
              "      <td>8.040673</td>\n",
              "    </tr>\n",
              "    <tr>\n",
              "      <th>18</th>\n",
              "      <td>(22697)</td>\n",
              "      <td>(22699)</td>\n",
              "      <td>0.030904</td>\n",
              "      <td>0.741722</td>\n",
              "      <td>16.800662</td>\n",
              "    </tr>\n",
              "    <tr>\n",
              "      <th>19</th>\n",
              "      <td>(22699)</td>\n",
              "      <td>(22697)</td>\n",
              "      <td>0.030904</td>\n",
              "      <td>0.700000</td>\n",
              "      <td>16.800662</td>\n",
              "    </tr>\n",
              "    <tr>\n",
              "      <th>10</th>\n",
              "      <td>(21931)</td>\n",
              "      <td>(85099B)</td>\n",
              "      <td>0.028894</td>\n",
              "      <td>0.610325</td>\n",
              "      <td>7.252144</td>\n",
              "    </tr>\n",
              "    <tr>\n",
              "      <th>13</th>\n",
              "      <td>(22411)</td>\n",
              "      <td>(85099B)</td>\n",
              "      <td>0.026923</td>\n",
              "      <td>0.575400</td>\n",
              "      <td>6.837155</td>\n",
              "    </tr>\n",
              "    <tr>\n",
              "      <th>6</th>\n",
              "      <td>(22383)</td>\n",
              "      <td>(20725)</td>\n",
              "      <td>0.026134</td>\n",
              "      <td>0.507657</td>\n",
              "      <td>8.009173</td>\n",
              "    </tr>\n",
              "    <tr>\n",
              "      <th>5</th>\n",
              "      <td>(20727)</td>\n",
              "      <td>(20725)</td>\n",
              "      <td>0.025543</td>\n",
              "      <td>0.500386</td>\n",
              "      <td>7.894462</td>\n",
              "    </tr>\n",
              "    <tr>\n",
              "      <th>23</th>\n",
              "      <td>(22727)</td>\n",
              "      <td>(22726)</td>\n",
              "      <td>0.025464</td>\n",
              "      <td>0.597595</td>\n",
              "      <td>15.115038</td>\n",
              "    </tr>\n",
              "    <tr>\n",
              "      <th>22</th>\n",
              "      <td>(22726)</td>\n",
              "      <td>(22727)</td>\n",
              "      <td>0.025464</td>\n",
              "      <td>0.644068</td>\n",
              "      <td>15.115038</td>\n",
              "    </tr>\n",
              "    <tr>\n",
              "      <th>16</th>\n",
              "      <td>(22697)</td>\n",
              "      <td>(22698)</td>\n",
              "      <td>0.025385</td>\n",
              "      <td>0.609272</td>\n",
              "      <td>19.272580</td>\n",
              "    </tr>\n",
              "  </tbody>\n",
              "</table>\n",
              "</div>"
            ],
            "text/plain": [
              "   antecedents consequents   support  confidence       lift\n",
              "12     (22386)    (85099B)  0.032835    0.676686   8.040673\n",
              "18     (22697)     (22699)  0.030904    0.741722  16.800662\n",
              "19     (22699)     (22697)  0.030904    0.700000  16.800662\n",
              "10     (21931)    (85099B)  0.028894    0.610325   7.252144\n",
              "13     (22411)    (85099B)  0.026923    0.575400   6.837155\n",
              "6      (22383)     (20725)  0.026134    0.507657   8.009173\n",
              "5      (20727)     (20725)  0.025543    0.500386   7.894462\n",
              "23     (22727)     (22726)  0.025464    0.597595  15.115038\n",
              "22     (22726)     (22727)  0.025464    0.644068  15.115038\n",
              "16     (22697)     (22698)  0.025385    0.609272  19.272580"
            ]
          },
          "metadata": {
            "tags": []
          },
          "execution_count": 62
        }
      ]
    },
    {
      "cell_type": "code",
      "metadata": {
        "colab": {
          "base_uri": "https://localhost:8080/"
        },
        "id": "EbUI9BdMfyYg",
        "outputId": "860bdb4f-bd92-4051-ef7b-9c2134b41a8c"
      },
      "source": [
        "print_rules(rules.sort_values([\"support\"], ascending=[False])[0:20])"
      ],
      "execution_count": 63,
      "outputs": [
        {
          "output_type": "stream",
          "text": [
            "(JUMBO BAG PINK POLKADOT) -> (JUMBO BAG RED RETROSPOT)\n",
            "(GREEN REGENCY TEACUP AND SAUCER) -> (ROSES REGENCY TEACUP AND SAUCER)\n",
            "(ROSES REGENCY TEACUP AND SAUCER) -> (GREEN REGENCY TEACUP AND SAUCER)\n",
            "(JUMBO STORAGE BAG SUKI) -> (JUMBO BAG RED RETROSPOT)\n",
            "(JUMBO SHOPPER VINTAGE RED PAISLEY) -> (JUMBO BAG RED RETROSPOT)\n",
            "(LUNCH BAG SUKI  DESIGN) -> (LUNCH BAG RED RETROSPOT)\n",
            "(LUNCH BAG  BLACK SKULL.) -> (LUNCH BAG RED RETROSPOT)\n",
            "(ALARM CLOCK BAKELIKE RED) -> (ALARM CLOCK BAKELIKE GREEN)\n",
            "(ALARM CLOCK BAKELIKE GREEN) -> (ALARM CLOCK BAKELIKE RED)\n",
            "(GREEN REGENCY TEACUP AND SAUCER) -> (PINK REGENCY TEACUP AND SAUCER)\n"
          ],
          "name": "stdout"
        }
      ]
    },
    {
      "cell_type": "markdown",
      "metadata": {
        "id": "qD20u2mcSmyw"
      },
      "source": [
        "#### Ranking Reglas - Confianza"
      ]
    },
    {
      "cell_type": "code",
      "metadata": {
        "colab": {
          "base_uri": "https://localhost:8080/",
          "height": 359
        },
        "id": "rupVlTUJSsSL",
        "outputId": "8719c642-3056-48e1-a753-fe8effca68af"
      },
      "source": [
        "rules.sort_values([\"confidence\"], ascending=[False])[0:20]"
      ],
      "execution_count": 64,
      "outputs": [
        {
          "output_type": "execute_result",
          "data": {
            "text/html": [
              "<div>\n",
              "<style scoped>\n",
              "    .dataframe tbody tr th:only-of-type {\n",
              "        vertical-align: middle;\n",
              "    }\n",
              "\n",
              "    .dataframe tbody tr th {\n",
              "        vertical-align: top;\n",
              "    }\n",
              "\n",
              "    .dataframe thead th {\n",
              "        text-align: right;\n",
              "    }\n",
              "</style>\n",
              "<table border=\"1\" class=\"dataframe\">\n",
              "  <thead>\n",
              "    <tr style=\"text-align: right;\">\n",
              "      <th></th>\n",
              "      <th>antecedents</th>\n",
              "      <th>consequents</th>\n",
              "      <th>support</th>\n",
              "      <th>confidence</th>\n",
              "      <th>lift</th>\n",
              "    </tr>\n",
              "  </thead>\n",
              "  <tbody>\n",
              "    <tr>\n",
              "      <th>33</th>\n",
              "      <td>(22698, 22699)</td>\n",
              "      <td>(22697)</td>\n",
              "      <td>0.021641</td>\n",
              "      <td>0.894137</td>\n",
              "      <td>21.460129</td>\n",
              "    </tr>\n",
              "    <tr>\n",
              "      <th>31</th>\n",
              "      <td>(22697, 22698)</td>\n",
              "      <td>(22699)</td>\n",
              "      <td>0.021641</td>\n",
              "      <td>0.852484</td>\n",
              "      <td>19.309534</td>\n",
              "    </tr>\n",
              "    <tr>\n",
              "      <th>17</th>\n",
              "      <td>(22698)</td>\n",
              "      <td>(22697)</td>\n",
              "      <td>0.025385</td>\n",
              "      <td>0.802993</td>\n",
              "      <td>19.272580</td>\n",
              "    </tr>\n",
              "    <tr>\n",
              "      <th>20</th>\n",
              "      <td>(22698)</td>\n",
              "      <td>(22699)</td>\n",
              "      <td>0.024203</td>\n",
              "      <td>0.765586</td>\n",
              "      <td>17.341207</td>\n",
              "    </tr>\n",
              "    <tr>\n",
              "      <th>18</th>\n",
              "      <td>(22697)</td>\n",
              "      <td>(22699)</td>\n",
              "      <td>0.030904</td>\n",
              "      <td>0.741722</td>\n",
              "      <td>16.800662</td>\n",
              "    </tr>\n",
              "    <tr>\n",
              "      <th>27</th>\n",
              "      <td>(23300)</td>\n",
              "      <td>(23301)</td>\n",
              "      <td>0.021641</td>\n",
              "      <td>0.717647</td>\n",
              "      <td>19.703450</td>\n",
              "    </tr>\n",
              "    <tr>\n",
              "      <th>32</th>\n",
              "      <td>(22697, 22699)</td>\n",
              "      <td>(22698)</td>\n",
              "      <td>0.021641</td>\n",
              "      <td>0.700255</td>\n",
              "      <td>22.150588</td>\n",
              "    </tr>\n",
              "    <tr>\n",
              "      <th>19</th>\n",
              "      <td>(22699)</td>\n",
              "      <td>(22697)</td>\n",
              "      <td>0.030904</td>\n",
              "      <td>0.700000</td>\n",
              "      <td>16.800662</td>\n",
              "    </tr>\n",
              "    <tr>\n",
              "      <th>3</th>\n",
              "      <td>(22356)</td>\n",
              "      <td>(20724)</td>\n",
              "      <td>0.020734</td>\n",
              "      <td>0.692105</td>\n",
              "      <td>16.721922</td>\n",
              "    </tr>\n",
              "    <tr>\n",
              "      <th>35</th>\n",
              "      <td>(22698)</td>\n",
              "      <td>(22697, 22699)</td>\n",
              "      <td>0.021641</td>\n",
              "      <td>0.684539</td>\n",
              "      <td>22.150588</td>\n",
              "    </tr>\n",
              "  </tbody>\n",
              "</table>\n",
              "</div>"
            ],
            "text/plain": [
              "       antecedents     consequents   support  confidence       lift\n",
              "33  (22698, 22699)         (22697)  0.021641    0.894137  21.460129\n",
              "31  (22697, 22698)         (22699)  0.021641    0.852484  19.309534\n",
              "17         (22698)         (22697)  0.025385    0.802993  19.272580\n",
              "20         (22698)         (22699)  0.024203    0.765586  17.341207\n",
              "18         (22697)         (22699)  0.030904    0.741722  16.800662\n",
              "27         (23300)         (23301)  0.021641    0.717647  19.703450\n",
              "32  (22697, 22699)         (22698)  0.021641    0.700255  22.150588\n",
              "19         (22699)         (22697)  0.030904    0.700000  16.800662\n",
              "3          (22356)         (20724)  0.020734    0.692105  16.721922\n",
              "35         (22698)  (22697, 22699)  0.021641    0.684539  22.150588"
            ]
          },
          "metadata": {
            "tags": []
          },
          "execution_count": 64
        }
      ]
    },
    {
      "cell_type": "code",
      "metadata": {
        "colab": {
          "base_uri": "https://localhost:8080/"
        },
        "id": "X7sS-MKegPAa",
        "outputId": "359d1da2-d4c1-4b68-84f0-0bbf40805520"
      },
      "source": [
        "print_rules(rules.sort_values([\"confidence\"], ascending=[False])[0:20])"
      ],
      "execution_count": 65,
      "outputs": [
        {
          "output_type": "stream",
          "text": [
            "(PINK REGENCY TEACUP AND SAUCER & ROSES REGENCY TEACUP AND SAUCER) -> (GREEN REGENCY TEACUP AND SAUCER)\n",
            "(GREEN REGENCY TEACUP AND SAUCER & PINK REGENCY TEACUP AND SAUCER) -> (ROSES REGENCY TEACUP AND SAUCER)\n",
            "(PINK REGENCY TEACUP AND SAUCER) -> (GREEN REGENCY TEACUP AND SAUCER)\n",
            "(PINK REGENCY TEACUP AND SAUCER) -> (ROSES REGENCY TEACUP AND SAUCER)\n",
            "(GREEN REGENCY TEACUP AND SAUCER) -> (ROSES REGENCY TEACUP AND SAUCER)\n",
            "(GARDENERS KNEELING PAD CUP OF TEA) -> (GARDENERS KNEELING PAD KEEP CALM)\n",
            "(GREEN REGENCY TEACUP AND SAUCER & ROSES REGENCY TEACUP AND SAUCER) -> (PINK REGENCY TEACUP AND SAUCER)\n",
            "(ROSES REGENCY TEACUP AND SAUCER) -> (GREEN REGENCY TEACUP AND SAUCER)\n",
            "(CHARLOTTE BAG PINK POLKADOT) -> (RED RETROSPOT CHARLOTTE BAG)\n",
            "(PINK REGENCY TEACUP AND SAUCER) -> (GREEN REGENCY TEACUP AND SAUCER & ROSES REGENCY TEACUP AND SAUCER)\n"
          ],
          "name": "stdout"
        }
      ]
    },
    {
      "cell_type": "markdown",
      "metadata": {
        "id": "E03or8BMSpFh"
      },
      "source": [
        "#### Ranking Reglas - Lift"
      ]
    },
    {
      "cell_type": "code",
      "metadata": {
        "colab": {
          "base_uri": "https://localhost:8080/",
          "height": 359
        },
        "id": "eTCBEzUygo--",
        "outputId": "0eca0963-0530-40ec-b943-c4b26b303896"
      },
      "source": [
        "rules.sort_values([\"lift\"], ascending=[False])[0:20]"
      ],
      "execution_count": 66,
      "outputs": [
        {
          "output_type": "execute_result",
          "data": {
            "text/html": [
              "<div>\n",
              "<style scoped>\n",
              "    .dataframe tbody tr th:only-of-type {\n",
              "        vertical-align: middle;\n",
              "    }\n",
              "\n",
              "    .dataframe tbody tr th {\n",
              "        vertical-align: top;\n",
              "    }\n",
              "\n",
              "    .dataframe thead th {\n",
              "        text-align: right;\n",
              "    }\n",
              "</style>\n",
              "<table border=\"1\" class=\"dataframe\">\n",
              "  <thead>\n",
              "    <tr style=\"text-align: right;\">\n",
              "      <th></th>\n",
              "      <th>antecedents</th>\n",
              "      <th>consequents</th>\n",
              "      <th>support</th>\n",
              "      <th>confidence</th>\n",
              "      <th>lift</th>\n",
              "    </tr>\n",
              "  </thead>\n",
              "  <tbody>\n",
              "    <tr>\n",
              "      <th>35</th>\n",
              "      <td>(22698)</td>\n",
              "      <td>(22697, 22699)</td>\n",
              "      <td>0.021641</td>\n",
              "      <td>0.684539</td>\n",
              "      <td>22.150588</td>\n",
              "    </tr>\n",
              "    <tr>\n",
              "      <th>32</th>\n",
              "      <td>(22697, 22699)</td>\n",
              "      <td>(22698)</td>\n",
              "      <td>0.021641</td>\n",
              "      <td>0.700255</td>\n",
              "      <td>22.150588</td>\n",
              "    </tr>\n",
              "    <tr>\n",
              "      <th>33</th>\n",
              "      <td>(22698, 22699)</td>\n",
              "      <td>(22697)</td>\n",
              "      <td>0.021641</td>\n",
              "      <td>0.894137</td>\n",
              "      <td>21.460129</td>\n",
              "    </tr>\n",
              "    <tr>\n",
              "      <th>34</th>\n",
              "      <td>(22697)</td>\n",
              "      <td>(22698, 22699)</td>\n",
              "      <td>0.021641</td>\n",
              "      <td>0.519395</td>\n",
              "      <td>21.460129</td>\n",
              "    </tr>\n",
              "    <tr>\n",
              "      <th>27</th>\n",
              "      <td>(23300)</td>\n",
              "      <td>(23301)</td>\n",
              "      <td>0.021641</td>\n",
              "      <td>0.717647</td>\n",
              "      <td>19.703450</td>\n",
              "    </tr>\n",
              "    <tr>\n",
              "      <th>26</th>\n",
              "      <td>(23301)</td>\n",
              "      <td>(23300)</td>\n",
              "      <td>0.021641</td>\n",
              "      <td>0.594156</td>\n",
              "      <td>19.703450</td>\n",
              "    </tr>\n",
              "    <tr>\n",
              "      <th>31</th>\n",
              "      <td>(22697, 22698)</td>\n",
              "      <td>(22699)</td>\n",
              "      <td>0.021641</td>\n",
              "      <td>0.852484</td>\n",
              "      <td>19.309534</td>\n",
              "    </tr>\n",
              "    <tr>\n",
              "      <th>16</th>\n",
              "      <td>(22697)</td>\n",
              "      <td>(22698)</td>\n",
              "      <td>0.025385</td>\n",
              "      <td>0.609272</td>\n",
              "      <td>19.272580</td>\n",
              "    </tr>\n",
              "    <tr>\n",
              "      <th>17</th>\n",
              "      <td>(22698)</td>\n",
              "      <td>(22697)</td>\n",
              "      <td>0.025385</td>\n",
              "      <td>0.802993</td>\n",
              "      <td>19.272580</td>\n",
              "    </tr>\n",
              "    <tr>\n",
              "      <th>14</th>\n",
              "      <td>(22629)</td>\n",
              "      <td>(22630)</td>\n",
              "      <td>0.021207</td>\n",
              "      <td>0.592511</td>\n",
              "      <td>17.478386</td>\n",
              "    </tr>\n",
              "  </tbody>\n",
              "</table>\n",
              "</div>"
            ],
            "text/plain": [
              "       antecedents     consequents   support  confidence       lift\n",
              "35         (22698)  (22697, 22699)  0.021641    0.684539  22.150588\n",
              "32  (22697, 22699)         (22698)  0.021641    0.700255  22.150588\n",
              "33  (22698, 22699)         (22697)  0.021641    0.894137  21.460129\n",
              "34         (22697)  (22698, 22699)  0.021641    0.519395  21.460129\n",
              "27         (23300)         (23301)  0.021641    0.717647  19.703450\n",
              "26         (23301)         (23300)  0.021641    0.594156  19.703450\n",
              "31  (22697, 22698)         (22699)  0.021641    0.852484  19.309534\n",
              "16         (22697)         (22698)  0.025385    0.609272  19.272580\n",
              "17         (22698)         (22697)  0.025385    0.802993  19.272580\n",
              "14         (22629)         (22630)  0.021207    0.592511  17.478386"
            ]
          },
          "metadata": {
            "tags": []
          },
          "execution_count": 66
        }
      ]
    },
    {
      "cell_type": "code",
      "metadata": {
        "colab": {
          "base_uri": "https://localhost:8080/"
        },
        "id": "9CS_FtkXSrzU",
        "outputId": "d0831b79-46ee-4f5a-b7d1-9b88a3be7772"
      },
      "source": [
        "print_rules(rules.sort_values([\"lift\"], ascending=[False])[0:20])"
      ],
      "execution_count": 61,
      "outputs": [
        {
          "output_type": "stream",
          "text": [
            "(PINK REGENCY TEACUP AND SAUCER) -> (GREEN REGENCY TEACUP AND SAUCER & ROSES REGENCY TEACUP AND SAUCER)\n",
            "(GREEN REGENCY TEACUP AND SAUCER & ROSES REGENCY TEACUP AND SAUCER) -> (PINK REGENCY TEACUP AND SAUCER)\n",
            "(PINK REGENCY TEACUP AND SAUCER & ROSES REGENCY TEACUP AND SAUCER) -> (GREEN REGENCY TEACUP AND SAUCER)\n",
            "(GREEN REGENCY TEACUP AND SAUCER) -> (PINK REGENCY TEACUP AND SAUCER & ROSES REGENCY TEACUP AND SAUCER)\n",
            "(GARDENERS KNEELING PAD CUP OF TEA) -> (GARDENERS KNEELING PAD KEEP CALM)\n",
            "(GARDENERS KNEELING PAD KEEP CALM) -> (GARDENERS KNEELING PAD CUP OF TEA)\n",
            "(GREEN REGENCY TEACUP AND SAUCER & PINK REGENCY TEACUP AND SAUCER) -> (ROSES REGENCY TEACUP AND SAUCER)\n",
            "(GREEN REGENCY TEACUP AND SAUCER) -> (PINK REGENCY TEACUP AND SAUCER)\n",
            "(PINK REGENCY TEACUP AND SAUCER) -> (GREEN REGENCY TEACUP AND SAUCER)\n",
            "(SPACEBOY LUNCH BOX) -> (DOLLY GIRL LUNCH BOX)\n"
          ],
          "name": "stdout"
        }
      ]
    },
    {
      "cell_type": "markdown",
      "metadata": {
        "id": "eJvoGdkZ4qT7"
      },
      "source": [
        "#### FP-Growth"
      ]
    },
    {
      "cell_type": "code",
      "metadata": {
        "colab": {
          "base_uri": "https://localhost:8080/"
        },
        "id": "nUjnIGN4mpMU",
        "outputId": "5e8cad82-932a-4c60-c0ed-bd7b3c3e3482"
      },
      "source": [
        "# Statistics \n",
        "MIN_SUPPORT = 0.1\n",
        "get_fpgrowth_statistics(df, MIN_SUPPORT)\n",
        "\n",
        "MIN_SUPPORT = 0.05\n",
        "get_fpgrowth_statistics(df, MIN_SUPPORT)\n",
        "\n",
        "MIN_SUPPORT = 0.025\n",
        "get_fpgrowth_statistics(df, MIN_SUPPORT)\n",
        "\n",
        "MIN_SUPPORT = 0.02\n",
        "get_fpgrowth_statistics(df, MIN_SUPPORT)\n",
        "\n",
        "MIN_SUPPORT = 0.015\n",
        "get_fpgrowth_statistics(df, MIN_SUPPORT)\n",
        "\n",
        "MIN_SUPPORT = 0.0125\n",
        "get_fpgrowth_statistics(df, MIN_SUPPORT)"
      ],
      "execution_count": 68,
      "outputs": [
        {
          "output_type": "stream",
          "text": [
            "Numero de Itemset Frecuentes: 0 - Soporte: 0.1 - Itemsets size - 1: 0 - 2: 0 - 3: 0 - 4: 0\n",
            "Numero de Itemset Frecuentes: 11 - Soporte: 0.05 - Itemsets size - 1: 11 - 2: 0 - 3: 0 - 4: 0\n",
            "Numero de Itemset Frecuentes: 121 - Soporte: 0.025 - Itemsets size - 1: 113 - 2: 8 - 3: 0 - 4: 0\n",
            "Numero de Itemset Frecuentes: 225 - Soporte: 0.02 - Itemsets size - 1: 186 - 2: 38 - 3: 1 - 4: 0\n",
            "Numero de Itemset Frecuentes: 443 - Soporte: 0.015 - Itemsets size - 1: 332 - 2: 107 - 3: 4 - 4: 0\n",
            "Numero de Itemset Frecuentes: 661 - Soporte: 0.0125 - Itemsets size - 1: 450 - 2: 185 - 3: 26 - 4: 0\n"
          ],
          "name": "stdout"
        }
      ]
    },
    {
      "cell_type": "code",
      "metadata": {
        "colab": {
          "base_uri": "https://localhost:8080/",
          "height": 419
        },
        "id": "RldWr8Y6PScl",
        "outputId": "14ec4933-2885-4a59-a5b1-fde8f15efaf3"
      },
      "source": [
        "frequent_itemsets = fpgrowth(df, min_support=0.015, use_colnames=True)\n",
        "frequent_itemsets"
      ],
      "execution_count": 70,
      "outputs": [
        {
          "output_type": "execute_result",
          "data": {
            "text/html": [
              "<div>\n",
              "<style scoped>\n",
              "    .dataframe tbody tr th:only-of-type {\n",
              "        vertical-align: middle;\n",
              "    }\n",
              "\n",
              "    .dataframe tbody tr th {\n",
              "        vertical-align: top;\n",
              "    }\n",
              "\n",
              "    .dataframe thead th {\n",
              "        text-align: right;\n",
              "    }\n",
              "</style>\n",
              "<table border=\"1\" class=\"dataframe\">\n",
              "  <thead>\n",
              "    <tr style=\"text-align: right;\">\n",
              "      <th></th>\n",
              "      <th>support</th>\n",
              "      <th>itemsets</th>\n",
              "    </tr>\n",
              "  </thead>\n",
              "  <tbody>\n",
              "    <tr>\n",
              "      <th>0</th>\n",
              "      <td>0.088533</td>\n",
              "      <td>(85123A)</td>\n",
              "    </tr>\n",
              "    <tr>\n",
              "      <th>1</th>\n",
              "      <td>0.018290</td>\n",
              "      <td>(84029G)</td>\n",
              "    </tr>\n",
              "    <tr>\n",
              "      <th>2</th>\n",
              "      <td>0.017265</td>\n",
              "      <td>(84029E)</td>\n",
              "    </tr>\n",
              "    <tr>\n",
              "      <th>3</th>\n",
              "      <td>0.015176</td>\n",
              "      <td>(22752)</td>\n",
              "    </tr>\n",
              "    <tr>\n",
              "      <th>4</th>\n",
              "      <td>0.019197</td>\n",
              "      <td>(22633)</td>\n",
              "    </tr>\n",
              "    <tr>\n",
              "      <th>...</th>\n",
              "      <td>...</td>\n",
              "      <td>...</td>\n",
              "    </tr>\n",
              "    <tr>\n",
              "      <th>438</th>\n",
              "      <td>0.020419</td>\n",
              "      <td>(23203, 23202)</td>\n",
              "    </tr>\n",
              "    <tr>\n",
              "      <th>439</th>\n",
              "      <td>0.022941</td>\n",
              "      <td>(85099B, 23203)</td>\n",
              "    </tr>\n",
              "    <tr>\n",
              "      <th>440</th>\n",
              "      <td>0.019906</td>\n",
              "      <td>(23209, 23203)</td>\n",
              "    </tr>\n",
              "    <tr>\n",
              "      <th>441</th>\n",
              "      <td>0.018290</td>\n",
              "      <td>(20725, 23209)</td>\n",
              "    </tr>\n",
              "    <tr>\n",
              "      <th>442</th>\n",
              "      <td>0.021641</td>\n",
              "      <td>(23301, 23300)</td>\n",
              "    </tr>\n",
              "  </tbody>\n",
              "</table>\n",
              "<p>443 rows × 2 columns</p>\n",
              "</div>"
            ],
            "text/plain": [
              "      support         itemsets\n",
              "0    0.088533         (85123A)\n",
              "1    0.018290         (84029G)\n",
              "2    0.017265         (84029E)\n",
              "3    0.015176          (22752)\n",
              "4    0.019197          (22633)\n",
              "..        ...              ...\n",
              "438  0.020419   (23203, 23202)\n",
              "439  0.022941  (85099B, 23203)\n",
              "440  0.019906   (23209, 23203)\n",
              "441  0.018290   (20725, 23209)\n",
              "442  0.021641   (23301, 23300)\n",
              "\n",
              "[443 rows x 2 columns]"
            ]
          },
          "metadata": {
            "tags": []
          },
          "execution_count": 70
        }
      ]
    },
    {
      "cell_type": "code",
      "metadata": {
        "colab": {
          "base_uri": "https://localhost:8080/"
        },
        "id": "K_Z-m4eNm_Eo",
        "outputId": "ad9005bd-2490-4667-d999-f157f796a4a8"
      },
      "source": [
        "MIN_CONFIDENCE = 0.4\n",
        "rules = association_rules(\n",
        "    frequent_itemsets, metric=\"confidence\", min_threshold=MIN_CONFIDENCE\n",
        ")[[\"antecedents\", \"consequents\", \"support\", \"confidence\"]]\n",
        "print(\"Numero de reglas: {} - Confianza: {}\".format(len(rules), MIN_CONFIDENCE))\n",
        "\n",
        "MIN_CONFIDENCE = 0.5\n",
        "rules = association_rules(\n",
        "    frequent_itemsets, metric=\"confidence\", min_threshold=MIN_CONFIDENCE\n",
        ")[[\"antecedents\", \"consequents\", \"support\", \"confidence\"]]\n",
        "print(\"Numero de reglas: {} - Confianza: {}\".format(len(rules), MIN_CONFIDENCE))\n",
        "\n",
        "MIN_CONFIDENCE = 0.7\n",
        "rules = association_rules(\n",
        "    frequent_itemsets, metric=\"confidence\", min_threshold=MIN_CONFIDENCE\n",
        ")[[\"antecedents\", \"consequents\", \"support\", \"confidence\"]]\n",
        "print(\"Numero de reglas: {} - Confianza: {}\".format(len(rules), MIN_CONFIDENCE))\n",
        "\n",
        "MIN_CONFIDENCE = 0.9\n",
        "rules = association_rules(\n",
        "    frequent_itemsets, metric=\"confidence\", min_threshold=MIN_CONFIDENCE\n",
        ")[[\"antecedents\", \"consequents\", \"support\", \"confidence\"]]\n",
        "print(\"Numero de reglas: {} - Confianza: {}\".format(len(rules), MIN_CONFIDENCE))"
      ],
      "execution_count": 71,
      "outputs": [
        {
          "output_type": "stream",
          "text": [
            "Numero de reglas: 145 - Confianza: 0.4\n",
            "Numero de reglas: 70 - Confianza: 0.5\n",
            "Numero de reglas: 14 - Confianza: 0.7\n",
            "Numero de reglas: 0 - Confianza: 0.9\n"
          ],
          "name": "stdout"
        }
      ]
    },
    {
      "cell_type": "code",
      "metadata": {
        "id": "fq3f_r4QnHxi"
      },
      "source": [
        "rules = association_rules(frequent_itemsets, metric=\"confidence\", min_threshold=0.5)[\n",
        "    [\"antecedents\", \"consequents\", \"support\", \"confidence\", \"lift\"]\n",
        "]"
      ],
      "execution_count": 72,
      "outputs": []
    },
    {
      "cell_type": "markdown",
      "metadata": {
        "id": "apROk7p2R3GM"
      },
      "source": [
        "#### Ranking Reglas - Soporte\n",
        "\n",
        "\n",
        " "
      ]
    },
    {
      "cell_type": "code",
      "metadata": {
        "colab": {
          "base_uri": "https://localhost:8080/",
          "height": 669
        },
        "id": "iSszivck0vfE",
        "outputId": "867e48c4-a826-41e7-a708-2f617088e8df"
      },
      "source": [
        "rules.sort_values([\"support\"], ascending=[False])[0:20]"
      ],
      "execution_count": 73,
      "outputs": [
        {
          "output_type": "execute_result",
          "data": {
            "text/html": [
              "<div>\n",
              "<style scoped>\n",
              "    .dataframe tbody tr th:only-of-type {\n",
              "        vertical-align: middle;\n",
              "    }\n",
              "\n",
              "    .dataframe tbody tr th {\n",
              "        vertical-align: top;\n",
              "    }\n",
              "\n",
              "    .dataframe thead th {\n",
              "        text-align: right;\n",
              "    }\n",
              "</style>\n",
              "<table border=\"1\" class=\"dataframe\">\n",
              "  <thead>\n",
              "    <tr style=\"text-align: right;\">\n",
              "      <th></th>\n",
              "      <th>antecedents</th>\n",
              "      <th>consequents</th>\n",
              "      <th>support</th>\n",
              "      <th>confidence</th>\n",
              "      <th>lift</th>\n",
              "    </tr>\n",
              "  </thead>\n",
              "  <tbody>\n",
              "    <tr>\n",
              "      <th>6</th>\n",
              "      <td>(22386)</td>\n",
              "      <td>(85099B)</td>\n",
              "      <td>0.032835</td>\n",
              "      <td>0.676686</td>\n",
              "      <td>8.040673</td>\n",
              "    </tr>\n",
              "    <tr>\n",
              "      <th>36</th>\n",
              "      <td>(22697)</td>\n",
              "      <td>(22699)</td>\n",
              "      <td>0.030904</td>\n",
              "      <td>0.741722</td>\n",
              "      <td>16.800662</td>\n",
              "    </tr>\n",
              "    <tr>\n",
              "      <th>37</th>\n",
              "      <td>(22699)</td>\n",
              "      <td>(22697)</td>\n",
              "      <td>0.030904</td>\n",
              "      <td>0.700000</td>\n",
              "      <td>16.800662</td>\n",
              "    </tr>\n",
              "    <tr>\n",
              "      <th>7</th>\n",
              "      <td>(21931)</td>\n",
              "      <td>(85099B)</td>\n",
              "      <td>0.028894</td>\n",
              "      <td>0.610325</td>\n",
              "      <td>7.252144</td>\n",
              "    </tr>\n",
              "    <tr>\n",
              "      <th>18</th>\n",
              "      <td>(22411)</td>\n",
              "      <td>(85099B)</td>\n",
              "      <td>0.026923</td>\n",
              "      <td>0.575400</td>\n",
              "      <td>6.837155</td>\n",
              "    </tr>\n",
              "    <tr>\n",
              "      <th>29</th>\n",
              "      <td>(22383)</td>\n",
              "      <td>(20725)</td>\n",
              "      <td>0.026134</td>\n",
              "      <td>0.507657</td>\n",
              "      <td>8.009173</td>\n",
              "    </tr>\n",
              "    <tr>\n",
              "      <th>30</th>\n",
              "      <td>(20727)</td>\n",
              "      <td>(20725)</td>\n",
              "      <td>0.025543</td>\n",
              "      <td>0.500386</td>\n",
              "      <td>7.894462</td>\n",
              "    </tr>\n",
              "    <tr>\n",
              "      <th>0</th>\n",
              "      <td>(22726)</td>\n",
              "      <td>(22727)</td>\n",
              "      <td>0.025464</td>\n",
              "      <td>0.644068</td>\n",
              "      <td>15.115038</td>\n",
              "    </tr>\n",
              "    <tr>\n",
              "      <th>1</th>\n",
              "      <td>(22727)</td>\n",
              "      <td>(22726)</td>\n",
              "      <td>0.025464</td>\n",
              "      <td>0.597595</td>\n",
              "      <td>15.115038</td>\n",
              "    </tr>\n",
              "    <tr>\n",
              "      <th>55</th>\n",
              "      <td>(22697)</td>\n",
              "      <td>(22698)</td>\n",
              "      <td>0.025385</td>\n",
              "      <td>0.609272</td>\n",
              "      <td>19.272580</td>\n",
              "    </tr>\n",
              "    <tr>\n",
              "      <th>56</th>\n",
              "      <td>(22698)</td>\n",
              "      <td>(22697)</td>\n",
              "      <td>0.025385</td>\n",
              "      <td>0.802993</td>\n",
              "      <td>19.272580</td>\n",
              "    </tr>\n",
              "    <tr>\n",
              "      <th>58</th>\n",
              "      <td>(22698)</td>\n",
              "      <td>(22699)</td>\n",
              "      <td>0.024203</td>\n",
              "      <td>0.765586</td>\n",
              "      <td>17.341207</td>\n",
              "    </tr>\n",
              "    <tr>\n",
              "      <th>59</th>\n",
              "      <td>(22699)</td>\n",
              "      <td>(22698)</td>\n",
              "      <td>0.024203</td>\n",
              "      <td>0.548214</td>\n",
              "      <td>17.341207</td>\n",
              "    </tr>\n",
              "    <tr>\n",
              "      <th>27</th>\n",
              "      <td>(22384)</td>\n",
              "      <td>(20725)</td>\n",
              "      <td>0.024163</td>\n",
              "      <td>0.552252</td>\n",
              "      <td>8.712741</td>\n",
              "    </tr>\n",
              "    <tr>\n",
              "      <th>10</th>\n",
              "      <td>(85099C)</td>\n",
              "      <td>(85099B)</td>\n",
              "      <td>0.023375</td>\n",
              "      <td>0.626188</td>\n",
              "      <td>7.440638</td>\n",
              "    </tr>\n",
              "    <tr>\n",
              "      <th>25</th>\n",
              "      <td>(22910)</td>\n",
              "      <td>(22086)</td>\n",
              "      <td>0.021877</td>\n",
              "      <td>0.667067</td>\n",
              "      <td>14.463958</td>\n",
              "    </tr>\n",
              "    <tr>\n",
              "      <th>65</th>\n",
              "      <td>(23199)</td>\n",
              "      <td>(85099B)</td>\n",
              "      <td>0.021877</td>\n",
              "      <td>0.555556</td>\n",
              "      <td>6.601353</td>\n",
              "    </tr>\n",
              "    <tr>\n",
              "      <th>61</th>\n",
              "      <td>(22697, 22699)</td>\n",
              "      <td>(22698)</td>\n",
              "      <td>0.021641</td>\n",
              "      <td>0.700255</td>\n",
              "      <td>22.150588</td>\n",
              "    </tr>\n",
              "    <tr>\n",
              "      <th>62</th>\n",
              "      <td>(22698, 22699)</td>\n",
              "      <td>(22697)</td>\n",
              "      <td>0.021641</td>\n",
              "      <td>0.894137</td>\n",
              "      <td>21.460129</td>\n",
              "    </tr>\n",
              "    <tr>\n",
              "      <th>63</th>\n",
              "      <td>(22697)</td>\n",
              "      <td>(22698, 22699)</td>\n",
              "      <td>0.021641</td>\n",
              "      <td>0.519395</td>\n",
              "      <td>21.460129</td>\n",
              "    </tr>\n",
              "  </tbody>\n",
              "</table>\n",
              "</div>"
            ],
            "text/plain": [
              "       antecedents     consequents   support  confidence       lift\n",
              "6          (22386)        (85099B)  0.032835    0.676686   8.040673\n",
              "36         (22697)         (22699)  0.030904    0.741722  16.800662\n",
              "37         (22699)         (22697)  0.030904    0.700000  16.800662\n",
              "7          (21931)        (85099B)  0.028894    0.610325   7.252144\n",
              "18         (22411)        (85099B)  0.026923    0.575400   6.837155\n",
              "29         (22383)         (20725)  0.026134    0.507657   8.009173\n",
              "30         (20727)         (20725)  0.025543    0.500386   7.894462\n",
              "0          (22726)         (22727)  0.025464    0.644068  15.115038\n",
              "1          (22727)         (22726)  0.025464    0.597595  15.115038\n",
              "55         (22697)         (22698)  0.025385    0.609272  19.272580\n",
              "56         (22698)         (22697)  0.025385    0.802993  19.272580\n",
              "58         (22698)         (22699)  0.024203    0.765586  17.341207\n",
              "59         (22699)         (22698)  0.024203    0.548214  17.341207\n",
              "27         (22384)         (20725)  0.024163    0.552252   8.712741\n",
              "10        (85099C)        (85099B)  0.023375    0.626188   7.440638\n",
              "25         (22910)         (22086)  0.021877    0.667067  14.463958\n",
              "65         (23199)        (85099B)  0.021877    0.555556   6.601353\n",
              "61  (22697, 22699)         (22698)  0.021641    0.700255  22.150588\n",
              "62  (22698, 22699)         (22697)  0.021641    0.894137  21.460129\n",
              "63         (22697)  (22698, 22699)  0.021641    0.519395  21.460129"
            ]
          },
          "metadata": {
            "tags": []
          },
          "execution_count": 73
        }
      ]
    },
    {
      "cell_type": "code",
      "metadata": {
        "colab": {
          "base_uri": "https://localhost:8080/"
        },
        "id": "Jh9XFziJ0yOi",
        "outputId": "2e1054c2-689a-4595-9d23-e5efa952fbb3"
      },
      "source": [
        "print_rules(rules.sort_values([\"support\"], ascending=[False])[0:20])"
      ],
      "execution_count": 74,
      "outputs": [
        {
          "output_type": "stream",
          "text": [
            "(JUMBO BAG PINK POLKADOT) -> (JUMBO BAG RED RETROSPOT)\n",
            "(GREEN REGENCY TEACUP AND SAUCER) -> (ROSES REGENCY TEACUP AND SAUCER)\n",
            "(ROSES REGENCY TEACUP AND SAUCER) -> (GREEN REGENCY TEACUP AND SAUCER)\n",
            "(JUMBO STORAGE BAG SUKI) -> (JUMBO BAG RED RETROSPOT)\n",
            "(JUMBO SHOPPER VINTAGE RED PAISLEY) -> (JUMBO BAG RED RETROSPOT)\n",
            "(LUNCH BAG SUKI  DESIGN) -> (LUNCH BAG RED RETROSPOT)\n",
            "(LUNCH BAG  BLACK SKULL.) -> (LUNCH BAG RED RETROSPOT)\n",
            "(ALARM CLOCK BAKELIKE GREEN) -> (ALARM CLOCK BAKELIKE RED)\n",
            "(ALARM CLOCK BAKELIKE RED) -> (ALARM CLOCK BAKELIKE GREEN)\n",
            "(GREEN REGENCY TEACUP AND SAUCER) -> (PINK REGENCY TEACUP AND SAUCER)\n",
            "(PINK REGENCY TEACUP AND SAUCER) -> (GREEN REGENCY TEACUP AND SAUCER)\n",
            "(PINK REGENCY TEACUP AND SAUCER) -> (ROSES REGENCY TEACUP AND SAUCER)\n",
            "(ROSES REGENCY TEACUP AND SAUCER) -> (PINK REGENCY TEACUP AND SAUCER)\n",
            "(LUNCH BAG PINK POLKADOT) -> (LUNCH BAG RED RETROSPOT)\n",
            "(JUMBO  BAG BAROQUE BLACK WHITE) -> (JUMBO BAG RED RETROSPOT)\n",
            "(PAPER CHAIN KIT VINTAGE CHRISTMAS) -> (PAPER CHAIN KIT 50'S CHRISTMAS)\n",
            "(JUMBO BAG APPLES) -> (JUMBO BAG RED RETROSPOT)\n",
            "(GREEN REGENCY TEACUP AND SAUCER & ROSES REGENCY TEACUP AND SAUCER) -> (PINK REGENCY TEACUP AND SAUCER)\n",
            "(PINK REGENCY TEACUP AND SAUCER & ROSES REGENCY TEACUP AND SAUCER) -> (GREEN REGENCY TEACUP AND SAUCER)\n",
            "(GREEN REGENCY TEACUP AND SAUCER) -> (PINK REGENCY TEACUP AND SAUCER & ROSES REGENCY TEACUP AND SAUCER)\n"
          ],
          "name": "stdout"
        }
      ]
    },
    {
      "cell_type": "markdown",
      "metadata": {
        "id": "dRrnYILP00w7"
      },
      "source": [
        "#### Ranking Reglas - Confianza\n"
      ]
    },
    {
      "cell_type": "code",
      "metadata": {
        "colab": {
          "base_uri": "https://localhost:8080/",
          "height": 669
        },
        "id": "NX4bjAhd02Ss",
        "outputId": "07ef6106-1510-49f0-c685-fb72a6f92df6"
      },
      "source": [
        "rules.sort_values([\"confidence\"], ascending=[False])[0:20]"
      ],
      "execution_count": 75,
      "outputs": [
        {
          "output_type": "execute_result",
          "data": {
            "text/html": [
              "<div>\n",
              "<style scoped>\n",
              "    .dataframe tbody tr th:only-of-type {\n",
              "        vertical-align: middle;\n",
              "    }\n",
              "\n",
              "    .dataframe tbody tr th {\n",
              "        vertical-align: top;\n",
              "    }\n",
              "\n",
              "    .dataframe thead th {\n",
              "        text-align: right;\n",
              "    }\n",
              "</style>\n",
              "<table border=\"1\" class=\"dataframe\">\n",
              "  <thead>\n",
              "    <tr style=\"text-align: right;\">\n",
              "      <th></th>\n",
              "      <th>antecedents</th>\n",
              "      <th>consequents</th>\n",
              "      <th>support</th>\n",
              "      <th>confidence</th>\n",
              "      <th>lift</th>\n",
              "    </tr>\n",
              "  </thead>\n",
              "  <tbody>\n",
              "    <tr>\n",
              "      <th>62</th>\n",
              "      <td>(22698, 22699)</td>\n",
              "      <td>(22697)</td>\n",
              "      <td>0.021641</td>\n",
              "      <td>0.894137</td>\n",
              "      <td>21.460129</td>\n",
              "    </tr>\n",
              "    <tr>\n",
              "      <th>60</th>\n",
              "      <td>(22697, 22698)</td>\n",
              "      <td>(22699)</td>\n",
              "      <td>0.021641</td>\n",
              "      <td>0.852484</td>\n",
              "      <td>19.309534</td>\n",
              "    </tr>\n",
              "    <tr>\n",
              "      <th>8</th>\n",
              "      <td>(21931, 22386)</td>\n",
              "      <td>(85099B)</td>\n",
              "      <td>0.016398</td>\n",
              "      <td>0.803089</td>\n",
              "      <td>9.542651</td>\n",
              "    </tr>\n",
              "    <tr>\n",
              "      <th>56</th>\n",
              "      <td>(22698)</td>\n",
              "      <td>(22697)</td>\n",
              "      <td>0.025385</td>\n",
              "      <td>0.802993</td>\n",
              "      <td>19.272580</td>\n",
              "    </tr>\n",
              "    <tr>\n",
              "      <th>38</th>\n",
              "      <td>(22697, 22423)</td>\n",
              "      <td>(22699)</td>\n",
              "      <td>0.016240</td>\n",
              "      <td>0.795367</td>\n",
              "      <td>18.015768</td>\n",
              "    </tr>\n",
              "    <tr>\n",
              "      <th>40</th>\n",
              "      <td>(22423, 22699)</td>\n",
              "      <td>(22697)</td>\n",
              "      <td>0.016240</td>\n",
              "      <td>0.767225</td>\n",
              "      <td>18.414134</td>\n",
              "    </tr>\n",
              "    <tr>\n",
              "      <th>58</th>\n",
              "      <td>(22698)</td>\n",
              "      <td>(22699)</td>\n",
              "      <td>0.024203</td>\n",
              "      <td>0.765586</td>\n",
              "      <td>17.341207</td>\n",
              "    </tr>\n",
              "    <tr>\n",
              "      <th>52</th>\n",
              "      <td>(22578)</td>\n",
              "      <td>(22577)</td>\n",
              "      <td>0.015334</td>\n",
              "      <td>0.753876</td>\n",
              "      <td>35.351348</td>\n",
              "    </tr>\n",
              "    <tr>\n",
              "      <th>20</th>\n",
              "      <td>(21931, 22411)</td>\n",
              "      <td>(85099B)</td>\n",
              "      <td>0.015413</td>\n",
              "      <td>0.744762</td>\n",
              "      <td>8.849585</td>\n",
              "    </tr>\n",
              "    <tr>\n",
              "      <th>36</th>\n",
              "      <td>(22697)</td>\n",
              "      <td>(22699)</td>\n",
              "      <td>0.030904</td>\n",
              "      <td>0.741722</td>\n",
              "      <td>16.800662</td>\n",
              "    </tr>\n",
              "    <tr>\n",
              "      <th>53</th>\n",
              "      <td>(22577)</td>\n",
              "      <td>(22578)</td>\n",
              "      <td>0.015334</td>\n",
              "      <td>0.719039</td>\n",
              "      <td>35.351348</td>\n",
              "    </tr>\n",
              "    <tr>\n",
              "      <th>69</th>\n",
              "      <td>(23300)</td>\n",
              "      <td>(23301)</td>\n",
              "      <td>0.021641</td>\n",
              "      <td>0.717647</td>\n",
              "      <td>19.703450</td>\n",
              "    </tr>\n",
              "    <tr>\n",
              "      <th>61</th>\n",
              "      <td>(22697, 22699)</td>\n",
              "      <td>(22698)</td>\n",
              "      <td>0.021641</td>\n",
              "      <td>0.700255</td>\n",
              "      <td>22.150588</td>\n",
              "    </tr>\n",
              "    <tr>\n",
              "      <th>37</th>\n",
              "      <td>(22699)</td>\n",
              "      <td>(22697)</td>\n",
              "      <td>0.030904</td>\n",
              "      <td>0.700000</td>\n",
              "      <td>16.800662</td>\n",
              "    </tr>\n",
              "    <tr>\n",
              "      <th>49</th>\n",
              "      <td>(22356)</td>\n",
              "      <td>(20724)</td>\n",
              "      <td>0.020734</td>\n",
              "      <td>0.692105</td>\n",
              "      <td>16.721922</td>\n",
              "    </tr>\n",
              "    <tr>\n",
              "      <th>64</th>\n",
              "      <td>(22698)</td>\n",
              "      <td>(22697, 22699)</td>\n",
              "      <td>0.021641</td>\n",
              "      <td>0.684539</td>\n",
              "      <td>22.150588</td>\n",
              "    </tr>\n",
              "    <tr>\n",
              "      <th>66</th>\n",
              "      <td>(23200)</td>\n",
              "      <td>(23199)</td>\n",
              "      <td>0.016161</td>\n",
              "      <td>0.681063</td>\n",
              "      <td>17.295186</td>\n",
              "    </tr>\n",
              "    <tr>\n",
              "      <th>6</th>\n",
              "      <td>(22386)</td>\n",
              "      <td>(85099B)</td>\n",
              "      <td>0.032835</td>\n",
              "      <td>0.676686</td>\n",
              "      <td>8.040673</td>\n",
              "    </tr>\n",
              "    <tr>\n",
              "      <th>44</th>\n",
              "      <td>(21928)</td>\n",
              "      <td>(85099B)</td>\n",
              "      <td>0.021522</td>\n",
              "      <td>0.669118</td>\n",
              "      <td>7.950747</td>\n",
              "    </tr>\n",
              "    <tr>\n",
              "      <th>13</th>\n",
              "      <td>(20723)</td>\n",
              "      <td>(20724)</td>\n",
              "      <td>0.019315</td>\n",
              "      <td>0.667575</td>\n",
              "      <td>16.129246</td>\n",
              "    </tr>\n",
              "  </tbody>\n",
              "</table>\n",
              "</div>"
            ],
            "text/plain": [
              "       antecedents     consequents   support  confidence       lift\n",
              "62  (22698, 22699)         (22697)  0.021641    0.894137  21.460129\n",
              "60  (22697, 22698)         (22699)  0.021641    0.852484  19.309534\n",
              "8   (21931, 22386)        (85099B)  0.016398    0.803089   9.542651\n",
              "56         (22698)         (22697)  0.025385    0.802993  19.272580\n",
              "38  (22697, 22423)         (22699)  0.016240    0.795367  18.015768\n",
              "40  (22423, 22699)         (22697)  0.016240    0.767225  18.414134\n",
              "58         (22698)         (22699)  0.024203    0.765586  17.341207\n",
              "52         (22578)         (22577)  0.015334    0.753876  35.351348\n",
              "20  (21931, 22411)        (85099B)  0.015413    0.744762   8.849585\n",
              "36         (22697)         (22699)  0.030904    0.741722  16.800662\n",
              "53         (22577)         (22578)  0.015334    0.719039  35.351348\n",
              "69         (23300)         (23301)  0.021641    0.717647  19.703450\n",
              "61  (22697, 22699)         (22698)  0.021641    0.700255  22.150588\n",
              "37         (22699)         (22697)  0.030904    0.700000  16.800662\n",
              "49         (22356)         (20724)  0.020734    0.692105  16.721922\n",
              "64         (22698)  (22697, 22699)  0.021641    0.684539  22.150588\n",
              "66         (23200)         (23199)  0.016161    0.681063  17.295186\n",
              "6          (22386)        (85099B)  0.032835    0.676686   8.040673\n",
              "44         (21928)        (85099B)  0.021522    0.669118   7.950747\n",
              "13         (20723)         (20724)  0.019315    0.667575  16.129246"
            ]
          },
          "metadata": {
            "tags": []
          },
          "execution_count": 75
        }
      ]
    },
    {
      "cell_type": "code",
      "metadata": {
        "colab": {
          "base_uri": "https://localhost:8080/"
        },
        "id": "iDnUVyyr04ho",
        "outputId": "aca518f1-47c8-4c62-a368-d2d224cb303c"
      },
      "source": [
        "print_rules(rules.sort_values([\"confidence\"], ascending=[False])[0:20])"
      ],
      "execution_count": 76,
      "outputs": [
        {
          "output_type": "stream",
          "text": [
            "(PINK REGENCY TEACUP AND SAUCER & ROSES REGENCY TEACUP AND SAUCER) -> (GREEN REGENCY TEACUP AND SAUCER)\n",
            "(GREEN REGENCY TEACUP AND SAUCER & PINK REGENCY TEACUP AND SAUCER) -> (ROSES REGENCY TEACUP AND SAUCER)\n",
            "(JUMBO STORAGE BAG SUKI & JUMBO BAG PINK POLKADOT) -> (JUMBO BAG RED RETROSPOT)\n",
            "(PINK REGENCY TEACUP AND SAUCER) -> (GREEN REGENCY TEACUP AND SAUCER)\n",
            "(GREEN REGENCY TEACUP AND SAUCER & REGENCY CAKESTAND 3 TIER) -> (ROSES REGENCY TEACUP AND SAUCER)\n",
            "(REGENCY CAKESTAND 3 TIER & ROSES REGENCY TEACUP AND SAUCER) -> (GREEN REGENCY TEACUP AND SAUCER)\n",
            "(PINK REGENCY TEACUP AND SAUCER) -> (ROSES REGENCY TEACUP AND SAUCER)\n",
            "(WOODEN STAR CHRISTMAS SCANDINAVIAN) -> (WOODEN HEART CHRISTMAS SCANDINAVIAN)\n",
            "(JUMBO STORAGE BAG SUKI & JUMBO SHOPPER VINTAGE RED PAISLEY) -> (JUMBO BAG RED RETROSPOT)\n",
            "(GREEN REGENCY TEACUP AND SAUCER) -> (ROSES REGENCY TEACUP AND SAUCER)\n",
            "(WOODEN HEART CHRISTMAS SCANDINAVIAN) -> (WOODEN STAR CHRISTMAS SCANDINAVIAN)\n",
            "(GARDENERS KNEELING PAD CUP OF TEA) -> (GARDENERS KNEELING PAD KEEP CALM)\n",
            "(GREEN REGENCY TEACUP AND SAUCER & ROSES REGENCY TEACUP AND SAUCER) -> (PINK REGENCY TEACUP AND SAUCER)\n",
            "(ROSES REGENCY TEACUP AND SAUCER) -> (GREEN REGENCY TEACUP AND SAUCER)\n",
            "(CHARLOTTE BAG PINK POLKADOT) -> (RED RETROSPOT CHARLOTTE BAG)\n",
            "(PINK REGENCY TEACUP AND SAUCER) -> (GREEN REGENCY TEACUP AND SAUCER & ROSES REGENCY TEACUP AND SAUCER)\n",
            "(mailout) -> (JUMBO BAG APPLES)\n",
            "(JUMBO BAG PINK POLKADOT) -> (JUMBO BAG RED RETROSPOT)\n",
            "(JUMBO BAG SCANDINAVIAN PAISLEY) -> (JUMBO BAG RED RETROSPOT)\n",
            "(STRAWBERRY CHARLOTTE BAG) -> (RED RETROSPOT CHARLOTTE BAG)\n"
          ],
          "name": "stdout"
        }
      ]
    },
    {
      "cell_type": "markdown",
      "metadata": {
        "id": "EkC_Y-YN07aq"
      },
      "source": [
        "#### Ranking Reglas - Lift\n"
      ]
    },
    {
      "cell_type": "code",
      "metadata": {
        "colab": {
          "base_uri": "https://localhost:8080/",
          "height": 669
        },
        "id": "ifLPkPj308v_",
        "outputId": "719d7cf9-204d-4dd8-86c9-261c6610917f"
      },
      "source": [
        "rules.sort_values([\"lift\"], ascending=[False])[0:20]"
      ],
      "execution_count": 77,
      "outputs": [
        {
          "output_type": "execute_result",
          "data": {
            "text/html": [
              "<div>\n",
              "<style scoped>\n",
              "    .dataframe tbody tr th:only-of-type {\n",
              "        vertical-align: middle;\n",
              "    }\n",
              "\n",
              "    .dataframe tbody tr th {\n",
              "        vertical-align: top;\n",
              "    }\n",
              "\n",
              "    .dataframe thead th {\n",
              "        text-align: right;\n",
              "    }\n",
              "</style>\n",
              "<table border=\"1\" class=\"dataframe\">\n",
              "  <thead>\n",
              "    <tr style=\"text-align: right;\">\n",
              "      <th></th>\n",
              "      <th>antecedents</th>\n",
              "      <th>consequents</th>\n",
              "      <th>support</th>\n",
              "      <th>confidence</th>\n",
              "      <th>lift</th>\n",
              "    </tr>\n",
              "  </thead>\n",
              "  <tbody>\n",
              "    <tr>\n",
              "      <th>52</th>\n",
              "      <td>(22578)</td>\n",
              "      <td>(22577)</td>\n",
              "      <td>0.015334</td>\n",
              "      <td>0.753876</td>\n",
              "      <td>35.351348</td>\n",
              "    </tr>\n",
              "    <tr>\n",
              "      <th>53</th>\n",
              "      <td>(22577)</td>\n",
              "      <td>(22578)</td>\n",
              "      <td>0.015334</td>\n",
              "      <td>0.719039</td>\n",
              "      <td>35.351348</td>\n",
              "    </tr>\n",
              "    <tr>\n",
              "      <th>64</th>\n",
              "      <td>(22698)</td>\n",
              "      <td>(22697, 22699)</td>\n",
              "      <td>0.021641</td>\n",
              "      <td>0.684539</td>\n",
              "      <td>22.150588</td>\n",
              "    </tr>\n",
              "    <tr>\n",
              "      <th>61</th>\n",
              "      <td>(22697, 22699)</td>\n",
              "      <td>(22698)</td>\n",
              "      <td>0.021641</td>\n",
              "      <td>0.700255</td>\n",
              "      <td>22.150588</td>\n",
              "    </tr>\n",
              "    <tr>\n",
              "      <th>62</th>\n",
              "      <td>(22698, 22699)</td>\n",
              "      <td>(22697)</td>\n",
              "      <td>0.021641</td>\n",
              "      <td>0.894137</td>\n",
              "      <td>21.460129</td>\n",
              "    </tr>\n",
              "    <tr>\n",
              "      <th>63</th>\n",
              "      <td>(22697)</td>\n",
              "      <td>(22698, 22699)</td>\n",
              "      <td>0.021641</td>\n",
              "      <td>0.519395</td>\n",
              "      <td>21.460129</td>\n",
              "    </tr>\n",
              "    <tr>\n",
              "      <th>69</th>\n",
              "      <td>(23300)</td>\n",
              "      <td>(23301)</td>\n",
              "      <td>0.021641</td>\n",
              "      <td>0.717647</td>\n",
              "      <td>19.703450</td>\n",
              "    </tr>\n",
              "    <tr>\n",
              "      <th>68</th>\n",
              "      <td>(23301)</td>\n",
              "      <td>(23300)</td>\n",
              "      <td>0.021641</td>\n",
              "      <td>0.594156</td>\n",
              "      <td>19.703450</td>\n",
              "    </tr>\n",
              "    <tr>\n",
              "      <th>60</th>\n",
              "      <td>(22697, 22698)</td>\n",
              "      <td>(22699)</td>\n",
              "      <td>0.021641</td>\n",
              "      <td>0.852484</td>\n",
              "      <td>19.309534</td>\n",
              "    </tr>\n",
              "    <tr>\n",
              "      <th>55</th>\n",
              "      <td>(22697)</td>\n",
              "      <td>(22698)</td>\n",
              "      <td>0.025385</td>\n",
              "      <td>0.609272</td>\n",
              "      <td>19.272580</td>\n",
              "    </tr>\n",
              "    <tr>\n",
              "      <th>56</th>\n",
              "      <td>(22698)</td>\n",
              "      <td>(22697)</td>\n",
              "      <td>0.025385</td>\n",
              "      <td>0.802993</td>\n",
              "      <td>19.272580</td>\n",
              "    </tr>\n",
              "    <tr>\n",
              "      <th>40</th>\n",
              "      <td>(22423, 22699)</td>\n",
              "      <td>(22697)</td>\n",
              "      <td>0.016240</td>\n",
              "      <td>0.767225</td>\n",
              "      <td>18.414134</td>\n",
              "    </tr>\n",
              "    <tr>\n",
              "      <th>38</th>\n",
              "      <td>(22697, 22423)</td>\n",
              "      <td>(22699)</td>\n",
              "      <td>0.016240</td>\n",
              "      <td>0.795367</td>\n",
              "      <td>18.015768</td>\n",
              "    </tr>\n",
              "    <tr>\n",
              "      <th>33</th>\n",
              "      <td>(22629)</td>\n",
              "      <td>(22630)</td>\n",
              "      <td>0.021207</td>\n",
              "      <td>0.592511</td>\n",
              "      <td>17.478386</td>\n",
              "    </tr>\n",
              "    <tr>\n",
              "      <th>34</th>\n",
              "      <td>(22630)</td>\n",
              "      <td>(22629)</td>\n",
              "      <td>0.021207</td>\n",
              "      <td>0.625581</td>\n",
              "      <td>17.478386</td>\n",
              "    </tr>\n",
              "    <tr>\n",
              "      <th>26</th>\n",
              "      <td>(22835)</td>\n",
              "      <td>(22112)</td>\n",
              "      <td>0.015570</td>\n",
              "      <td>0.595777</td>\n",
              "      <td>17.452957</td>\n",
              "    </tr>\n",
              "    <tr>\n",
              "      <th>16</th>\n",
              "      <td>(20723)</td>\n",
              "      <td>(22356)</td>\n",
              "      <td>0.015058</td>\n",
              "      <td>0.520436</td>\n",
              "      <td>17.372290</td>\n",
              "    </tr>\n",
              "    <tr>\n",
              "      <th>15</th>\n",
              "      <td>(22356)</td>\n",
              "      <td>(20723)</td>\n",
              "      <td>0.015058</td>\n",
              "      <td>0.502632</td>\n",
              "      <td>17.372290</td>\n",
              "    </tr>\n",
              "    <tr>\n",
              "      <th>58</th>\n",
              "      <td>(22698)</td>\n",
              "      <td>(22699)</td>\n",
              "      <td>0.024203</td>\n",
              "      <td>0.765586</td>\n",
              "      <td>17.341207</td>\n",
              "    </tr>\n",
              "    <tr>\n",
              "      <th>59</th>\n",
              "      <td>(22699)</td>\n",
              "      <td>(22698)</td>\n",
              "      <td>0.024203</td>\n",
              "      <td>0.548214</td>\n",
              "      <td>17.341207</td>\n",
              "    </tr>\n",
              "  </tbody>\n",
              "</table>\n",
              "</div>"
            ],
            "text/plain": [
              "       antecedents     consequents   support  confidence       lift\n",
              "52         (22578)         (22577)  0.015334    0.753876  35.351348\n",
              "53         (22577)         (22578)  0.015334    0.719039  35.351348\n",
              "64         (22698)  (22697, 22699)  0.021641    0.684539  22.150588\n",
              "61  (22697, 22699)         (22698)  0.021641    0.700255  22.150588\n",
              "62  (22698, 22699)         (22697)  0.021641    0.894137  21.460129\n",
              "63         (22697)  (22698, 22699)  0.021641    0.519395  21.460129\n",
              "69         (23300)         (23301)  0.021641    0.717647  19.703450\n",
              "68         (23301)         (23300)  0.021641    0.594156  19.703450\n",
              "60  (22697, 22698)         (22699)  0.021641    0.852484  19.309534\n",
              "55         (22697)         (22698)  0.025385    0.609272  19.272580\n",
              "56         (22698)         (22697)  0.025385    0.802993  19.272580\n",
              "40  (22423, 22699)         (22697)  0.016240    0.767225  18.414134\n",
              "38  (22697, 22423)         (22699)  0.016240    0.795367  18.015768\n",
              "33         (22629)         (22630)  0.021207    0.592511  17.478386\n",
              "34         (22630)         (22629)  0.021207    0.625581  17.478386\n",
              "26         (22835)         (22112)  0.015570    0.595777  17.452957\n",
              "16         (20723)         (22356)  0.015058    0.520436  17.372290\n",
              "15         (22356)         (20723)  0.015058    0.502632  17.372290\n",
              "58         (22698)         (22699)  0.024203    0.765586  17.341207\n",
              "59         (22699)         (22698)  0.024203    0.548214  17.341207"
            ]
          },
          "metadata": {
            "tags": []
          },
          "execution_count": 77
        }
      ]
    },
    {
      "cell_type": "code",
      "metadata": {
        "colab": {
          "base_uri": "https://localhost:8080/"
        },
        "id": "loI72DQT0_t2",
        "outputId": "f24a8389-643b-46e6-cdce-de5cd34fd1f6"
      },
      "source": [
        "print_rules(rules.sort_values([\"lift\"], ascending=[False])[0:20])"
      ],
      "execution_count": 78,
      "outputs": [
        {
          "output_type": "stream",
          "text": [
            "(WOODEN STAR CHRISTMAS SCANDINAVIAN) -> (WOODEN HEART CHRISTMAS SCANDINAVIAN)\n",
            "(WOODEN HEART CHRISTMAS SCANDINAVIAN) -> (WOODEN STAR CHRISTMAS SCANDINAVIAN)\n",
            "(PINK REGENCY TEACUP AND SAUCER) -> (GREEN REGENCY TEACUP AND SAUCER & ROSES REGENCY TEACUP AND SAUCER)\n",
            "(GREEN REGENCY TEACUP AND SAUCER & ROSES REGENCY TEACUP AND SAUCER) -> (PINK REGENCY TEACUP AND SAUCER)\n",
            "(PINK REGENCY TEACUP AND SAUCER & ROSES REGENCY TEACUP AND SAUCER) -> (GREEN REGENCY TEACUP AND SAUCER)\n",
            "(GREEN REGENCY TEACUP AND SAUCER) -> (PINK REGENCY TEACUP AND SAUCER & ROSES REGENCY TEACUP AND SAUCER)\n",
            "(GARDENERS KNEELING PAD CUP OF TEA) -> (GARDENERS KNEELING PAD KEEP CALM)\n",
            "(GARDENERS KNEELING PAD KEEP CALM) -> (GARDENERS KNEELING PAD CUP OF TEA)\n",
            "(GREEN REGENCY TEACUP AND SAUCER & PINK REGENCY TEACUP AND SAUCER) -> (ROSES REGENCY TEACUP AND SAUCER)\n",
            "(GREEN REGENCY TEACUP AND SAUCER) -> (PINK REGENCY TEACUP AND SAUCER)\n",
            "(PINK REGENCY TEACUP AND SAUCER) -> (GREEN REGENCY TEACUP AND SAUCER)\n",
            "(REGENCY CAKESTAND 3 TIER & ROSES REGENCY TEACUP AND SAUCER) -> (GREEN REGENCY TEACUP AND SAUCER)\n",
            "(GREEN REGENCY TEACUP AND SAUCER & REGENCY CAKESTAND 3 TIER) -> (ROSES REGENCY TEACUP AND SAUCER)\n",
            "(SPACEBOY LUNCH BOX) -> (DOLLY GIRL LUNCH BOX)\n",
            "(DOLLY GIRL LUNCH BOX) -> (SPACEBOY LUNCH BOX)\n",
            "(HOT WATER BOTTLE I AM SO POORLY) -> (CHOCOLATE HOT WATER BOTTLE)\n",
            "(STRAWBERRY CHARLOTTE BAG) -> (CHARLOTTE BAG PINK POLKADOT)\n",
            "(CHARLOTTE BAG PINK POLKADOT) -> (STRAWBERRY CHARLOTTE BAG)\n",
            "(PINK REGENCY TEACUP AND SAUCER) -> (ROSES REGENCY TEACUP AND SAUCER)\n",
            "(ROSES REGENCY TEACUP AND SAUCER) -> (PINK REGENCY TEACUP AND SAUCER)\n"
          ],
          "name": "stdout"
        }
      ]
    }
  ]
}