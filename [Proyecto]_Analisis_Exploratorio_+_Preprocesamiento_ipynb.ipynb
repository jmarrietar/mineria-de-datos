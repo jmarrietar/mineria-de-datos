{
  "nbformat": 4,
  "nbformat_minor": 0,
  "metadata": {
    "colab": {
      "name": "[Proyecto] - Analisis Exploratorio + Preprocesamiento.ipynb.ipynb",
      "provenance": [],
      "collapsed_sections": [],
      "machine_shape": "hm",
      "include_colab_link": true
    },
    "kernelspec": {
      "name": "python3",
      "display_name": "Python 3"
    }
  },
  "cells": [
    {
      "cell_type": "markdown",
      "metadata": {
        "id": "view-in-github",
        "colab_type": "text"
      },
      "source": [
        "<a href=\"https://colab.research.google.com/github/jmarrietar/mineria-de-datos/blob/main/%5BProyecto%5D_Analisis_Exploratorio_%2B_Preprocesamiento_ipynb.ipynb\" target=\"_parent\"><img src=\"https://colab.research.google.com/assets/colab-badge.svg\" alt=\"Open In Colab\"/></a>"
      ]
    },
    {
      "cell_type": "markdown",
      "metadata": {
        "id": "Rbn-uyjuf-Wc"
      },
      "source": [
        "# Proyecto Mineria de Datos"
      ]
    },
    {
      "cell_type": "markdown",
      "metadata": {
        "id": "duaSOa2ogDDa"
      },
      "source": [
        "## Analisis Exploratorio de Datos (EDA) \n",
        "\n",
        "En este documento se presenta el análisis descriptivo y preprocesamiento del \\textit{data set} del proyecto. Se exploraran las variables, valores nulos, tipos de datos, frecuencias, medidas de centralidad y demás métricas para maximizar el entendimiento del conjunto de datos a utilizar. Así como algunas transformaciones a las variables y creación de nuevas."
      ]
    },
    {
      "cell_type": "markdown",
      "metadata": {
        "id": "gSIZLg7sgEUj"
      },
      "source": [
        "### Dataset (Online Retail)\n",
        "\n",
        "Este dataset es originario del repositorio **UCI Irvine Machine Learning Repository**). Es llamada **Online Retail Dataset** y consiste en todas las compras realizadas por una empresa de comercio electrónico minorista en el Reino Unido (UK) durante un periodo de ocho meses. Este es un conjunto de datos transaccionales el cual contiene todas las transacciones ocurridas entre 01/12/2010 y 09/12/2011 para esta empresa. La empresa vende principalmente regalos únicos para todas las ocasiones. Muchos de los clientes son mayoristas. \n",
        "http://archive.ics.uci.edu/ml/datasets/Online+Retail"
      ]
    },
    {
      "cell_type": "code",
      "metadata": {
        "id": "WjhflH4POuZB"
      },
      "source": [
        "import pandas as pd\n",
        "import matplotlib.pyplot as plt\n",
        "from matplotlib.ticker import FuncFormatter\n",
        "import pandas as pd\n",
        "import numpy as np\n",
        "import seaborn as sns\n",
        "from os import path\n",
        "from PIL import Image\n",
        "\n",
        "import matplotlib.pyplot as plt\n",
        "% matplotlib inline\n",
        "\n",
        "pd.set_option('display.max_rows', 100)"
      ],
      "execution_count": 20,
      "outputs": []
    },
    {
      "cell_type": "code",
      "metadata": {
        "id": "VqnME7G8_hIo",
        "colab": {
          "base_uri": "https://localhost:8080/",
          "height": 0
        },
        "outputId": "fccbcc85-910b-4b70-ff09-0d76cdc80b3c"
      },
      "source": [
        "!gdown https://drive.google.com/uc?id=1_AJd_FiQ6LSWSK4e__ccfLzhu_sWWNUS"
      ],
      "execution_count": 21,
      "outputs": [
        {
          "output_type": "stream",
          "text": [
            "Downloading...\n",
            "From: https://drive.google.com/uc?id=1_AJd_FiQ6LSWSK4e__ccfLzhu_sWWNUS\n",
            "To: /content/OnlineRetail.csv\n",
            "45.6MB [00:00, 125MB/s]\n"
          ],
          "name": "stdout"
        }
      ]
    },
    {
      "cell_type": "code",
      "metadata": {
        "id": "YfuK_FbXfJTO"
      },
      "source": [
        "online_retail = pd.read_csv(\n",
        "    \"OnlineRetail.csv\",\n",
        "    sep=\",\",\n",
        "    dtype={\"CustomerID\": \"object\"},\n",
        "    encoding=\"unicode_escape\",\n",
        ")"
      ],
      "execution_count": 22,
      "outputs": []
    },
    {
      "cell_type": "markdown",
      "metadata": {
        "id": "MVsM3xUyWf74"
      },
      "source": [
        "Este dataset originalmente se presenta a nivel de producto-transacción con 541909 filas y las columnas que se muestran a continuación:\n",
        "\n",
        "* `InvoiceNo`: Numero de recibo. Nominal, un número entero de 6 dígitos asignado de forma única a cada transacción. Si este código comienza con la letra 'c', indica una cancelación.\n",
        "* `StockCode`: Código del producto (Ítem). Nominal, un número entero de 5 dígitos asignado de forma única a cada producto diferente.\n",
        "* `Description`: Nombre del Producto. Nominal.\n",
        "* `Quantity`: Fecha de la Transacción. Date and time. \n",
        "* `InvoiceDate`: Invice Date and time. Numeric, the day and time when each transaction was generated.\n",
        "* `UnitPrice`: Precio Unitario. Numérico, Precio del producto por unidad en libras esterlina. \n",
        "* `CustomerID`: ID identificador del cliente.  Nominal, Numero de 5 dígitos entero asignado de forma única a cada cliente. \n",
        "* `Country`: Nombre del País. Nominal. Nombre del pais donde reside el cliente. "
      ]
    },
    {
      "cell_type": "code",
      "metadata": {
        "id": "eGuuxg4AWRwN",
        "colab": {
          "base_uri": "https://localhost:8080/",
          "height": 0
        },
        "outputId": "2e832418-8e44-4c71-a8da-5e644024716d"
      },
      "source": [
        "online_retail.columns"
      ],
      "execution_count": 23,
      "outputs": [
        {
          "output_type": "execute_result",
          "data": {
            "text/plain": [
              "Index(['InvoiceNo', 'StockCode', 'Description', 'Quantity', 'InvoiceDate',\n",
              "       'UnitPrice', 'CustomerID', 'Country'],\n",
              "      dtype='object')"
            ]
          },
          "metadata": {
            "tags": []
          },
          "execution_count": 23
        }
      ]
    },
    {
      "cell_type": "code",
      "metadata": {
        "id": "m4vr0vTQfNyq",
        "colab": {
          "base_uri": "https://localhost:8080/",
          "height": 204
        },
        "outputId": "8d9cd57d-feb8-46b1-ebc1-334e4229b02c"
      },
      "source": [
        "online_retail.head()"
      ],
      "execution_count": 24,
      "outputs": [
        {
          "output_type": "execute_result",
          "data": {
            "text/html": [
              "<div>\n",
              "<style scoped>\n",
              "    .dataframe tbody tr th:only-of-type {\n",
              "        vertical-align: middle;\n",
              "    }\n",
              "\n",
              "    .dataframe tbody tr th {\n",
              "        vertical-align: top;\n",
              "    }\n",
              "\n",
              "    .dataframe thead th {\n",
              "        text-align: right;\n",
              "    }\n",
              "</style>\n",
              "<table border=\"1\" class=\"dataframe\">\n",
              "  <thead>\n",
              "    <tr style=\"text-align: right;\">\n",
              "      <th></th>\n",
              "      <th>InvoiceNo</th>\n",
              "      <th>StockCode</th>\n",
              "      <th>Description</th>\n",
              "      <th>Quantity</th>\n",
              "      <th>InvoiceDate</th>\n",
              "      <th>UnitPrice</th>\n",
              "      <th>CustomerID</th>\n",
              "      <th>Country</th>\n",
              "    </tr>\n",
              "  </thead>\n",
              "  <tbody>\n",
              "    <tr>\n",
              "      <th>0</th>\n",
              "      <td>536365</td>\n",
              "      <td>85123A</td>\n",
              "      <td>WHITE HANGING HEART T-LIGHT HOLDER</td>\n",
              "      <td>6</td>\n",
              "      <td>12/1/2010 8:26</td>\n",
              "      <td>2.55</td>\n",
              "      <td>17850</td>\n",
              "      <td>United Kingdom</td>\n",
              "    </tr>\n",
              "    <tr>\n",
              "      <th>1</th>\n",
              "      <td>536365</td>\n",
              "      <td>71053</td>\n",
              "      <td>WHITE METAL LANTERN</td>\n",
              "      <td>6</td>\n",
              "      <td>12/1/2010 8:26</td>\n",
              "      <td>3.39</td>\n",
              "      <td>17850</td>\n",
              "      <td>United Kingdom</td>\n",
              "    </tr>\n",
              "    <tr>\n",
              "      <th>2</th>\n",
              "      <td>536365</td>\n",
              "      <td>84406B</td>\n",
              "      <td>CREAM CUPID HEARTS COAT HANGER</td>\n",
              "      <td>8</td>\n",
              "      <td>12/1/2010 8:26</td>\n",
              "      <td>2.75</td>\n",
              "      <td>17850</td>\n",
              "      <td>United Kingdom</td>\n",
              "    </tr>\n",
              "    <tr>\n",
              "      <th>3</th>\n",
              "      <td>536365</td>\n",
              "      <td>84029G</td>\n",
              "      <td>KNITTED UNION FLAG HOT WATER BOTTLE</td>\n",
              "      <td>6</td>\n",
              "      <td>12/1/2010 8:26</td>\n",
              "      <td>3.39</td>\n",
              "      <td>17850</td>\n",
              "      <td>United Kingdom</td>\n",
              "    </tr>\n",
              "    <tr>\n",
              "      <th>4</th>\n",
              "      <td>536365</td>\n",
              "      <td>84029E</td>\n",
              "      <td>RED WOOLLY HOTTIE WHITE HEART.</td>\n",
              "      <td>6</td>\n",
              "      <td>12/1/2010 8:26</td>\n",
              "      <td>3.39</td>\n",
              "      <td>17850</td>\n",
              "      <td>United Kingdom</td>\n",
              "    </tr>\n",
              "  </tbody>\n",
              "</table>\n",
              "</div>"
            ],
            "text/plain": [
              "  InvoiceNo StockCode  ... CustomerID         Country\n",
              "0    536365    85123A  ...      17850  United Kingdom\n",
              "1    536365     71053  ...      17850  United Kingdom\n",
              "2    536365    84406B  ...      17850  United Kingdom\n",
              "3    536365    84029G  ...      17850  United Kingdom\n",
              "4    536365    84029E  ...      17850  United Kingdom\n",
              "\n",
              "[5 rows x 8 columns]"
            ]
          },
          "metadata": {
            "tags": []
          },
          "execution_count": 24
        }
      ]
    },
    {
      "cell_type": "code",
      "metadata": {
        "colab": {
          "base_uri": "https://localhost:8080/",
          "height": 0
        },
        "id": "bCqQBDAuuazR",
        "outputId": "05154d95-d571-4655-81bb-8127124d9291"
      },
      "source": [
        "len(online_retail)"
      ],
      "execution_count": 25,
      "outputs": [
        {
          "output_type": "execute_result",
          "data": {
            "text/plain": [
              "541909"
            ]
          },
          "metadata": {
            "tags": []
          },
          "execution_count": 25
        }
      ]
    },
    {
      "cell_type": "code",
      "metadata": {
        "id": "HLabGgIeXM-c",
        "colab": {
          "base_uri": "https://localhost:8080/",
          "height": 52
        },
        "outputId": "454f9d59-e8d2-4872-df41-6a5fa649999a"
      },
      "source": [
        "\"\"\"\n",
        "!pip uninstall pandas-profiling\n",
        "!pip install pandas-profiling[notebook,html]\n",
        "\"\"\"\n",
        "\n",
        "\"\"\"\n",
        "from pandas_profiling import ProfileReport\n",
        "online_retail_profile = ProfileReport(online_retail, title='Pandas Profiling Report', html={'style':{'full_width':True}})\n",
        "online_retail_profile\n",
        "\"\"\""
      ],
      "execution_count": 26,
      "outputs": [
        {
          "output_type": "execute_result",
          "data": {
            "application/vnd.google.colaboratory.intrinsic+json": {
              "type": "string"
            },
            "text/plain": [
              "\"\\nfrom pandas_profiling import ProfileReport\\nonline_retail_profile = ProfileReport(online_retail, title='Pandas Profiling Report', html={'style':{'full_width':True}})\\nonline_retail_profile\\n\""
            ]
          },
          "metadata": {
            "tags": []
          },
          "execution_count": 26
        }
      ]
    },
    {
      "cell_type": "markdown",
      "metadata": {
        "id": "QqhnFGBtZP8W"
      },
      "source": [
        "En el informe de perfil de Pandas, se puede ver que CustomerID tiene 135080 (24,9%) valores perdidos."
      ]
    },
    {
      "cell_type": "markdown",
      "metadata": {
        "id": "xADqaiGl5bxD"
      },
      "source": [
        "# Analisis a Nivel Transaction - Producto"
      ]
    },
    {
      "cell_type": "markdown",
      "metadata": {
        "id": "IM9kQqKR67Fv"
      },
      "source": [
        "#### Valores Nulos"
      ]
    },
    {
      "cell_type": "code",
      "metadata": {
        "colab": {
          "base_uri": "https://localhost:8080/",
          "height": 0
        },
        "id": "N4NNyy9B5vUg",
        "outputId": "7a0a800b-7d09-4ab4-b9ca-f86c88b8b5b5"
      },
      "source": [
        "online_retail.isna().sum()"
      ],
      "execution_count": 27,
      "outputs": [
        {
          "output_type": "execute_result",
          "data": {
            "text/plain": [
              "InvoiceNo           0\n",
              "StockCode           0\n",
              "Description      1454\n",
              "Quantity            0\n",
              "InvoiceDate         0\n",
              "UnitPrice           0\n",
              "CustomerID     135080\n",
              "Country             0\n",
              "dtype: int64"
            ]
          },
          "metadata": {
            "tags": []
          },
          "execution_count": 27
        }
      ]
    },
    {
      "cell_type": "markdown",
      "metadata": {
        "id": "CglZNly9_0dJ"
      },
      "source": [
        "#### Frecuencias"
      ]
    },
    {
      "cell_type": "code",
      "metadata": {
        "id": "2-ACx4Mj_lV5"
      },
      "source": [
        "products = (\n",
        "    online_retail.groupby([\"StockCode\", \"Description\"])[[\"Quantity\"]]\n",
        "    .agg(\"sum\")\n",
        "    .reset_index()\n",
        ")"
      ],
      "execution_count": 28,
      "outputs": []
    },
    {
      "cell_type": "code",
      "metadata": {
        "colab": {
          "base_uri": "https://localhost:8080/",
          "height": 359
        },
        "id": "qScijJeSAjQK",
        "outputId": "0a28f82c-594d-40a6-8b5f-256fdfb4806e"
      },
      "source": [
        "products.sort_values(by=['Quantity'], ascending=False)[0:10]"
      ],
      "execution_count": 29,
      "outputs": [
        {
          "output_type": "execute_result",
          "data": {
            "text/html": [
              "<div>\n",
              "<style scoped>\n",
              "    .dataframe tbody tr th:only-of-type {\n",
              "        vertical-align: middle;\n",
              "    }\n",
              "\n",
              "    .dataframe tbody tr th {\n",
              "        vertical-align: top;\n",
              "    }\n",
              "\n",
              "    .dataframe thead th {\n",
              "        text-align: right;\n",
              "    }\n",
              "</style>\n",
              "<table border=\"1\" class=\"dataframe\">\n",
              "  <thead>\n",
              "    <tr style=\"text-align: right;\">\n",
              "      <th></th>\n",
              "      <th>StockCode</th>\n",
              "      <th>Description</th>\n",
              "      <th>Quantity</th>\n",
              "    </tr>\n",
              "  </thead>\n",
              "  <tbody>\n",
              "    <tr>\n",
              "      <th>3617</th>\n",
              "      <td>84077</td>\n",
              "      <td>WORLD WAR 2 GLIDERS ASSTD DESIGNS</td>\n",
              "      <td>53847</td>\n",
              "    </tr>\n",
              "    <tr>\n",
              "      <th>4197</th>\n",
              "      <td>85099B</td>\n",
              "      <td>JUMBO BAG RED RETROSPOT</td>\n",
              "      <td>47363</td>\n",
              "    </tr>\n",
              "    <tr>\n",
              "      <th>3956</th>\n",
              "      <td>84879</td>\n",
              "      <td>ASSORTED COLOUR BIRD ORNAMENT</td>\n",
              "      <td>36381</td>\n",
              "    </tr>\n",
              "    <tr>\n",
              "      <th>1333</th>\n",
              "      <td>22197</td>\n",
              "      <td>POPCORN HOLDER</td>\n",
              "      <td>36334</td>\n",
              "    </tr>\n",
              "    <tr>\n",
              "      <th>531</th>\n",
              "      <td>21212</td>\n",
              "      <td>PACK OF 72 RETROSPOT CAKE CASES</td>\n",
              "      <td>36039</td>\n",
              "    </tr>\n",
              "    <tr>\n",
              "      <th>4223</th>\n",
              "      <td>85123A</td>\n",
              "      <td>WHITE HANGING HEART T-LIGHT HOLDER</td>\n",
              "      <td>35025</td>\n",
              "    </tr>\n",
              "    <tr>\n",
              "      <th>2344</th>\n",
              "      <td>23084</td>\n",
              "      <td>RABBIT NIGHT LIGHT</td>\n",
              "      <td>30680</td>\n",
              "    </tr>\n",
              "    <tr>\n",
              "      <th>1630</th>\n",
              "      <td>22492</td>\n",
              "      <td>MINI PAINT SET VINTAGE</td>\n",
              "      <td>26437</td>\n",
              "    </tr>\n",
              "    <tr>\n",
              "      <th>1775</th>\n",
              "      <td>22616</td>\n",
              "      <td>PACK OF 12 LONDON TISSUES</td>\n",
              "      <td>26315</td>\n",
              "    </tr>\n",
              "    <tr>\n",
              "      <th>1122</th>\n",
              "      <td>21977</td>\n",
              "      <td>PACK OF 60 PINK PAISLEY CAKE CASES</td>\n",
              "      <td>24753</td>\n",
              "    </tr>\n",
              "  </tbody>\n",
              "</table>\n",
              "</div>"
            ],
            "text/plain": [
              "     StockCode                         Description  Quantity\n",
              "3617     84077   WORLD WAR 2 GLIDERS ASSTD DESIGNS     53847\n",
              "4197    85099B             JUMBO BAG RED RETROSPOT     47363\n",
              "3956     84879       ASSORTED COLOUR BIRD ORNAMENT     36381\n",
              "1333     22197                      POPCORN HOLDER     36334\n",
              "531      21212     PACK OF 72 RETROSPOT CAKE CASES     36039\n",
              "4223    85123A  WHITE HANGING HEART T-LIGHT HOLDER     35025\n",
              "2344     23084                  RABBIT NIGHT LIGHT     30680\n",
              "1630     22492             MINI PAINT SET VINTAGE      26437\n",
              "1775     22616          PACK OF 12 LONDON TISSUES      26315\n",
              "1122     21977  PACK OF 60 PINK PAISLEY CAKE CASES     24753"
            ]
          },
          "metadata": {
            "tags": []
          },
          "execution_count": 29
        }
      ]
    },
    {
      "cell_type": "markdown",
      "metadata": {
        "id": "vNEo1lOjAxN0"
      },
      "source": [
        "### Quantity"
      ]
    },
    {
      "cell_type": "markdown",
      "metadata": {
        "id": "5VuBdb06BeP6"
      },
      "source": [
        "Medida de centralidad "
      ]
    },
    {
      "cell_type": "code",
      "metadata": {
        "id": "KfboZxWwDUav"
      },
      "source": [
        "online_retail_quantity_positive = online_retail[online_retail[\"Quantity\"]>0]\n",
        "\n",
        "threshold = 50\n",
        "online_retail_quantity_positive = online_retail_quantity_positive[\n",
        "    online_retail_quantity_positive[\"Quantity\"] <= threshold\n",
        "]"
      ],
      "execution_count": 30,
      "outputs": []
    },
    {
      "cell_type": "code",
      "metadata": {
        "colab": {
          "base_uri": "https://localhost:8080/",
          "height": 269
        },
        "id": "1yjLYzZ5DRw0",
        "outputId": "f1832ef0-1ad9-4d93-d194-2c56d58c2647"
      },
      "source": [
        "sns.boxplot(y=online_retail_quantity_positive[\"Quantity\"])"
      ],
      "execution_count": 31,
      "outputs": [
        {
          "output_type": "execute_result",
          "data": {
            "text/plain": [
              "<matplotlib.axes._subplots.AxesSubplot at 0x7fd5d97a64d0>"
            ]
          },
          "metadata": {
            "tags": []
          },
          "execution_count": 31
        },
        {
          "output_type": "display_data",
          "data": {
            "image/png": "[encoded data removed]",
            "text/plain": [
              "<Figure size 432x288 with 1 Axes>"
            ]
          },
          "metadata": {
            "tags": [],
            "needs_background": "light"
          }
        }
      ]
    },
    {
      "cell_type": "code",
      "metadata": {
        "colab": {
          "base_uri": "https://localhost:8080/",
          "height": 0
        },
        "id": "dFM7A8YBF3PM",
        "outputId": "410a8351-0f93-480a-9d4d-44a2f88fd1c9"
      },
      "source": [
        "online_retail_quantity_positive[\"Quantity\"].quantile([.25, .5, 0.75, 0.95])"
      ],
      "execution_count": 32,
      "outputs": [
        {
          "output_type": "execute_result",
          "data": {
            "text/plain": [
              "0.25     1.0\n",
              "0.50     3.0\n",
              "0.75    10.0\n",
              "0.95    24.0\n",
              "Name: Quantity, dtype: float64"
            ]
          },
          "metadata": {
            "tags": []
          },
          "execution_count": 32
        }
      ]
    },
    {
      "cell_type": "markdown",
      "metadata": {
        "id": "UtYV8E73CVNN"
      },
      "source": [
        "Medidad de Dispersion "
      ]
    },
    {
      "cell_type": "code",
      "metadata": {
        "colab": {
          "base_uri": "https://localhost:8080/",
          "height": 0
        },
        "id": "FVN7MV8kBkH6",
        "outputId": "e3f46dad-a84f-4b20-f01f-1e1e45e99d67"
      },
      "source": [
        "# Desviacion estandard\n",
        "online_retail_quantity_positive[\"Quantity\"].std()"
      ],
      "execution_count": 33,
      "outputs": [
        {
          "output_type": "execute_result",
          "data": {
            "text/plain": [
              "8.648952504638645"
            ]
          },
          "metadata": {
            "tags": []
          },
          "execution_count": 33
        }
      ]
    },
    {
      "cell_type": "code",
      "metadata": {
        "colab": {
          "base_uri": "https://localhost:8080/",
          "height": 0
        },
        "id": "Ug1qo04YGsu1",
        "outputId": "45cf84e2-715a-4e35-833a-0a0548c21ab2"
      },
      "source": [
        "online_retail_quantity_positive[\"Quantity\"].mean()"
      ],
      "execution_count": 34,
      "outputs": [
        {
          "output_type": "execute_result",
          "data": {
            "text/plain": [
              "6.870602562397995"
            ]
          },
          "metadata": {
            "tags": []
          },
          "execution_count": 34
        }
      ]
    },
    {
      "cell_type": "markdown",
      "metadata": {
        "id": "7MHJduxcBwnB"
      },
      "source": [
        "### Unit price "
      ]
    },
    {
      "cell_type": "markdown",
      "metadata": {
        "id": "xHyKJ2fJCcNk"
      },
      "source": [
        "Medida de centralidad"
      ]
    },
    {
      "cell_type": "code",
      "metadata": {
        "id": "_R3mxKJPCfIU"
      },
      "source": [
        "unit_price_positive = online_retail[online_retail[\"UnitPrice\"]>0]"
      ],
      "execution_count": 35,
      "outputs": []
    },
    {
      "cell_type": "code",
      "metadata": {
        "id": "WB0uzWZgE9Wu"
      },
      "source": [
        "unit_price_positive = online_retail[online_retail[\"UnitPrice\"]>0]\n",
        "\n",
        "threshold = 25\n",
        "unit_price_positive = unit_price_positive[\n",
        "    unit_price_positive[\"UnitPrice\"] <= threshold\n",
        "]"
      ],
      "execution_count": 36,
      "outputs": []
    },
    {
      "cell_type": "code",
      "metadata": {
        "colab": {
          "base_uri": "https://localhost:8080/",
          "height": 269
        },
        "id": "Pnyxz9-PDPrm",
        "outputId": "7139f9cd-6bfb-4c54-cf2a-81418d0e8820"
      },
      "source": [
        "sns.boxplot(y=unit_price_positive['UnitPrice'])"
      ],
      "execution_count": 37,
      "outputs": [
        {
          "output_type": "execute_result",
          "data": {
            "text/plain": [
              "<matplotlib.axes._subplots.AxesSubplot at 0x7fd5d9729910>"
            ]
          },
          "metadata": {
            "tags": []
          },
          "execution_count": 37
        },
        {
          "output_type": "display_data",
          "data": {
            "image/png": "[encoded data removed]",
            "text/plain": [
              "<Figure size 432x288 with 1 Axes>"
            ]
          },
          "metadata": {
            "tags": [],
            "needs_background": "light"
          }
        }
      ]
    },
    {
      "cell_type": "code",
      "metadata": {
        "colab": {
          "base_uri": "https://localhost:8080/",
          "height": 0
        },
        "id": "1JpvAE6WFxv2",
        "outputId": "dde22d41-7bba-4d50-ad60-e58fa81642f9"
      },
      "source": [
        "unit_price_positive['UnitPrice'].quantile([.25, .5, 0.75, 0.95])"
      ],
      "execution_count": 38,
      "outputs": [
        {
          "output_type": "execute_result",
          "data": {
            "text/plain": [
              "0.25    1.25\n",
              "0.50    2.08\n",
              "0.75    4.13\n",
              "0.95    9.95\n",
              "Name: UnitPrice, dtype: float64"
            ]
          },
          "metadata": {
            "tags": []
          },
          "execution_count": 38
        }
      ]
    },
    {
      "cell_type": "markdown",
      "metadata": {
        "id": "XUWPcjkoCMoc"
      },
      "source": [
        "Medidas de Dispersion "
      ]
    },
    {
      "cell_type": "code",
      "metadata": {
        "colab": {
          "base_uri": "https://localhost:8080/",
          "height": 0
        },
        "id": "fokay8TtBycF",
        "outputId": "5b5513fd-a6d5-4906-e168-4621e569a11f"
      },
      "source": [
        "# Desviacion standard\n",
        "unit_price_positive['UnitPrice'].std()"
      ],
      "execution_count": 39,
      "outputs": [
        {
          "output_type": "execute_result",
          "data": {
            "text/plain": [
              "3.246096969932633"
            ]
          },
          "metadata": {
            "tags": []
          },
          "execution_count": 39
        }
      ]
    },
    {
      "cell_type": "code",
      "metadata": {
        "colab": {
          "base_uri": "https://localhost:8080/",
          "height": 0
        },
        "id": "lmqQMJ4zGl33",
        "outputId": "003d7f2f-f0a5-4212-b5ca-7fffbd466f05"
      },
      "source": [
        "unit_price_positive['UnitPrice'].mean()"
      ],
      "execution_count": 40,
      "outputs": [
        {
          "output_type": "execute_result",
          "data": {
            "text/plain": [
              "3.2113943309013564"
            ]
          },
          "metadata": {
            "tags": []
          },
          "execution_count": 40
        }
      ]
    },
    {
      "cell_type": "markdown",
      "metadata": {
        "id": "UGZNPJ0AeueN"
      },
      "source": [
        "# 2. Pre-procesamiento"
      ]
    },
    {
      "cell_type": "markdown",
      "metadata": {
        "id": "C5Z7LWdfhPX8"
      },
      "source": [
        "#### Creacion de Variables\n",
        "\n",
        "\n",
        "\n",
        "\n",
        "* Se transforma la columna de fecha a un formato de datos adecuado, que nos permita manipularla y crear nuevas columnas posteriormente. \n",
        "* Se crea una columna adicional con solo el `año` y el `mes`.\n",
        "* Se crea una nueva columna con el total de la compra de los productos\n",
        "\n"
      ]
    },
    {
      "cell_type": "code",
      "metadata": {
        "id": "YeqnluGsksA8"
      },
      "source": [
        "online_retail[\"InvoiceDate\"] = pd.to_datetime(online_retail[\"InvoiceDate\"])\n",
        "\n",
        "# Create an additional column for date as year and month\n",
        "online_retail[\"date\"] = online_retail[\"InvoiceDate\"].dt.strftime(\"%Y-%m\")\n",
        "\n",
        "# Create a new column for the total expenditure of that product in the purchase.\n",
        "online_retail[\"total_sales_amount\"] = (\n",
        "    online_retail[\"UnitPrice\"] * online_retail[\"Quantity\"]\n",
        ")"
      ],
      "execution_count": 41,
      "outputs": []
    },
    {
      "cell_type": "code",
      "metadata": {
        "id": "aZIjFp8Hc8x1"
      },
      "source": [
        "# Add column for cancelations \n",
        "online_retail['cancelation'] = online_retail['InvoiceNo'].apply(lambda x: x.startswith(\"C\"))\n",
        "online_retail['cancelation'] = online_retail['total_sales_amount'] <0"
      ],
      "execution_count": 46,
      "outputs": []
    },
    {
      "cell_type": "markdown",
      "metadata": {
        "id": "sypyX6Bn8SAd"
      },
      "source": [
        "Primera fecha de compra en el dataset\n"
      ]
    },
    {
      "cell_type": "code",
      "metadata": {
        "id": "8oFlhkIIDBSk",
        "colab": {
          "base_uri": "https://localhost:8080/",
          "height": 0
        },
        "outputId": "27f56d25-fa94-429b-b6ed-33f71cae6507"
      },
      "source": [
        "min(online_retail['InvoiceDate'])"
      ],
      "execution_count": 42,
      "outputs": [
        {
          "output_type": "execute_result",
          "data": {
            "text/plain": [
              "Timestamp('2010-12-01 08:26:00')"
            ]
          },
          "metadata": {
            "tags": []
          },
          "execution_count": 42
        }
      ]
    },
    {
      "cell_type": "markdown",
      "metadata": {
        "id": "Vl_CtzPm8TP2"
      },
      "source": [
        "Ultima fecha de compra en el dataset "
      ]
    },
    {
      "cell_type": "code",
      "metadata": {
        "id": "6x0u3v9eDJYm",
        "colab": {
          "base_uri": "https://localhost:8080/",
          "height": 0
        },
        "outputId": "41d497d2-71ab-465a-c30c-918268230175"
      },
      "source": [
        "max(online_retail['InvoiceDate'])"
      ],
      "execution_count": 43,
      "outputs": [
        {
          "output_type": "execute_result",
          "data": {
            "text/plain": [
              "Timestamp('2011-12-09 12:50:00')"
            ]
          },
          "metadata": {
            "tags": []
          },
          "execution_count": 43
        }
      ]
    },
    {
      "cell_type": "markdown",
      "metadata": {
        "id": "EcLFgx5OBXc1"
      },
      "source": [
        "#### Limpieza de datos"
      ]
    },
    {
      "cell_type": "markdown",
      "metadata": {
        "id": "i8AUdC2snt9E"
      },
      "source": [
        "A partir de las marcas de tiempo, podemos ver que el primero en nuestro conjunto de datos fue del 01-12-2010 a las 8 am y el último del 09-12-2011 a las 12:50 am. En este caso, para el mes de diciembre la informacion esta incompleta."
      ]
    },
    {
      "cell_type": "code",
      "metadata": {
        "id": "mYn4WXGIJCqT"
      },
      "source": [
        "# Remove days from December 2011\n",
        "online_retail = online_retail[online_retail.InvoiceDate < '2011-12-01']"
      ],
      "execution_count": 44,
      "outputs": []
    },
    {
      "cell_type": "markdown",
      "metadata": {
        "id": "mx8Smxt9JKle"
      },
      "source": [
        "Como el mes de diciembre esta incompleto, no se tiene en cuenta para el analisis ya que podria agregar ruido. "
      ]
    },
    {
      "cell_type": "code",
      "metadata": {
        "id": "sg4Wf7K-zAUO"
      },
      "source": [
        "# Remove rows were Unit price is 0.0\n",
        "online_retail = online_retail[online_retail['UnitPrice'] !=0.0]"
      ],
      "execution_count": 45,
      "outputs": []
    },
    {
      "cell_type": "markdown",
      "metadata": {
        "id": "gsQL5u2Rs1Yq"
      },
      "source": [
        "#### Normalizacion de Variables\n",
        "Se crean variables adicionales normalizadas"
      ]
    },
    {
      "cell_type": "code",
      "metadata": {
        "id": "DP25txnKuO7v"
      },
      "source": [
        "new_min = 0\n",
        "new_max = 1\n",
        "\n",
        "min_X = np.min(online_retail[\"UnitPrice\"])\n",
        "max_X = np.max(online_retail[\"UnitPrice\"])"
      ],
      "execution_count": 47,
      "outputs": []
    },
    {
      "cell_type": "code",
      "metadata": {
        "id": "nlpKksecuDPU"
      },
      "source": [
        "online_retail[\"UnitPriceNorm\"] = ((online_retail[\"UnitPrice\"]-min_X)/(max_X - min_X))*(new_max - new_min) + new_min"
      ],
      "execution_count": 48,
      "outputs": []
    },
    {
      "cell_type": "code",
      "metadata": {
        "id": "JvJLu7azu_kA"
      },
      "source": [
        "new_min = 0\n",
        "new_max = 1\n",
        "\n",
        "min_X = np.min(online_retail[\"Quantity\"])\n",
        "max_X = np.max(online_retail[\"Quantity\"])\n",
        "\n",
        "online_retail[\"QuantityNorm\"] = ((online_retail[\"Quantity\"]-min_X)/(max_X - min_X))*(new_max - new_min) + new_min"
      ],
      "execution_count": 49,
      "outputs": []
    },
    {
      "cell_type": "markdown",
      "metadata": {
        "id": "6Um5tXtKQoYK"
      },
      "source": [
        "### Filtrar cancelaciones"
      ]
    },
    {
      "cell_type": "markdown",
      "metadata": {
        "id": "_IF-Zx4khGHe"
      },
      "source": [
        "En el dataset existen transacciones que tienen un estado de cancelado, las cuales se analizaran por separado. "
      ]
    },
    {
      "cell_type": "code",
      "metadata": {
        "id": "2l-UElE2H-lB"
      },
      "source": [
        "# Only positive purchases (No cancelations)\n",
        "online_retail_purchases = online_retail[online_retail['cancelation'] == False] "
      ],
      "execution_count": 50,
      "outputs": []
    },
    {
      "cell_type": "code",
      "metadata": {
        "id": "GRqJr-vSfDhs"
      },
      "source": [
        "# Group by Purchase (Invoice)\n",
        "invoices = (\n",
        "    online_retail_purchases.groupby([\"InvoiceNo\"])[[\"Quantity\", \"total_sales_amount\"]]\n",
        "    .agg(\"sum\")\n",
        "    .reset_index()\n",
        ")"
      ],
      "execution_count": 51,
      "outputs": []
    },
    {
      "cell_type": "markdown",
      "metadata": {
        "id": "2O6MneM05lHP"
      },
      "source": [
        "# Analisis a nivel de compras"
      ]
    },
    {
      "cell_type": "code",
      "metadata": {
        "id": "RCDgEKepUGMF",
        "colab": {
          "base_uri": "https://localhost:8080/",
          "height": 295
        },
        "outputId": "95893077-a165-4595-a2de-066c8604e485"
      },
      "source": [
        "# Correlation Quantity & total_sales_amount\n",
        "sns.set_style({'axes.grid' : False})\n",
        "sns.set_style(\"darkgrid\")\n",
        "ax = sns.regplot(x=invoices[\"Quantity\"], y=invoices[\"total_sales_amount\"], marker=\"+\", fit_reg=False)\n",
        "ax.set_title('Purchases')\n",
        "ax.set(xlabel='Quantity (units)', ylabel='Total Amount')\n",
        "plt.show()"
      ],
      "execution_count": 52,
      "outputs": [
        {
          "output_type": "display_data",
          "data": {
            "image/png": "[encoded data removed]",
            "text/plain": [
              "<Figure size 432x288 with 1 Axes>"
            ]
          },
          "metadata": {
            "tags": []
          }
        }
      ]
    },
    {
      "cell_type": "markdown",
      "metadata": {
        "id": "0JziA8EbhRsD"
      },
      "source": [
        "Se puede observar un outlier, el cual removeremos"
      ]
    },
    {
      "cell_type": "code",
      "metadata": {
        "id": "BgzY__9BUjxL"
      },
      "source": [
        "# Removing outlier \n",
        "invoices = invoices[invoices[\"Quantity\"] < 20000]"
      ],
      "execution_count": 53,
      "outputs": []
    },
    {
      "cell_type": "code",
      "metadata": {
        "id": "2kO3KvQYU83e",
        "colab": {
          "base_uri": "https://localhost:8080/",
          "height": 295
        },
        "outputId": "4a781237-355b-442d-e76c-111dbb1fdd75"
      },
      "source": [
        "# Correlation graph quantity & total_sales_amount\n",
        "sns.set_style({'axes.grid' : False})\n",
        "sns.set_style(\"darkgrid\")\n",
        "ax = sns.regplot(x=invoices[\"Quantity\"], y=invoices[\"total_sales_amount\"], marker=\"+\", fit_reg=False)\n",
        "ax.set_title('Purchases')\n",
        "ax.set(xlabel='Quantity (units)', ylabel='Total Amount')\n",
        "plt.show()"
      ],
      "execution_count": 54,
      "outputs": [
        {
          "output_type": "display_data",
          "data": {
            "image/png": "[encoded data removed]",
            "text/plain": [
              "<Figure size 432x288 with 1 Axes>"
            ]
          },
          "metadata": {
            "tags": []
          }
        }
      ]
    },
    {
      "cell_type": "code",
      "metadata": {
        "id": "REiRY8aXVQfX",
        "colab": {
          "base_uri": "https://localhost:8080/",
          "height": 308
        },
        "outputId": "2fbccdce-a034-4949-9f15-b16a81b3d173"
      },
      "source": [
        "corrMatrix = invoices.corr()\n",
        "sns.heatmap(corrMatrix, annot=True)"
      ],
      "execution_count": 55,
      "outputs": [
        {
          "output_type": "execute_result",
          "data": {
            "text/plain": [
              "<matplotlib.axes._subplots.AxesSubplot at 0x7fd5d95f3650>"
            ]
          },
          "metadata": {
            "tags": []
          },
          "execution_count": 55
        },
        {
          "output_type": "display_data",
          "data": {
            "image/png": "[encoded data removed]",
            "text/plain": [
              "<Figure size 432x288 with 2 Axes>"
            ]
          },
          "metadata": {
            "tags": []
          }
        }
      ]
    },
    {
      "cell_type": "markdown",
      "metadata": {
        "id": "slqk4TQ1VlQ_"
      },
      "source": [
        "As expected there is a correlation between Quantity and  total sales amount \n",
        "\n",
        "Como es de esperarse, existe una correlacion entre `Quantity` y `total_sales_amount`\n"
      ]
    },
    {
      "cell_type": "markdown",
      "metadata": {
        "id": "qsoBdDPc4t-b"
      },
      "source": [
        "#### Mayor compra\n",
        "\n",
        "Sin tener en cuenta el valor atípico"
      ]
    },
    {
      "cell_type": "code",
      "metadata": {
        "id": "2F9xQSL_2Jf2",
        "colab": {
          "base_uri": "https://localhost:8080/",
          "height": 80
        },
        "outputId": "6301d556-fb2b-4678-ee0c-764e06c33020"
      },
      "source": [
        "invoices[invoices['total_sales_amount'] == max(invoices['total_sales_amount'])]"
      ],
      "execution_count": 56,
      "outputs": [
        {
          "output_type": "execute_result",
          "data": {
            "text/html": [
              "<div>\n",
              "<style scoped>\n",
              "    .dataframe tbody tr th:only-of-type {\n",
              "        vertical-align: middle;\n",
              "    }\n",
              "\n",
              "    .dataframe tbody tr th {\n",
              "        vertical-align: top;\n",
              "    }\n",
              "\n",
              "    .dataframe thead th {\n",
              "        text-align: right;\n",
              "    }\n",
              "</style>\n",
              "<table border=\"1\" class=\"dataframe\">\n",
              "  <thead>\n",
              "    <tr style=\"text-align: right;\">\n",
              "      <th></th>\n",
              "      <th>InvoiceNo</th>\n",
              "      <th>Quantity</th>\n",
              "      <th>total_sales_amount</th>\n",
              "    </tr>\n",
              "  </thead>\n",
              "  <tbody>\n",
              "    <tr>\n",
              "      <th>16923</th>\n",
              "      <td>574941</td>\n",
              "      <td>14149</td>\n",
              "      <td>52940.94</td>\n",
              "    </tr>\n",
              "  </tbody>\n",
              "</table>\n",
              "</div>"
            ],
            "text/plain": [
              "      InvoiceNo  Quantity  total_sales_amount\n",
              "16923    574941     14149            52940.94"
            ]
          },
          "metadata": {
            "tags": []
          },
          "execution_count": 56
        }
      ]
    },
    {
      "cell_type": "markdown",
      "metadata": {
        "id": "uE33390h4xbn"
      },
      "source": [
        "Menor compra"
      ]
    },
    {
      "cell_type": "code",
      "metadata": {
        "id": "_alejJs92KTO",
        "colab": {
          "base_uri": "https://localhost:8080/",
          "height": 80
        },
        "outputId": "b62a0f58-4167-43a8-e70a-c55843fd9ef6"
      },
      "source": [
        "invoices[invoices['total_sales_amount'] == min(invoices['total_sales_amount'])]"
      ],
      "execution_count": 57,
      "outputs": [
        {
          "output_type": "execute_result",
          "data": {
            "text/html": [
              "<div>\n",
              "<style scoped>\n",
              "    .dataframe tbody tr th:only-of-type {\n",
              "        vertical-align: middle;\n",
              "    }\n",
              "\n",
              "    .dataframe tbody tr th {\n",
              "        vertical-align: top;\n",
              "    }\n",
              "\n",
              "    .dataframe thead th {\n",
              "        text-align: right;\n",
              "    }\n",
              "</style>\n",
              "<table border=\"1\" class=\"dataframe\">\n",
              "  <thead>\n",
              "    <tr style=\"text-align: right;\">\n",
              "      <th></th>\n",
              "      <th>InvoiceNo</th>\n",
              "      <th>Quantity</th>\n",
              "      <th>total_sales_amount</th>\n",
              "    </tr>\n",
              "  </thead>\n",
              "  <tbody>\n",
              "    <tr>\n",
              "      <th>14986</th>\n",
              "      <td>570554</td>\n",
              "      <td>1</td>\n",
              "      <td>0.38</td>\n",
              "    </tr>\n",
              "  </tbody>\n",
              "</table>\n",
              "</div>"
            ],
            "text/plain": [
              "      InvoiceNo  Quantity  total_sales_amount\n",
              "14986    570554         1                0.38"
            ]
          },
          "metadata": {
            "tags": []
          },
          "execution_count": 57
        }
      ]
    },
    {
      "cell_type": "code",
      "metadata": {
        "id": "dnb3xF7a2_2J",
        "colab": {
          "base_uri": "https://localhost:8080/",
          "height": 0
        },
        "outputId": "7d8aa65c-df67-4efe-a052-b153ecff4586"
      },
      "source": [
        "np.sqrt(invoices['total_sales_amount'].var())"
      ],
      "execution_count": 58,
      "outputs": [
        {
          "output_type": "execute_result",
          "data": {
            "text/plain": [
              "1208.8679323973786"
            ]
          },
          "metadata": {
            "tags": []
          },
          "execution_count": 58
        }
      ]
    },
    {
      "cell_type": "markdown",
      "metadata": {
        "id": "4LxyGxje3Y6L"
      },
      "source": [
        "La desviación estándar es de aproximadamente 1208 Precios unitarios"
      ]
    },
    {
      "cell_type": "markdown",
      "metadata": {
        "id": "rsYBAqr5En4m"
      },
      "source": [
        "### Compras Mensuales"
      ]
    },
    {
      "cell_type": "code",
      "metadata": {
        "id": "1r8yo6PCwWFr",
        "colab": {
          "base_uri": "https://localhost:8080/",
          "height": 295
        },
        "outputId": "3d729e14-87ec-47fc-8c8c-325d074a2f74"
      },
      "source": [
        "monthly_purchases = (\n",
        "    online_retail_purchases.groupby([\"date\"])[[\"total_sales_amount\"]]\n",
        "    .agg(\"sum\")\n",
        "    .reset_index()\n",
        ")\n",
        "monthly_purchases = monthly_purchases.sort_values(by=[\"date\"])\n",
        "\n",
        "\n",
        "def millions(x, pos):\n",
        "    \"The two args are the value and tick position\"\n",
        "    return \"$%1.1fM\" % (x * 1e-6)\n",
        "\n",
        "\n",
        "formatter = FuncFormatter(millions)\n",
        "\n",
        "fig, ax = plt.subplots()\n",
        "ax.yaxis.set_major_formatter(formatter)\n",
        "monthly_purchases.plot(\n",
        "    kind=\"line\", x=\"date\", y=\"total_sales_amount\", ax=ax, title=\"Monthly Purchases\"\n",
        ")\n",
        "plt.show()"
      ],
      "execution_count": 59,
      "outputs": [
        {
          "output_type": "display_data",
          "data": {
            "image/png": "[encoded data removed]",
            "text/plain": [
              "<Figure size 432x288 with 1 Axes>"
            ]
          },
          "metadata": {
            "tags": []
          }
        }
      ]
    },
    {
      "cell_type": "markdown",
      "metadata": {
        "id": "O9EmXVVROaxn"
      },
      "source": [
        "A partir de septiembre las ventas rompen el nivel de 1M"
      ]
    },
    {
      "cell_type": "markdown",
      "metadata": {
        "id": "uWRnarBjGZdE"
      },
      "source": [
        "#### Clientes mensuales"
      ]
    },
    {
      "cell_type": "code",
      "metadata": {
        "id": "rvCZAH_X6HUp",
        "colab": {
          "base_uri": "https://localhost:8080/",
          "height": 322
        },
        "outputId": "d880799b-1e42-483e-b204-ef4c1d614dcd"
      },
      "source": [
        "monthly_customers = online_retail.groupby([\"date\", \"CustomerID\"]).count().reset_index()\n",
        "monthly_customers = monthly_customers[[\"date\", \"CustomerID\"]]\n",
        "monthly_customers[[\"date\", \"unique_customers\"]] = (\n",
        "    monthly_customers.groupby(\"date\")[\"CustomerID\"].count().reset_index()\n",
        ")\n",
        "\n",
        "fig, ax = plt.subplots()\n",
        "monthly_customers.plot(\n",
        "    kind=\"line\", x=\"date\", y=\"unique_customers\", ax=ax, title=\"Monthly Customers\"\n",
        ")\n",
        "plt.xticks(rotation=45)\n",
        "plt.show()\n"
      ],
      "execution_count": 60,
      "outputs": [
        {
          "output_type": "display_data",
          "data": {
            "image/png": "[encoded data removed]",
            "text/plain": [
              "<Figure size 432x288 with 1 Axes>"
            ]
          },
          "metadata": {
            "tags": []
          }
        }
      ]
    },
    {
      "cell_type": "markdown",
      "metadata": {
        "id": "rcGxOEqJez8l"
      },
      "source": [
        "# Agrupación - (Nivel Cliente)"
      ]
    },
    {
      "cell_type": "markdown",
      "metadata": {
        "id": "fxPoauPLIJmD"
      },
      "source": [
        "### Wholesaler VS Minoritary Customers"
      ]
    },
    {
      "cell_type": "code",
      "metadata": {
        "id": "SnkRTaacM0D6"
      },
      "source": [
        "customers_purchases = (\n",
        "    online_retail_purchases.groupby([\"CustomerID\"])[[\"Quantity\", \"total_sales_amount\"]]\n",
        "    .agg(\"sum\")\n",
        "    .reset_index()\n",
        ")"
      ],
      "execution_count": 61,
      "outputs": []
    },
    {
      "cell_type": "code",
      "metadata": {
        "id": "B5VVPyZbUL5T",
        "colab": {
          "base_uri": "https://localhost:8080/",
          "height": 0
        },
        "outputId": "eb42490f-07e8-429b-9ff2-8a8a94d5bd30"
      },
      "source": [
        "# Calculate Quantiles\n",
        "customers_purchases['total_sales_amount'].quantile([.25, .5, 0.75,  0.80, 0.90, 0.95 , 0.99])"
      ],
      "execution_count": 62,
      "outputs": [
        {
          "output_type": "execute_result",
          "data": {
            "text/plain": [
              "0.25      304.470\n",
              "0.50      657.300\n",
              "0.75     1600.860\n",
              "0.80     1993.382\n",
              "0.90     3521.642\n",
              "0.95     5655.926\n",
              "0.99    17679.158\n",
              "Name: total_sales_amount, dtype: float64"
            ]
          },
          "metadata": {
            "tags": []
          },
          "execution_count": 62
        }
      ]
    },
    {
      "cell_type": "code",
      "metadata": {
        "id": "qpDpAtL2Yz0c"
      },
      "source": [
        "# Threshold\n",
        "threshold = 3500"
      ],
      "execution_count": 63,
      "outputs": []
    },
    {
      "cell_type": "code",
      "metadata": {
        "id": "nuriw3vYY1dc"
      },
      "source": [
        "minority_customers = customers_purchases[\n",
        "    customers_purchases[\"total_sales_amount\"] <= threshold\n",
        "]\n",
        "\n",
        "mayority_customers = customers_purchases[\n",
        "    customers_purchases[\"total_sales_amount\"] > threshold\n",
        "]"
      ],
      "execution_count": 64,
      "outputs": []
    },
    {
      "cell_type": "code",
      "metadata": {
        "id": "z5qROkOUaXVh",
        "colab": {
          "base_uri": "https://localhost:8080/",
          "height": 265
        },
        "outputId": "d02cf2c7-cea1-4e84-c58e-96c66b203070"
      },
      "source": [
        "sns.boxplot(y=minority_customers['total_sales_amount'])"
      ],
      "execution_count": 65,
      "outputs": [
        {
          "output_type": "execute_result",
          "data": {
            "text/plain": [
              "<matplotlib.axes._subplots.AxesSubplot at 0x7fd5cdba9f90>"
            ]
          },
          "metadata": {
            "tags": []
          },
          "execution_count": 65
        },
        {
          "output_type": "display_data",
          "data": {
            "image/png": "[encoded data removed]",
            "text/plain": [
              "<Figure size 432x288 with 1 Axes>"
            ]
          },
          "metadata": {
            "tags": []
          }
        }
      ]
    },
    {
      "cell_type": "code",
      "metadata": {
        "id": "EDTr0cY85Ri6",
        "colab": {
          "base_uri": "https://localhost:8080/",
          "height": 0
        },
        "outputId": "a344bcd6-eea4-4dcb-e680-fc9372678769"
      },
      "source": [
        "minority_customers['total_sales_amount'].quantile([.25, .5, 0.75, 0.99])"
      ],
      "execution_count": 66,
      "outputs": [
        {
          "output_type": "execute_result",
          "data": {
            "text/plain": [
              "0.25     278.7400\n",
              "0.50     570.1300\n",
              "0.75    1199.0100\n",
              "0.99    3299.8928\n",
              "Name: total_sales_amount, dtype: float64"
            ]
          },
          "metadata": {
            "tags": []
          },
          "execution_count": 66
        }
      ]
    },
    {
      "cell_type": "markdown",
      "metadata": {
        "id": "RRh-aNua6RSd"
      },
      "source": [
        "El precio medio de una compra para un cliente minoritario es 570 (precio unitario), pero hay una alta dispersión según el gráfico."
      ]
    },
    {
      "cell_type": "code",
      "metadata": {
        "id": "YgEiWay_muQZ",
        "colab": {
          "base_uri": "https://localhost:8080/",
          "height": 351
        },
        "outputId": "9d9bc2b6-d09a-4a36-e04b-944a7a387f77"
      },
      "source": [
        "sns.distplot(a=minority_customers['total_sales_amount'], hist=True, kde=False, rug=False )"
      ],
      "execution_count": 67,
      "outputs": [
        {
          "output_type": "stream",
          "text": [
            "/usr/local/lib/python3.7/dist-packages/seaborn/distributions.py:2557: FutureWarning: `distplot` is a deprecated function and will be removed in a future version. Please adapt your code to use either `displot` (a figure-level function with similar flexibility) or `histplot` (an axes-level function for histograms).\n",
            "  warnings.warn(msg, FutureWarning)\n"
          ],
          "name": "stderr"
        },
        {
          "output_type": "execute_result",
          "data": {
            "text/plain": [
              "<matplotlib.axes._subplots.AxesSubplot at 0x7fd5d8c6c610>"
            ]
          },
          "metadata": {
            "tags": []
          },
          "execution_count": 67
        },
        {
          "output_type": "display_data",
          "data": {
            "image/png": "[encoded data removed]",
            "text/plain": [
              "<Figure size 432x288 with 1 Axes>"
            ]
          },
          "metadata": {
            "tags": []
          }
        }
      ]
    },
    {
      "cell_type": "markdown",
      "metadata": {
        "id": "5VfJ5ToV6-fK"
      },
      "source": [
        "Una gran mayoría de las compras de minority_customers tiende a ser de 0 a 1000 (precios unitarios) y tiende a disminuir por encima de esa cantidad."
      ]
    },
    {
      "cell_type": "markdown",
      "metadata": {
        "id": "1I-sss9iI03r"
      },
      "source": [
        "#### Ranking de Clientes"
      ]
    },
    {
      "cell_type": "code",
      "metadata": {
        "id": "8HXBAaWp7nKv",
        "colab": {
          "base_uri": "https://localhost:8080/",
          "height": 419
        },
        "outputId": "c598b4c3-f18d-464c-ca50-055c61619f83"
      },
      "source": [
        "# By total amount spent \n",
        "customers_purchases.sort_values(by=['total_sales_amount'], ascending=False)"
      ],
      "execution_count": 68,
      "outputs": [
        {
          "output_type": "execute_result",
          "data": {
            "text/html": [
              "<div>\n",
              "<style scoped>\n",
              "    .dataframe tbody tr th:only-of-type {\n",
              "        vertical-align: middle;\n",
              "    }\n",
              "\n",
              "    .dataframe tbody tr th {\n",
              "        vertical-align: top;\n",
              "    }\n",
              "\n",
              "    .dataframe thead th {\n",
              "        text-align: right;\n",
              "    }\n",
              "</style>\n",
              "<table border=\"1\" class=\"dataframe\">\n",
              "  <thead>\n",
              "    <tr style=\"text-align: right;\">\n",
              "      <th></th>\n",
              "      <th>CustomerID</th>\n",
              "      <th>Quantity</th>\n",
              "      <th>total_sales_amount</th>\n",
              "    </tr>\n",
              "  </thead>\n",
              "  <tbody>\n",
              "    <tr>\n",
              "      <th>1671</th>\n",
              "      <td>14646</td>\n",
              "      <td>188957</td>\n",
              "      <td>268478.00</td>\n",
              "    </tr>\n",
              "    <tr>\n",
              "      <th>4161</th>\n",
              "      <td>18102</td>\n",
              "      <td>61426</td>\n",
              "      <td>248171.76</td>\n",
              "    </tr>\n",
              "    <tr>\n",
              "      <th>3692</th>\n",
              "      <td>17450</td>\n",
              "      <td>69273</td>\n",
              "      <td>192988.39</td>\n",
              "    </tr>\n",
              "    <tr>\n",
              "      <th>1860</th>\n",
              "      <td>14911</td>\n",
              "      <td>76319</td>\n",
              "      <td>136846.14</td>\n",
              "    </tr>\n",
              "    <tr>\n",
              "      <th>54</th>\n",
              "      <td>12415</td>\n",
              "      <td>77374</td>\n",
              "      <td>124914.53</td>\n",
              "    </tr>\n",
              "    <tr>\n",
              "      <th>...</th>\n",
              "      <td>...</td>\n",
              "      <td>...</td>\n",
              "      <td>...</td>\n",
              "    </tr>\n",
              "    <tr>\n",
              "      <th>4059</th>\n",
              "      <td>17956</td>\n",
              "      <td>1</td>\n",
              "      <td>12.75</td>\n",
              "    </tr>\n",
              "    <tr>\n",
              "      <th>2985</th>\n",
              "      <td>16454</td>\n",
              "      <td>3</td>\n",
              "      <td>6.90</td>\n",
              "    </tr>\n",
              "    <tr>\n",
              "      <th>1775</th>\n",
              "      <td>14792</td>\n",
              "      <td>2</td>\n",
              "      <td>6.20</td>\n",
              "    </tr>\n",
              "    <tr>\n",
              "      <th>3184</th>\n",
              "      <td>16738</td>\n",
              "      <td>3</td>\n",
              "      <td>3.75</td>\n",
              "    </tr>\n",
              "    <tr>\n",
              "      <th>2979</th>\n",
              "      <td>16446</td>\n",
              "      <td>2</td>\n",
              "      <td>2.90</td>\n",
              "    </tr>\n",
              "  </tbody>\n",
              "</table>\n",
              "<p>4297 rows × 3 columns</p>\n",
              "</div>"
            ],
            "text/plain": [
              "     CustomerID  Quantity  total_sales_amount\n",
              "1671      14646    188957           268478.00\n",
              "4161      18102     61426           248171.76\n",
              "3692      17450     69273           192988.39\n",
              "1860      14911     76319           136846.14\n",
              "54        12415     77374           124914.53\n",
              "...         ...       ...                 ...\n",
              "4059      17956         1               12.75\n",
              "2985      16454         3                6.90\n",
              "1775      14792         2                6.20\n",
              "3184      16738         3                3.75\n",
              "2979      16446         2                2.90\n",
              "\n",
              "[4297 rows x 3 columns]"
            ]
          },
          "metadata": {
            "tags": []
          },
          "execution_count": 68
        }
      ]
    },
    {
      "cell_type": "markdown",
      "metadata": {
        "id": "X75eFaAFIcwe"
      },
      "source": [
        "### Cancelaciones"
      ]
    },
    {
      "cell_type": "code",
      "metadata": {
        "id": "uYKkyK856O2J",
        "colab": {
          "base_uri": "https://localhost:8080/",
          "height": 298
        },
        "outputId": "cf1d8004-1462-4020-e146-879c692cfe12"
      },
      "source": [
        "cancelations = online_retail[online_retail[\"cancelation\"] == True]\n",
        "\n",
        "# Graph with the number of Invoices that are cancelations vs purchases\n",
        "online_retail.cancelation.value_counts().sort_values().plot(\n",
        "    kind=\"barh\", title=\"Purchase Cancelled\"\n",
        ")"
      ],
      "execution_count": 69,
      "outputs": [
        {
          "output_type": "execute_result",
          "data": {
            "text/plain": [
              "<matplotlib.axes._subplots.AxesSubplot at 0x7fd5d7cfc590>"
            ]
          },
          "metadata": {
            "tags": []
          },
          "execution_count": 69
        },
        {
          "output_type": "display_data",
          "data": {
            "image/png": "[encoded data removed]",
            "text/plain": [
              "<Figure size 432x288 with 1 Axes>"
            ]
          },
          "metadata": {
            "tags": []
          }
        }
      ]
    },
    {
      "cell_type": "markdown",
      "metadata": {
        "id": "EJdIXm6jm_z7"
      },
      "source": [
        "Una pequeña cantidad de las compras son canceladas. "
      ]
    },
    {
      "cell_type": "markdown",
      "metadata": {
        "id": "KoKI3GBdcHgU"
      },
      "source": [
        "## Paises "
      ]
    },
    {
      "cell_type": "markdown",
      "metadata": {
        "id": "0f4jUdXbGlkM"
      },
      "source": [
        "#### Top 10 - Compras por pais"
      ]
    },
    {
      "cell_type": "code",
      "metadata": {
        "id": "bNeffQ_RBokh"
      },
      "source": [
        "top_ten_countries = online_retail['Country'].value_counts()\n",
        "top_ten_countries = top_ten_countries.iloc[0:11]"
      ],
      "execution_count": 70,
      "outputs": []
    },
    {
      "cell_type": "code",
      "metadata": {
        "id": "Qbi9vSo230fD",
        "colab": {
          "base_uri": "https://localhost:8080/",
          "height": 369
        },
        "outputId": "1613ee43-aaf5-445e-881a-afd934e496e4"
      },
      "source": [
        "top_ten_countries.plot(kind='bar', title = 'Top 10 - Purchases by Country')"
      ],
      "execution_count": 71,
      "outputs": [
        {
          "output_type": "execute_result",
          "data": {
            "text/plain": [
              "<matplotlib.axes._subplots.AxesSubplot at 0x7fd5cdb35e50>"
            ]
          },
          "metadata": {
            "tags": []
          },
          "execution_count": 71
        },
        {
          "output_type": "display_data",
          "data": {
            "image/png": "[encoded data removed]",
            "text/plain": [
              "<Figure size 432x288 with 1 Axes>"
            ]
          },
          "metadata": {
            "tags": []
          }
        }
      ]
    },
    {
      "cell_type": "markdown",
      "metadata": {
        "id": "pU4VTKpFB4M0"
      },
      "source": [
        "La mayoría de las compras provienen del Reino Unido, pero teniendo en cuenta\n",
        "ese minorista es de Reino Unido se espera este comportamiento"
      ]
    },
    {
      "cell_type": "markdown",
      "metadata": {
        "id": "W2DU8AGgKvpk"
      },
      "source": [
        "# Productos "
      ]
    },
    {
      "cell_type": "markdown",
      "metadata": {
        "id": "1HxkLh-0JRdS"
      },
      "source": [
        "#### Top 10 productos\n",
        "\n",
        "Productos más vendidos"
      ]
    },
    {
      "cell_type": "code",
      "metadata": {
        "id": "1qONYyZIQpMP"
      },
      "source": [
        "products = (\n",
        "    online_retail_purchases.groupby([\"StockCode\", \"Description\"])[[\"Quantity\"]]\n",
        "    .agg(\"sum\")\n",
        "    .reset_index()\n",
        ")"
      ],
      "execution_count": 72,
      "outputs": []
    },
    {
      "cell_type": "code",
      "metadata": {
        "id": "7w6f2laJRGqA",
        "colab": {
          "base_uri": "https://localhost:8080/",
          "height": 359
        },
        "outputId": "1bceb2ee-7447-4283-afc6-01e7acbdf2b7"
      },
      "source": [
        "products.sort_values(by=['Quantity'], ascending=False)[0:10]"
      ],
      "execution_count": 73,
      "outputs": [
        {
          "output_type": "execute_result",
          "data": {
            "text/html": [
              "<div>\n",
              "<style scoped>\n",
              "    .dataframe tbody tr th:only-of-type {\n",
              "        vertical-align: middle;\n",
              "    }\n",
              "\n",
              "    .dataframe tbody tr th {\n",
              "        vertical-align: top;\n",
              "    }\n",
              "\n",
              "    .dataframe thead th {\n",
              "        text-align: right;\n",
              "    }\n",
              "</style>\n",
              "<table border=\"1\" class=\"dataframe\">\n",
              "  <thead>\n",
              "    <tr style=\"text-align: right;\">\n",
              "      <th></th>\n",
              "      <th>StockCode</th>\n",
              "      <th>Description</th>\n",
              "      <th>Quantity</th>\n",
              "    </tr>\n",
              "  </thead>\n",
              "  <tbody>\n",
              "    <tr>\n",
              "      <th>2123</th>\n",
              "      <td>23166</td>\n",
              "      <td>MEDIUM CERAMIC TOP STORAGE JAR</td>\n",
              "      <td>77826</td>\n",
              "    </tr>\n",
              "    <tr>\n",
              "      <th>3126</th>\n",
              "      <td>84077</td>\n",
              "      <td>WORLD WAR 2 GLIDERS ASSTD DESIGNS</td>\n",
              "      <td>53680</td>\n",
              "    </tr>\n",
              "    <tr>\n",
              "      <th>3617</th>\n",
              "      <td>85099B</td>\n",
              "      <td>JUMBO BAG RED RETROSPOT</td>\n",
              "      <td>47369</td>\n",
              "    </tr>\n",
              "    <tr>\n",
              "      <th>3637</th>\n",
              "      <td>85123A</td>\n",
              "      <td>WHITE HANGING HEART T-LIGHT HOLDER</td>\n",
              "      <td>36845</td>\n",
              "    </tr>\n",
              "    <tr>\n",
              "      <th>448</th>\n",
              "      <td>21212</td>\n",
              "      <td>PACK OF 72 RETROSPOT CAKE CASES</td>\n",
              "      <td>35960</td>\n",
              "    </tr>\n",
              "    <tr>\n",
              "      <th>3414</th>\n",
              "      <td>84879</td>\n",
              "      <td>ASSORTED COLOUR BIRD ORNAMENT</td>\n",
              "      <td>35131</td>\n",
              "    </tr>\n",
              "    <tr>\n",
              "      <th>1129</th>\n",
              "      <td>22197</td>\n",
              "      <td>POPCORN HOLDER</td>\n",
              "      <td>30544</td>\n",
              "    </tr>\n",
              "    <tr>\n",
              "      <th>2029</th>\n",
              "      <td>23084</td>\n",
              "      <td>RABBIT NIGHT LIGHT</td>\n",
              "      <td>26477</td>\n",
              "    </tr>\n",
              "    <tr>\n",
              "      <th>1405</th>\n",
              "      <td>22492</td>\n",
              "      <td>MINI PAINT SET VINTAGE</td>\n",
              "      <td>26341</td>\n",
              "    </tr>\n",
              "    <tr>\n",
              "      <th>1528</th>\n",
              "      <td>22616</td>\n",
              "      <td>PACK OF 12 LONDON TISSUES</td>\n",
              "      <td>25512</td>\n",
              "    </tr>\n",
              "  </tbody>\n",
              "</table>\n",
              "</div>"
            ],
            "text/plain": [
              "     StockCode                         Description  Quantity\n",
              "2123     23166      MEDIUM CERAMIC TOP STORAGE JAR     77826\n",
              "3126     84077   WORLD WAR 2 GLIDERS ASSTD DESIGNS     53680\n",
              "3617    85099B             JUMBO BAG RED RETROSPOT     47369\n",
              "3637    85123A  WHITE HANGING HEART T-LIGHT HOLDER     36845\n",
              "448      21212     PACK OF 72 RETROSPOT CAKE CASES     35960\n",
              "3414     84879       ASSORTED COLOUR BIRD ORNAMENT     35131\n",
              "1129     22197                      POPCORN HOLDER     30544\n",
              "2029     23084                  RABBIT NIGHT LIGHT     26477\n",
              "1405     22492             MINI PAINT SET VINTAGE      26341\n",
              "1528     22616          PACK OF 12 LONDON TISSUES      25512"
            ]
          },
          "metadata": {
            "tags": []
          },
          "execution_count": 73
        }
      ]
    },
    {
      "cell_type": "markdown",
      "metadata": {
        "id": "YfcgHYGmliBu"
      },
      "source": [
        "## Descriptions WordCloud"
      ]
    },
    {
      "cell_type": "code",
      "metadata": {
        "id": "IQWM6kEKUR5Z"
      },
      "source": [
        "from wordcloud import WordCloud, STOPWORDS, ImageColorGenerator"
      ],
      "execution_count": 74,
      "outputs": []
    },
    {
      "cell_type": "code",
      "metadata": {
        "id": "n5TMosI6Uw7G"
      },
      "source": [
        "descriptions = online_retail_purchases.Description.str.cat(sep=' ')"
      ],
      "execution_count": 75,
      "outputs": []
    },
    {
      "cell_type": "code",
      "metadata": {
        "id": "fU9Cv9aNUCtX",
        "colab": {
          "base_uri": "https://localhost:8080/",
          "height": 198
        },
        "outputId": "9873f830-aa5e-4e6a-fcbd-daf2630cdca3"
      },
      "source": [
        "# Start with one review:\n",
        "text = descriptions\n",
        "\n",
        "# Create and generate a word cloud image:\n",
        "wordcloud = WordCloud().generate(text)\n",
        "\n",
        "# Display the generated image:\n",
        "plt.imshow(wordcloud, interpolation='bilinear')\n",
        "plt.axis(\"off\")\n",
        "plt.show()"
      ],
      "execution_count": 76,
      "outputs": [
        {
          "output_type": "display_data",
          "data": {
            "image/png": "[encoded data removed]",
            "text/plain": [
              "<Figure size 432x288 with 1 Axes>"
            ]
          },
          "metadata": {
            "tags": []
          }
        }
      ]
    },
    {
      "cell_type": "markdown",
      "metadata": {
        "id": "eiyc4Kz_Vejs"
      },
      "source": [
        "\n",
        "Al observar la nube de palabras, reafirma que la empresa vende todos los obsequios de ubicación y color `rojo`, `bolsas` son palabras importantes en este contexto"
      ]
    },
    {
      "cell_type": "markdown",
      "metadata": {
        "id": "tZ1fQ4_NiJVc"
      },
      "source": [
        "-----------"
      ]
    }
  ]
}